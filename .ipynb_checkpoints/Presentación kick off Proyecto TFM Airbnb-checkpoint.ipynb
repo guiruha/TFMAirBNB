{
 "cells": [
  {
   "cell_type": "markdown",
   "metadata": {},
   "source": [
    "## Proyecto TMFAirbnb"
   ]
  },
  {
   "cell_type": "markdown",
   "metadata": {},
   "source": [
    "<img src = \"TFMAirBNB steps.png\">"
   ]
  },
  {
   "cell_type": "markdown",
   "metadata": {},
   "source": [
    "### IDEA PRINCIPAL DEL PROYECTO\n",
    "\n",
    "Todos conocemos Airbnb, pero para refrescaros la memoria, a grandes rasgos es un portal web que te permite alquilar pisos vacacionales u otros alojamientos similares (aunque principalmente sus clientes son personas que buscan poner su piso en alquiler para turistas).\n",
    "\n",
    "Como decidir que precio poner a tu alquiler puede ser muy difícil para los afintriones menos experimentados, hemos decidido desarrollar un proyecto de Machine Learning que intente predecir de la mejor manera posible que precio se deberia ajustar dadas las características del piso (E.G: nº de habitaciones, barrio o incluso que servicios adicionales se ofrecen)."
   ]
  },
  {
   "cell_type": "markdown",
   "metadata": {},
   "source": [
    "### DataSet \n",
    "\n",
    "Los datos han sido recopilados de una página llamada Inside Airbnb, la cual hace un \"scraping\" de todas las ofertas públicas en la pagina web de Airbnb. En concreto, hemos realizado una recopilación de las ofertas disponibles para la ciudad de Barcelona desde Abril de 2018 hasta Noviembre de 2019 (última fecha disponible).\n",
    "\n",
    "Cada fila de este dataset supone un registro o \"listing\" de una plaza en alquiler, la cúal está formada por una serie de columnas que la caracterizan.\n",
    "\n",
    "En nuestro caso la variable más importante es el ```precio```, ya que será nuestra variable dependiente, y el resto son las variables que deberan explicar (o intentar explicar) la variabilidad de los precios del dataset.\n",
    "\n",
    "\n",
    "- Datos de Airbnb\n",
    "- Meses: de Abril 2018 a Noviembre 2019"
   ]
  },
  {
   "cell_type": "markdown",
   "metadata": {},
   "source": [
    "### Features "
   ]
  },
  {
   "cell_type": "code",
   "execution_count": 1,
   "metadata": {},
   "outputs": [],
   "source": [
    "initial_features = ['id', 'scrape_id', 'last_scraped', 'name', 'summary', 'space',\n",
    "       'description', 'experiences_offered', 'neighborhood_overview',\n",
    "       'transit', 'access', 'interaction', 'house_rules', 'host_id',\n",
    "       'host_name', 'host_since', 'host_location', 'host_about',\n",
    "       'host_response_time', 'host_response_rate', 'host_is_superhost',\n",
    "       'host_neighbourhood', 'host_listings_count',\n",
    "       'host_total_listings_count', 'host_verifications',\n",
    "       'host_has_profile_pic', 'host_identity_verified', 'street',\n",
    "       'neighbourhood', 'neighbourhood_cleansed',\n",
    "       'neighbourhood_group_cleansed', 'city', 'state', 'zipcode', 'market',\n",
    "       'smart_location', 'country_code', 'country', 'latitude', 'longitude',\n",
    "       'is_location_exact', 'property_type', 'room_type', 'accommodates',\n",
    "       'bathrooms', 'bedrooms', 'beds', 'bed_type', 'amenities', 'price',\n",
    "       'security_deposit', 'cleaning_fee', 'guests_included', 'extra_people',\n",
    "       'minimum_nights', 'maximum_nights', 'minimum_minimum_nights',\n",
    "       'maximum_minimum_nights', 'minimum_maximum_nights',\n",
    "       'maximum_maximum_nights', 'minimum_nights_avg_ntm',\n",
    "       'maximum_nights_avg_ntm', 'calendar_updated', 'has_availability',\n",
    "       'availability_30', 'availability_60', 'availability_90',\n",
    "       'availability_365', 'calendar_last_scraped', 'number_of_reviews',\n",
    "       'number_of_reviews_ltm', 'first_review', 'last_review',\n",
    "       'review_scores_rating', 'review_scores_accuracy',\n",
    "       'review_scores_cleanliness', 'review_scores_checkin',\n",
    "       'review_scores_communication', 'review_scores_location',\n",
    "       'review_scores_value', 'requires_license', 'license',\n",
    "       'instant_bookable', 'is_business_travel_ready', 'cancellation_policy',\n",
    "       'require_guest_profile_picture', 'require_guest_phone_verification',\n",
    "       'calculated_host_listings_count',\n",
    "       'calculated_host_listings_count_entire_homes',\n",
    "       'calculated_host_listings_count_private_rooms',\n",
    "       'calculated_host_listings_count_shared_rooms', 'reviews_per_month']"
   ]
  },
  {
   "cell_type": "markdown",
   "metadata": {},
   "source": [
    "### Features cleaned"
   ]
  },
  {
   "cell_type": "code",
   "execution_count": 2,
   "metadata": {},
   "outputs": [],
   "source": [
    "import pandas as pd\n",
    "df = pd.read_csv(\"../DadesAirBNB/cleandataset.csv\")\n",
    "df.drop('Unnamed: 0', axis = 1, inplace = True)"
   ]
  },
  {
   "cell_type": "code",
   "execution_count": 3,
   "metadata": {},
   "outputs": [
    {
     "data": {
      "text/plain": [
       "Index(['access', 'accommodates', 'availability_365', 'bathrooms', 'bed_type',\n",
       "       'bedrooms', 'beds', 'calculated_host_listings_count',\n",
       "       'cancellation_policy', 'cleaning_fee', 'description', 'extra_people',\n",
       "       'guests_included', 'host_has_profile_pic', 'host_identity_verified',\n",
       "       'host_is_superhost', 'host_response_time', 'host_since',\n",
       "       'host_total_listings_count', 'house_rules', 'instant_bookable',\n",
       "       'interaction', 'is_business_travel_ready', 'is_location_exact',\n",
       "       'latitude', 'longitude', 'maximum_nights', 'minimum_nights', 'name',\n",
       "       'neighborhood_overview', 'neighbourhood_group_cleansed',\n",
       "       'number_of_reviews', 'price', 'property_type',\n",
       "       'require_guest_phone_verification', 'require_guest_profile_picture',\n",
       "       'requires_license', 'review_scores_accuracy', 'review_scores_checkin',\n",
       "       'review_scores_cleanliness', 'review_scores_communication',\n",
       "       'review_scores_location', 'review_scores_rating', 'review_scores_value',\n",
       "       'reviews_per_month', 'room_type', 'security_deposit', 'space',\n",
       "       'summary', 'transit', 'year', 'month', 'host_emailverified',\n",
       "       'host_phoneverified', 'host_hasjumio', 'host_reviewverified',\n",
       "       'host_selfieverified', 'Air conditioning', 'Family/kid friendly',\n",
       "       'Host greets you', 'Laptop friendly workspace',\n",
       "       'Paid parking off premises', 'Patio or balcony',\n",
       "       'Luggage dropoff allowed', 'Long term stays allowed', 'Smoking allowed',\n",
       "       'Step-free access', 'Paid parking on premises'],\n",
       "      dtype='object')"
      ]
     },
     "execution_count": 3,
     "metadata": {},
     "output_type": "execute_result"
    }
   ],
   "source": [
    "df.columns"
   ]
  },
  {
   "cell_type": "code",
   "execution_count": 4,
   "metadata": {},
   "outputs": [
    {
     "data": {
      "text/plain": [
       "(92, 68)"
      ]
     },
     "execution_count": 4,
     "metadata": {},
     "output_type": "execute_result"
    }
   ],
   "source": [
    "len(initial_features), len(df.columns)"
   ]
  },
  {
   "cell_type": "code",
   "execution_count": 5,
   "metadata": {},
   "outputs": [],
   "source": [
    "strCol = df.columns[df.dtypes == \"object\"]\n",
    "noStrCol = df.columns[df.dtypes != \"object\"]"
   ]
  },
  {
   "cell_type": "markdown",
   "metadata": {},
   "source": [
    "**Variables de tipo str / object**"
   ]
  },
  {
   "cell_type": "code",
   "execution_count": 6,
   "metadata": {},
   "outputs": [
    {
     "data": {
      "text/plain": [
       "Index(['access', 'bed_type', 'cancellation_policy', 'description',\n",
       "       'host_response_time', 'host_since', 'house_rules', 'interaction',\n",
       "       'name', 'neighborhood_overview', 'neighbourhood_group_cleansed',\n",
       "       'property_type', 'room_type', 'space', 'summary', 'transit'],\n",
       "      dtype='object')"
      ]
     },
     "execution_count": 6,
     "metadata": {},
     "output_type": "execute_result"
    }
   ],
   "source": [
    "strCol"
   ]
  },
  {
   "cell_type": "markdown",
   "metadata": {},
   "source": [
    "```access```: Columna en la que los host describen las zonas donde el huésped podrá acceder durante su estancia.\n",
    "\n",
    "```description```: Descripción general del piso o alojamiento.\n",
    "\n",
    "```host_since```: Año en que el huésped entro en AirBNB.\n",
    "\n",
    "```house_rules```: Descripción de las reglas del piso."
   ]
  },
  {
   "cell_type": "code",
   "execution_count": 7,
   "metadata": {},
   "outputs": [
    {
     "data": {
      "text/html": [
       "<div>\n",
       "<style scoped>\n",
       "    .dataframe tbody tr th:only-of-type {\n",
       "        vertical-align: middle;\n",
       "    }\n",
       "\n",
       "    .dataframe tbody tr th {\n",
       "        vertical-align: top;\n",
       "    }\n",
       "\n",
       "    .dataframe thead th {\n",
       "        text-align: right;\n",
       "    }\n",
       "</style>\n",
       "<table border=\"1\" class=\"dataframe\">\n",
       "  <thead>\n",
       "    <tr style=\"text-align: right;\">\n",
       "      <th></th>\n",
       "      <th>access</th>\n",
       "      <th>description</th>\n",
       "      <th>host_since</th>\n",
       "      <th>house_rules</th>\n",
       "    </tr>\n",
       "  </thead>\n",
       "  <tbody>\n",
       "    <tr>\n",
       "      <th>9551</th>\n",
       "      <td>Cocina, baño, terraza, lavadora( solo para hué...</td>\n",
       "      <td>Centrico, plaza España, aeropuerto, mar, monta...</td>\n",
       "      <td>2016-07-12</td>\n",
       "      <td>Fumar en la terraza, mantener limpia las zonas...</td>\n",
       "    </tr>\n",
       "    <tr>\n",
       "      <th>212430</th>\n",
       "      <td>NaN</td>\n",
       "      <td>Spacious and charming flat in a very centric a...</td>\n",
       "      <td>2016-05-25</td>\n",
       "      <td>NaN</td>\n",
       "    </tr>\n",
       "    <tr>\n",
       "      <th>236960</th>\n",
       "      <td>The Guests will have access to the entire apar...</td>\n",
       "      <td>Chilling flat for 4 persons in Gracia. The apa...</td>\n",
       "      <td>2011-11-10</td>\n",
       "      <td>Por favor lee las normas ENTERAS para estar to...</td>\n",
       "    </tr>\n",
       "    <tr>\n",
       "      <th>143082</th>\n",
       "      <td>NaN</td>\n",
       "      <td>Habitación privada para dos personas y compart...</td>\n",
       "      <td>2018-03-04</td>\n",
       "      <td>- De 22:00 a 08:00 respetar el descanso de los...</td>\n",
       "    </tr>\n",
       "    <tr>\n",
       "      <th>59449</th>\n",
       "      <td>All the common areas and their room</td>\n",
       "      <td>Hi everybody!!  My name is Chiara, I am from I...</td>\n",
       "      <td>2012-09-02</td>\n",
       "      <td>After 12 pm at night we require no severe nois...</td>\n",
       "    </tr>\n",
       "  </tbody>\n",
       "</table>\n",
       "</div>"
      ],
      "text/plain": [
       "                                                   access  \\\n",
       "9551    Cocina, baño, terraza, lavadora( solo para hué...   \n",
       "212430                                                NaN   \n",
       "236960  The Guests will have access to the entire apar...   \n",
       "143082                                                NaN   \n",
       "59449                 All the common areas and their room   \n",
       "\n",
       "                                              description  host_since  \\\n",
       "9551    Centrico, plaza España, aeropuerto, mar, monta...  2016-07-12   \n",
       "212430  Spacious and charming flat in a very centric a...  2016-05-25   \n",
       "236960  Chilling flat for 4 persons in Gracia. The apa...  2011-11-10   \n",
       "143082  Habitación privada para dos personas y compart...  2018-03-04   \n",
       "59449   Hi everybody!!  My name is Chiara, I am from I...  2012-09-02   \n",
       "\n",
       "                                              house_rules  \n",
       "9551    Fumar en la terraza, mantener limpia las zonas...  \n",
       "212430                                                NaN  \n",
       "236960  Por favor lee las normas ENTERAS para estar to...  \n",
       "143082  - De 22:00 a 08:00 respetar el descanso de los...  \n",
       "59449   After 12 pm at night we require no severe nois...  "
      ]
     },
     "execution_count": 7,
     "metadata": {},
     "output_type": "execute_result"
    }
   ],
   "source": [
    "df[['access', 'description', 'host_since', 'house_rules']].sample(5)"
   ]
  },
  {
   "cell_type": "markdown",
   "metadata": {},
   "source": [
    "```interaction```: Columna un poco variopinta, en ella los hosts tratan de describir como reciben a los huéspedes, si respetan la intimidad, etc.\n",
    "\n",
    "```space```: Descripción de como son las habitaciones y lugares comunes del alojamiento\n",
    "\n",
    "```neighborhood_overview```: Breve descripción de como es el barrio donde está localizado el alojamiento"
   ]
  },
  {
   "cell_type": "code",
   "execution_count": 8,
   "metadata": {},
   "outputs": [
    {
     "data": {
      "text/html": [
       "<div>\n",
       "<style scoped>\n",
       "    .dataframe tbody tr th:only-of-type {\n",
       "        vertical-align: middle;\n",
       "    }\n",
       "\n",
       "    .dataframe tbody tr th {\n",
       "        vertical-align: top;\n",
       "    }\n",
       "\n",
       "    .dataframe thead th {\n",
       "        text-align: right;\n",
       "    }\n",
       "</style>\n",
       "<table border=\"1\" class=\"dataframe\">\n",
       "  <thead>\n",
       "    <tr style=\"text-align: right;\">\n",
       "      <th></th>\n",
       "      <th>interaction</th>\n",
       "      <th>transit</th>\n",
       "      <th>space</th>\n",
       "    </tr>\n",
       "  </thead>\n",
       "  <tbody>\n",
       "    <tr>\n",
       "      <th>19695</th>\n",
       "      <td>NaN</td>\n",
       "      <td>The apartment is a 5 minute walk away from Uni...</td>\n",
       "      <td>This lovely apartment boasts plenty of charact...</td>\n",
       "    </tr>\n",
       "    <tr>\n",
       "      <th>214707</th>\n",
       "      <td>NaN</td>\n",
       "      <td>Muy cerca del metro UNIVERSITAT y PLAZA CATALUNYA</td>\n",
       "      <td>NaN</td>\n",
       "    </tr>\n",
       "    <tr>\n",
       "      <th>68729</th>\n",
       "      <td>NaN</td>\n",
       "      <td>NaN</td>\n",
       "      <td>NaN</td>\n",
       "    </tr>\n",
       "    <tr>\n",
       "      <th>123925</th>\n",
       "      <td>We are available 24hs on the phone.</td>\n",
       "      <td>A 400 mts del edificio esta el metro JOANIC (L...</td>\n",
       "      <td>This comfortable apartment can easily accommod...</td>\n",
       "    </tr>\n",
       "    <tr>\n",
       "      <th>261417</th>\n",
       "      <td>Disponibilidad total</td>\n",
       "      <td>Metro línea 5 y 4 que ambas en 10 minutos está...</td>\n",
       "      <td>Cuenta con terraza de 12m2 la cual tiene sol t...</td>\n",
       "    </tr>\n",
       "  </tbody>\n",
       "</table>\n",
       "</div>"
      ],
      "text/plain": [
       "                                interaction  \\\n",
       "19695                                   NaN   \n",
       "214707                                  NaN   \n",
       "68729                                   NaN   \n",
       "123925  We are available 24hs on the phone.   \n",
       "261417                 Disponibilidad total   \n",
       "\n",
       "                                                  transit  \\\n",
       "19695   The apartment is a 5 minute walk away from Uni...   \n",
       "214707  Muy cerca del metro UNIVERSITAT y PLAZA CATALUNYA   \n",
       "68729                                                 NaN   \n",
       "123925  A 400 mts del edificio esta el metro JOANIC (L...   \n",
       "261417  Metro línea 5 y 4 que ambas en 10 minutos está...   \n",
       "\n",
       "                                                    space  \n",
       "19695   This lovely apartment boasts plenty of charact...  \n",
       "214707                                                NaN  \n",
       "68729                                                 NaN  \n",
       "123925  This comfortable apartment can easily accommod...  \n",
       "261417  Cuenta con terraza de 12m2 la cual tiene sol t...  "
      ]
     },
     "execution_count": 8,
     "metadata": {},
     "output_type": "execute_result"
    }
   ],
   "source": [
    "df[['interaction', 'transit', 'space']].sample(5)"
   ]
  },
  {
   "cell_type": "markdown",
   "metadata": {},
   "source": [
    "```name```: Nombre del 'listing', puede ser clave si utilizamos NLP\n",
    "\n",
    "```summary```: Resumen que amplía la breve descripción que pueden poner en la columna del nombre.\n",
    "\n",
    "```transit```: Acceso a medios de transporte desde los alrededores del alojamiento"
   ]
  },
  {
   "cell_type": "code",
   "execution_count": 9,
   "metadata": {},
   "outputs": [
    {
     "data": {
      "text/html": [
       "<div>\n",
       "<style scoped>\n",
       "    .dataframe tbody tr th:only-of-type {\n",
       "        vertical-align: middle;\n",
       "    }\n",
       "\n",
       "    .dataframe tbody tr th {\n",
       "        vertical-align: top;\n",
       "    }\n",
       "\n",
       "    .dataframe thead th {\n",
       "        text-align: right;\n",
       "    }\n",
       "</style>\n",
       "<table border=\"1\" class=\"dataframe\">\n",
       "  <thead>\n",
       "    <tr style=\"text-align: right;\">\n",
       "      <th></th>\n",
       "      <th>name</th>\n",
       "      <th>summary</th>\n",
       "      <th>neighborhood_overview</th>\n",
       "    </tr>\n",
       "  </thead>\n",
       "  <tbody>\n",
       "    <tr>\n",
       "      <th>151893</th>\n",
       "      <td>Sunny, Cozy Room In Barcelona Next To Plaza Es...</td>\n",
       "      <td>Simple, comfortable private room located near ...</td>\n",
       "      <td>The apartment is located next to Plaza España,...</td>\n",
       "    </tr>\n",
       "    <tr>\n",
       "      <th>16489</th>\n",
       "      <td>Sagrada Familia quality big Red</td>\n",
       "      <td>Quality comfort in the center of Barcelona.  P...</td>\n",
       "      <td>NaN</td>\n",
       "    </tr>\n",
       "    <tr>\n",
       "      <th>92280</th>\n",
       "      <td>Have you seen these Amazing views? 5' Ramblas/Sea</td>\n",
       "      <td>Perfect for Business and family holidays in a ...</td>\n",
       "      <td>Neighborhood in the center of Barcelona, next ...</td>\n",
       "    </tr>\n",
       "    <tr>\n",
       "      <th>167761</th>\n",
       "      <td>Sunny and spacious two room appartment</td>\n",
       "      <td>Apartamento con mucha luz y espacios amplios. ...</td>\n",
       "      <td>NaN</td>\n",
       "    </tr>\n",
       "    <tr>\n",
       "      <th>47093</th>\n",
       "      <td>Casa del pi Private double room !</td>\n",
       "      <td>Enjoy this double bedroom with all modern conv...</td>\n",
       "      <td>You won't find a better location ! The Gotic a...</td>\n",
       "    </tr>\n",
       "  </tbody>\n",
       "</table>\n",
       "</div>"
      ],
      "text/plain": [
       "                                                     name  \\\n",
       "151893  Sunny, Cozy Room In Barcelona Next To Plaza Es...   \n",
       "16489                     Sagrada Familia quality big Red   \n",
       "92280   Have you seen these Amazing views? 5' Ramblas/Sea   \n",
       "167761             Sunny and spacious two room appartment   \n",
       "47093                   Casa del pi Private double room !   \n",
       "\n",
       "                                                  summary  \\\n",
       "151893  Simple, comfortable private room located near ...   \n",
       "16489   Quality comfort in the center of Barcelona.  P...   \n",
       "92280   Perfect for Business and family holidays in a ...   \n",
       "167761  Apartamento con mucha luz y espacios amplios. ...   \n",
       "47093   Enjoy this double bedroom with all modern conv...   \n",
       "\n",
       "                                    neighborhood_overview  \n",
       "151893  The apartment is located next to Plaza España,...  \n",
       "16489                                                 NaN  \n",
       "92280   Neighborhood in the center of Barcelona, next ...  \n",
       "167761                                                NaN  \n",
       "47093   You won't find a better location ! The Gotic a...  "
      ]
     },
     "execution_count": 9,
     "metadata": {},
     "output_type": "execute_result"
    }
   ],
   "source": [
    "df[['name', 'summary', 'neighborhood_overview']].sample(5)"
   ]
  },
  {
   "cell_type": "markdown",
   "metadata": {},
   "source": [
    "```bed_type```: Como su nombre indica es una column categórica sobre el tipo de cama, impera el tipo \"Real Bed\".\n",
    "\n",
    "```cancellation_policy```: Esta columna presentaba varios tipos de cancelación disponibles y los hemos reducido a las siguientes categorias.\n",
    "\n",
    "```neighbourhood_group_cleansed```: Nombre del barrio donde se situa el alojamiento, entre las tres columnas de barrio elejimos esta porque es la más general y más limpia de todas.\n",
    "\n",
    "```property_type```: columna que categorizaba el tipo de alojamiento que hemos resumido en unas pocas categorias.\n",
    "\n",
    "```room_type```"
   ]
  },
  {
   "cell_type": "code",
   "execution_count": 10,
   "metadata": {},
   "outputs": [
    {
     "data": {
      "text/plain": [
       "within an hour        183728\n",
       "within a few hours     42003\n",
       "undetermined           40460\n",
       "within a day           23642\n",
       "a few days or more      3727\n",
       "Name: host_response_time, dtype: int64"
      ]
     },
     "execution_count": 10,
     "metadata": {},
     "output_type": "execute_result"
    }
   ],
   "source": [
    "df['host_response_time'].value_counts()"
   ]
  },
  {
   "cell_type": "code",
   "execution_count": 11,
   "metadata": {},
   "outputs": [
    {
     "data": {
      "text/plain": [
       "Real Bed         290870\n",
       "Pull-out Sofa      1889\n",
       "Futon               622\n",
       "Couch               116\n",
       "Airbed               63\n",
       "Name: bed_type, dtype: int64"
      ]
     },
     "execution_count": 11,
     "metadata": {},
     "output_type": "execute_result"
    }
   ],
   "source": [
    "df['bed_type'].value_counts()"
   ]
  },
  {
   "cell_type": "code",
   "execution_count": 12,
   "metadata": {},
   "outputs": [
    {
     "data": {
      "text/plain": [
       "strict_less30      152273\n",
       "moderate            81939\n",
       "flexible            57308\n",
       "strict_30orMore      2040\n",
       "Name: cancellation_policy, dtype: int64"
      ]
     },
     "execution_count": 12,
     "metadata": {},
     "output_type": "execute_result"
    }
   ],
   "source": [
    "df['cancellation_policy'].value_counts()"
   ]
  },
  {
   "cell_type": "code",
   "execution_count": 13,
   "metadata": {},
   "outputs": [
    {
     "data": {
      "text/plain": [
       "Eixample               102318\n",
       "Ciutat Vella            62783\n",
       "Sants-Montjuïc          35232\n",
       "Sant Martí              33697\n",
       "Gràcia                  25752\n",
       "Sarrià-Sant Gervasi      9850\n",
       "Horta-Guinardó           9570\n",
       "Les Corts                6323\n",
       "Sant Andreu              4698\n",
       "Nou Barris               3337\n",
       "Name: neighbourhood_group_cleansed, dtype: int64"
      ]
     },
     "execution_count": 13,
     "metadata": {},
     "output_type": "execute_result"
    }
   ],
   "source": [
    "df['neighbourhood_group_cleansed'].value_counts()"
   ]
  },
  {
   "cell_type": "code",
   "execution_count": 14,
   "metadata": {},
   "outputs": [
    {
     "data": {
      "text/plain": [
       "apartment    259891\n",
       "other         11859\n",
       "house         11764\n",
       "hostel         4979\n",
       "hotel          4034\n",
       "boat            738\n",
       "villa           295\n",
       "Name: property_type, dtype: int64"
      ]
     },
     "execution_count": 14,
     "metadata": {},
     "output_type": "execute_result"
    }
   ],
   "source": [
    "df['property_type'].value_counts()"
   ]
  },
  {
   "cell_type": "code",
   "execution_count": 15,
   "metadata": {},
   "outputs": [
    {
     "data": {
      "text/plain": [
       "Private room       155630\n",
       "Entire home/apt    134127\n",
       "Shared room          2244\n",
       "Hotel room           1559\n",
       "Name: room_type, dtype: int64"
      ]
     },
     "execution_count": 15,
     "metadata": {},
     "output_type": "execute_result"
    }
   ],
   "source": [
    "df['room_type'].value_counts()"
   ]
  },
  {
   "cell_type": "markdown",
   "metadata": {},
   "source": [
    "**Variables númericas**"
   ]
  },
  {
   "cell_type": "code",
   "execution_count": 16,
   "metadata": {},
   "outputs": [
    {
     "data": {
      "text/plain": [
       "Index(['accommodates', 'availability_365', 'bathrooms', 'bedrooms', 'beds',\n",
       "       'calculated_host_listings_count', 'cleaning_fee', 'extra_people',\n",
       "       'guests_included', 'host_has_profile_pic', 'host_identity_verified',\n",
       "       'host_is_superhost', 'host_total_listings_count', 'instant_bookable',\n",
       "       'is_business_travel_ready', 'is_location_exact', 'latitude',\n",
       "       'longitude', 'maximum_nights', 'minimum_nights', 'number_of_reviews',\n",
       "       'price', 'require_guest_phone_verification',\n",
       "       'require_guest_profile_picture', 'requires_license',\n",
       "       'review_scores_accuracy', 'review_scores_checkin',\n",
       "       'review_scores_cleanliness', 'review_scores_communication',\n",
       "       'review_scores_location', 'review_scores_rating', 'review_scores_value',\n",
       "       'reviews_per_month', 'security_deposit', 'year', 'month',\n",
       "       'host_emailverified', 'host_phoneverified', 'host_hasjumio',\n",
       "       'host_reviewverified', 'host_selfieverified', 'Air conditioning',\n",
       "       'Family/kid friendly', 'Host greets you', 'Laptop friendly workspace',\n",
       "       'Paid parking off premises', 'Patio or balcony',\n",
       "       'Luggage dropoff allowed', 'Long term stays allowed', 'Smoking allowed',\n",
       "       'Step-free access', 'Paid parking on premises'],\n",
       "      dtype='object')"
      ]
     },
     "execution_count": 16,
     "metadata": {},
     "output_type": "execute_result"
    }
   ],
   "source": [
    "noStrCol"
   ]
  },
  {
   "cell_type": "code",
   "execution_count": 17,
   "metadata": {},
   "outputs": [
    {
     "data": {
      "text/html": [
       "<div>\n",
       "<style scoped>\n",
       "    .dataframe tbody tr th:only-of-type {\n",
       "        vertical-align: middle;\n",
       "    }\n",
       "\n",
       "    .dataframe tbody tr th {\n",
       "        vertical-align: top;\n",
       "    }\n",
       "\n",
       "    .dataframe thead th {\n",
       "        text-align: right;\n",
       "    }\n",
       "</style>\n",
       "<table border=\"1\" class=\"dataframe\">\n",
       "  <thead>\n",
       "    <tr style=\"text-align: right;\">\n",
       "      <th></th>\n",
       "      <th>accommodates</th>\n",
       "      <th>availability_365</th>\n",
       "      <th>bathrooms</th>\n",
       "      <th>bedrooms</th>\n",
       "      <th>beds</th>\n",
       "      <th>calculated_host_listings_count</th>\n",
       "      <th>cleaning_fee</th>\n",
       "      <th>extra_people</th>\n",
       "      <th>guests_included</th>\n",
       "    </tr>\n",
       "  </thead>\n",
       "  <tbody>\n",
       "    <tr>\n",
       "      <th>233677</th>\n",
       "      <td>2</td>\n",
       "      <td>223</td>\n",
       "      <td>1.0</td>\n",
       "      <td>1.0</td>\n",
       "      <td>1.0</td>\n",
       "      <td>1</td>\n",
       "      <td>0.0</td>\n",
       "      <td>15.0</td>\n",
       "      <td>1</td>\n",
       "    </tr>\n",
       "    <tr>\n",
       "      <th>142965</th>\n",
       "      <td>1</td>\n",
       "      <td>0</td>\n",
       "      <td>2.0</td>\n",
       "      <td>1.0</td>\n",
       "      <td>1.0</td>\n",
       "      <td>6</td>\n",
       "      <td>0.0</td>\n",
       "      <td>0.0</td>\n",
       "      <td>1</td>\n",
       "    </tr>\n",
       "    <tr>\n",
       "      <th>67458</th>\n",
       "      <td>5</td>\n",
       "      <td>267</td>\n",
       "      <td>1.0</td>\n",
       "      <td>2.0</td>\n",
       "      <td>3.0</td>\n",
       "      <td>94</td>\n",
       "      <td>0.0</td>\n",
       "      <td>0.0</td>\n",
       "      <td>1</td>\n",
       "    </tr>\n",
       "    <tr>\n",
       "      <th>83200</th>\n",
       "      <td>2</td>\n",
       "      <td>20</td>\n",
       "      <td>1.0</td>\n",
       "      <td>1.0</td>\n",
       "      <td>1.0</td>\n",
       "      <td>2</td>\n",
       "      <td>20.0</td>\n",
       "      <td>5.0</td>\n",
       "      <td>1</td>\n",
       "    </tr>\n",
       "    <tr>\n",
       "      <th>544</th>\n",
       "      <td>2</td>\n",
       "      <td>153</td>\n",
       "      <td>1.0</td>\n",
       "      <td>1.0</td>\n",
       "      <td>1.0</td>\n",
       "      <td>1</td>\n",
       "      <td>30.0</td>\n",
       "      <td>0.0</td>\n",
       "      <td>1</td>\n",
       "    </tr>\n",
       "  </tbody>\n",
       "</table>\n",
       "</div>"
      ],
      "text/plain": [
       "        accommodates  availability_365  bathrooms  bedrooms  beds  \\\n",
       "233677             2               223        1.0       1.0   1.0   \n",
       "142965             1                 0        2.0       1.0   1.0   \n",
       "67458              5               267        1.0       2.0   3.0   \n",
       "83200              2                20        1.0       1.0   1.0   \n",
       "544                2               153        1.0       1.0   1.0   \n",
       "\n",
       "        calculated_host_listings_count  cleaning_fee  extra_people  \\\n",
       "233677                               1           0.0          15.0   \n",
       "142965                               6           0.0           0.0   \n",
       "67458                               94           0.0           0.0   \n",
       "83200                                2          20.0           5.0   \n",
       "544                                  1          30.0           0.0   \n",
       "\n",
       "        guests_included  \n",
       "233677                1  \n",
       "142965                1  \n",
       "67458                 1  \n",
       "83200                 1  \n",
       "544                   1  "
      ]
     },
     "execution_count": 17,
     "metadata": {},
     "output_type": "execute_result"
    }
   ],
   "source": [
    "df[noStrCol[:9]].sample(5)"
   ]
  },
  {
   "cell_type": "code",
   "execution_count": 18,
   "metadata": {},
   "outputs": [
    {
     "data": {
      "text/html": [
       "<div>\n",
       "<style scoped>\n",
       "    .dataframe tbody tr th:only-of-type {\n",
       "        vertical-align: middle;\n",
       "    }\n",
       "\n",
       "    .dataframe tbody tr th {\n",
       "        vertical-align: top;\n",
       "    }\n",
       "\n",
       "    .dataframe thead th {\n",
       "        text-align: right;\n",
       "    }\n",
       "</style>\n",
       "<table border=\"1\" class=\"dataframe\">\n",
       "  <thead>\n",
       "    <tr style=\"text-align: right;\">\n",
       "      <th></th>\n",
       "      <th>host_has_profile_pic</th>\n",
       "      <th>host_identity_verified</th>\n",
       "      <th>host_is_superhost</th>\n",
       "      <th>host_total_listings_count</th>\n",
       "      <th>instant_bookable</th>\n",
       "      <th>is_business_travel_ready</th>\n",
       "    </tr>\n",
       "  </thead>\n",
       "  <tbody>\n",
       "    <tr>\n",
       "      <th>167296</th>\n",
       "      <td>1</td>\n",
       "      <td>1</td>\n",
       "      <td>0</td>\n",
       "      <td>1.0</td>\n",
       "      <td>0</td>\n",
       "      <td>0</td>\n",
       "    </tr>\n",
       "    <tr>\n",
       "      <th>276101</th>\n",
       "      <td>1</td>\n",
       "      <td>0</td>\n",
       "      <td>1</td>\n",
       "      <td>4.0</td>\n",
       "      <td>1</td>\n",
       "      <td>0</td>\n",
       "    </tr>\n",
       "    <tr>\n",
       "      <th>30580</th>\n",
       "      <td>1</td>\n",
       "      <td>0</td>\n",
       "      <td>0</td>\n",
       "      <td>2.0</td>\n",
       "      <td>1</td>\n",
       "      <td>0</td>\n",
       "    </tr>\n",
       "    <tr>\n",
       "      <th>270243</th>\n",
       "      <td>1</td>\n",
       "      <td>0</td>\n",
       "      <td>0</td>\n",
       "      <td>95.0</td>\n",
       "      <td>0</td>\n",
       "      <td>0</td>\n",
       "    </tr>\n",
       "    <tr>\n",
       "      <th>269447</th>\n",
       "      <td>1</td>\n",
       "      <td>1</td>\n",
       "      <td>0</td>\n",
       "      <td>38.0</td>\n",
       "      <td>1</td>\n",
       "      <td>0</td>\n",
       "    </tr>\n",
       "  </tbody>\n",
       "</table>\n",
       "</div>"
      ],
      "text/plain": [
       "        host_has_profile_pic  host_identity_verified  host_is_superhost  \\\n",
       "167296                     1                       1                  0   \n",
       "276101                     1                       0                  1   \n",
       "30580                      1                       0                  0   \n",
       "270243                     1                       0                  0   \n",
       "269447                     1                       1                  0   \n",
       "\n",
       "        host_total_listings_count  instant_bookable  is_business_travel_ready  \n",
       "167296                        1.0                 0                         0  \n",
       "276101                        4.0                 1                         0  \n",
       "30580                         2.0                 1                         0  \n",
       "270243                       95.0                 0                         0  \n",
       "269447                       38.0                 1                         0  "
      ]
     },
     "execution_count": 18,
     "metadata": {},
     "output_type": "execute_result"
    }
   ],
   "source": [
    "df[noStrCol[9:15]].sample(5)"
   ]
  },
  {
   "cell_type": "code",
   "execution_count": 19,
   "metadata": {},
   "outputs": [
    {
     "data": {
      "text/html": [
       "<div>\n",
       "<style scoped>\n",
       "    .dataframe tbody tr th:only-of-type {\n",
       "        vertical-align: middle;\n",
       "    }\n",
       "\n",
       "    .dataframe tbody tr th {\n",
       "        vertical-align: top;\n",
       "    }\n",
       "\n",
       "    .dataframe thead th {\n",
       "        text-align: right;\n",
       "    }\n",
       "</style>\n",
       "<table border=\"1\" class=\"dataframe\">\n",
       "  <thead>\n",
       "    <tr style=\"text-align: right;\">\n",
       "      <th></th>\n",
       "      <th>is_location_exact</th>\n",
       "      <th>latitude</th>\n",
       "      <th>longitude</th>\n",
       "      <th>maximum_nights</th>\n",
       "      <th>minimum_nights</th>\n",
       "      <th>number_of_reviews</th>\n",
       "      <th>price</th>\n",
       "      <th>require_guest_phone_verification</th>\n",
       "    </tr>\n",
       "  </thead>\n",
       "  <tbody>\n",
       "    <tr>\n",
       "      <th>121350</th>\n",
       "      <td>1</td>\n",
       "      <td>41.403868</td>\n",
       "      <td>2.155046</td>\n",
       "      <td>27</td>\n",
       "      <td>1</td>\n",
       "      <td>96</td>\n",
       "      <td>75.0</td>\n",
       "      <td>0</td>\n",
       "    </tr>\n",
       "    <tr>\n",
       "      <th>199083</th>\n",
       "      <td>1</td>\n",
       "      <td>41.379420</td>\n",
       "      <td>2.171570</td>\n",
       "      <td>1125</td>\n",
       "      <td>32</td>\n",
       "      <td>1</td>\n",
       "      <td>48.0</td>\n",
       "      <td>0</td>\n",
       "    </tr>\n",
       "    <tr>\n",
       "      <th>15906</th>\n",
       "      <td>1</td>\n",
       "      <td>41.414205</td>\n",
       "      <td>2.187263</td>\n",
       "      <td>35</td>\n",
       "      <td>4</td>\n",
       "      <td>123</td>\n",
       "      <td>21.0</td>\n",
       "      <td>0</td>\n",
       "    </tr>\n",
       "    <tr>\n",
       "      <th>228701</th>\n",
       "      <td>0</td>\n",
       "      <td>41.379650</td>\n",
       "      <td>2.175620</td>\n",
       "      <td>1125</td>\n",
       "      <td>2</td>\n",
       "      <td>8</td>\n",
       "      <td>75.0</td>\n",
       "      <td>0</td>\n",
       "    </tr>\n",
       "    <tr>\n",
       "      <th>196721</th>\n",
       "      <td>1</td>\n",
       "      <td>41.390200</td>\n",
       "      <td>2.165810</td>\n",
       "      <td>90</td>\n",
       "      <td>3</td>\n",
       "      <td>7</td>\n",
       "      <td>445.0</td>\n",
       "      <td>0</td>\n",
       "    </tr>\n",
       "  </tbody>\n",
       "</table>\n",
       "</div>"
      ],
      "text/plain": [
       "        is_location_exact   latitude  longitude  maximum_nights  \\\n",
       "121350                  1  41.403868   2.155046              27   \n",
       "199083                  1  41.379420   2.171570            1125   \n",
       "15906                   1  41.414205   2.187263              35   \n",
       "228701                  0  41.379650   2.175620            1125   \n",
       "196721                  1  41.390200   2.165810              90   \n",
       "\n",
       "        minimum_nights  number_of_reviews  price  \\\n",
       "121350               1                 96   75.0   \n",
       "199083              32                  1   48.0   \n",
       "15906                4                123   21.0   \n",
       "228701               2                  8   75.0   \n",
       "196721               3                  7  445.0   \n",
       "\n",
       "        require_guest_phone_verification  \n",
       "121350                                 0  \n",
       "199083                                 0  \n",
       "15906                                  0  \n",
       "228701                                 0  \n",
       "196721                                 0  "
      ]
     },
     "execution_count": 19,
     "metadata": {},
     "output_type": "execute_result"
    }
   ],
   "source": [
    "df[noStrCol[15:23]].sample(5)"
   ]
  },
  {
   "cell_type": "code",
   "execution_count": 20,
   "metadata": {},
   "outputs": [
    {
     "data": {
      "text/html": [
       "<div>\n",
       "<style scoped>\n",
       "    .dataframe tbody tr th:only-of-type {\n",
       "        vertical-align: middle;\n",
       "    }\n",
       "\n",
       "    .dataframe tbody tr th {\n",
       "        vertical-align: top;\n",
       "    }\n",
       "\n",
       "    .dataframe thead th {\n",
       "        text-align: right;\n",
       "    }\n",
       "</style>\n",
       "<table border=\"1\" class=\"dataframe\">\n",
       "  <thead>\n",
       "    <tr style=\"text-align: right;\">\n",
       "      <th></th>\n",
       "      <th>require_guest_profile_picture</th>\n",
       "      <th>requires_license</th>\n",
       "      <th>review_scores_accuracy</th>\n",
       "      <th>review_scores_checkin</th>\n",
       "      <th>review_scores_cleanliness</th>\n",
       "    </tr>\n",
       "  </thead>\n",
       "  <tbody>\n",
       "    <tr>\n",
       "      <th>70892</th>\n",
       "      <td>0</td>\n",
       "      <td>1</td>\n",
       "      <td>9.0</td>\n",
       "      <td>10.0</td>\n",
       "      <td>9.0</td>\n",
       "    </tr>\n",
       "    <tr>\n",
       "      <th>223358</th>\n",
       "      <td>0</td>\n",
       "      <td>1</td>\n",
       "      <td>9.0</td>\n",
       "      <td>9.0</td>\n",
       "      <td>9.0</td>\n",
       "    </tr>\n",
       "    <tr>\n",
       "      <th>212041</th>\n",
       "      <td>0</td>\n",
       "      <td>1</td>\n",
       "      <td>10.0</td>\n",
       "      <td>10.0</td>\n",
       "      <td>10.0</td>\n",
       "    </tr>\n",
       "    <tr>\n",
       "      <th>208243</th>\n",
       "      <td>0</td>\n",
       "      <td>1</td>\n",
       "      <td>10.0</td>\n",
       "      <td>10.0</td>\n",
       "      <td>10.0</td>\n",
       "    </tr>\n",
       "    <tr>\n",
       "      <th>151360</th>\n",
       "      <td>0</td>\n",
       "      <td>1</td>\n",
       "      <td>10.0</td>\n",
       "      <td>10.0</td>\n",
       "      <td>9.0</td>\n",
       "    </tr>\n",
       "  </tbody>\n",
       "</table>\n",
       "</div>"
      ],
      "text/plain": [
       "        require_guest_profile_picture  requires_license  \\\n",
       "70892                               0                 1   \n",
       "223358                              0                 1   \n",
       "212041                              0                 1   \n",
       "208243                              0                 1   \n",
       "151360                              0                 1   \n",
       "\n",
       "        review_scores_accuracy  review_scores_checkin  \\\n",
       "70892                      9.0                   10.0   \n",
       "223358                     9.0                    9.0   \n",
       "212041                    10.0                   10.0   \n",
       "208243                    10.0                   10.0   \n",
       "151360                    10.0                   10.0   \n",
       "\n",
       "        review_scores_cleanliness  \n",
       "70892                         9.0  \n",
       "223358                        9.0  \n",
       "212041                       10.0  \n",
       "208243                       10.0  \n",
       "151360                        9.0  "
      ]
     },
     "execution_count": 20,
     "metadata": {},
     "output_type": "execute_result"
    }
   ],
   "source": [
    "df[noStrCol[23:28]].sample(5)"
   ]
  },
  {
   "cell_type": "code",
   "execution_count": 21,
   "metadata": {},
   "outputs": [
    {
     "data": {
      "text/html": [
       "<div>\n",
       "<style scoped>\n",
       "    .dataframe tbody tr th:only-of-type {\n",
       "        vertical-align: middle;\n",
       "    }\n",
       "\n",
       "    .dataframe tbody tr th {\n",
       "        vertical-align: top;\n",
       "    }\n",
       "\n",
       "    .dataframe thead th {\n",
       "        text-align: right;\n",
       "    }\n",
       "</style>\n",
       "<table border=\"1\" class=\"dataframe\">\n",
       "  <thead>\n",
       "    <tr style=\"text-align: right;\">\n",
       "      <th></th>\n",
       "      <th>review_scores_communication</th>\n",
       "      <th>review_scores_location</th>\n",
       "      <th>review_scores_rating</th>\n",
       "      <th>review_scores_value</th>\n",
       "      <th>reviews_per_month</th>\n",
       "      <th>security_deposit</th>\n",
       "      <th>year</th>\n",
       "    </tr>\n",
       "  </thead>\n",
       "  <tbody>\n",
       "    <tr>\n",
       "      <th>23323</th>\n",
       "      <td>10.0</td>\n",
       "      <td>9.0</td>\n",
       "      <td>9.6</td>\n",
       "      <td>10.0</td>\n",
       "      <td>1.04</td>\n",
       "      <td>250.0</td>\n",
       "      <td>2018</td>\n",
       "    </tr>\n",
       "    <tr>\n",
       "      <th>107725</th>\n",
       "      <td>10.0</td>\n",
       "      <td>10.0</td>\n",
       "      <td>9.8</td>\n",
       "      <td>9.0</td>\n",
       "      <td>0.23</td>\n",
       "      <td>150.0</td>\n",
       "      <td>2018</td>\n",
       "    </tr>\n",
       "    <tr>\n",
       "      <th>265869</th>\n",
       "      <td>10.0</td>\n",
       "      <td>10.0</td>\n",
       "      <td>9.3</td>\n",
       "      <td>9.0</td>\n",
       "      <td>2.26</td>\n",
       "      <td>300.0</td>\n",
       "      <td>2019</td>\n",
       "    </tr>\n",
       "    <tr>\n",
       "      <th>183251</th>\n",
       "      <td>10.0</td>\n",
       "      <td>8.0</td>\n",
       "      <td>9.5</td>\n",
       "      <td>9.0</td>\n",
       "      <td>1.27</td>\n",
       "      <td>0.0</td>\n",
       "      <td>2019</td>\n",
       "    </tr>\n",
       "    <tr>\n",
       "      <th>184219</th>\n",
       "      <td>10.0</td>\n",
       "      <td>10.0</td>\n",
       "      <td>9.7</td>\n",
       "      <td>10.0</td>\n",
       "      <td>3.06</td>\n",
       "      <td>0.0</td>\n",
       "      <td>2019</td>\n",
       "    </tr>\n",
       "  </tbody>\n",
       "</table>\n",
       "</div>"
      ],
      "text/plain": [
       "        review_scores_communication  review_scores_location  \\\n",
       "23323                          10.0                     9.0   \n",
       "107725                         10.0                    10.0   \n",
       "265869                         10.0                    10.0   \n",
       "183251                         10.0                     8.0   \n",
       "184219                         10.0                    10.0   \n",
       "\n",
       "        review_scores_rating  review_scores_value  reviews_per_month  \\\n",
       "23323                    9.6                 10.0               1.04   \n",
       "107725                   9.8                  9.0               0.23   \n",
       "265869                   9.3                  9.0               2.26   \n",
       "183251                   9.5                  9.0               1.27   \n",
       "184219                   9.7                 10.0               3.06   \n",
       "\n",
       "        security_deposit  year  \n",
       "23323              250.0  2018  \n",
       "107725             150.0  2018  \n",
       "265869             300.0  2019  \n",
       "183251               0.0  2019  \n",
       "184219               0.0  2019  "
      ]
     },
     "execution_count": 21,
     "metadata": {},
     "output_type": "execute_result"
    }
   ],
   "source": [
    "df[noStrCol[28:35]].sample(5)"
   ]
  },
  {
   "cell_type": "code",
   "execution_count": 22,
   "metadata": {},
   "outputs": [
    {
     "data": {
      "text/html": [
       "<div>\n",
       "<style scoped>\n",
       "    .dataframe tbody tr th:only-of-type {\n",
       "        vertical-align: middle;\n",
       "    }\n",
       "\n",
       "    .dataframe tbody tr th {\n",
       "        vertical-align: top;\n",
       "    }\n",
       "\n",
       "    .dataframe thead th {\n",
       "        text-align: right;\n",
       "    }\n",
       "</style>\n",
       "<table border=\"1\" class=\"dataframe\">\n",
       "  <thead>\n",
       "    <tr style=\"text-align: right;\">\n",
       "      <th></th>\n",
       "      <th>month</th>\n",
       "      <th>host_emailverified</th>\n",
       "      <th>host_phoneverified</th>\n",
       "      <th>host_hasjumio</th>\n",
       "      <th>host_reviewverified</th>\n",
       "      <th>host_selfieverified</th>\n",
       "      <th>Air conditioning</th>\n",
       "      <th>Family/kid friendly</th>\n",
       "      <th>Host greets you</th>\n",
       "    </tr>\n",
       "  </thead>\n",
       "  <tbody>\n",
       "    <tr>\n",
       "      <th>30556</th>\n",
       "      <td>5</td>\n",
       "      <td>1</td>\n",
       "      <td>1</td>\n",
       "      <td>1</td>\n",
       "      <td>1</td>\n",
       "      <td>0</td>\n",
       "      <td>1</td>\n",
       "      <td>0</td>\n",
       "      <td>0</td>\n",
       "    </tr>\n",
       "    <tr>\n",
       "      <th>61424</th>\n",
       "      <td>8</td>\n",
       "      <td>1</td>\n",
       "      <td>1</td>\n",
       "      <td>0</td>\n",
       "      <td>1</td>\n",
       "      <td>0</td>\n",
       "      <td>0</td>\n",
       "      <td>0</td>\n",
       "      <td>1</td>\n",
       "    </tr>\n",
       "    <tr>\n",
       "      <th>245294</th>\n",
       "      <td>8</td>\n",
       "      <td>0</td>\n",
       "      <td>1</td>\n",
       "      <td>0</td>\n",
       "      <td>0</td>\n",
       "      <td>0</td>\n",
       "      <td>1</td>\n",
       "      <td>0</td>\n",
       "      <td>0</td>\n",
       "    </tr>\n",
       "    <tr>\n",
       "      <th>123525</th>\n",
       "      <td>12</td>\n",
       "      <td>1</td>\n",
       "      <td>1</td>\n",
       "      <td>1</td>\n",
       "      <td>1</td>\n",
       "      <td>0</td>\n",
       "      <td>0</td>\n",
       "      <td>1</td>\n",
       "      <td>1</td>\n",
       "    </tr>\n",
       "    <tr>\n",
       "      <th>106602</th>\n",
       "      <td>11</td>\n",
       "      <td>1</td>\n",
       "      <td>1</td>\n",
       "      <td>1</td>\n",
       "      <td>1</td>\n",
       "      <td>1</td>\n",
       "      <td>1</td>\n",
       "      <td>0</td>\n",
       "      <td>1</td>\n",
       "    </tr>\n",
       "  </tbody>\n",
       "</table>\n",
       "</div>"
      ],
      "text/plain": [
       "        month  host_emailverified  host_phoneverified  host_hasjumio  \\\n",
       "30556       5                   1                   1              1   \n",
       "61424       8                   1                   1              0   \n",
       "245294      8                   0                   1              0   \n",
       "123525     12                   1                   1              1   \n",
       "106602     11                   1                   1              1   \n",
       "\n",
       "        host_reviewverified  host_selfieverified  Air conditioning  \\\n",
       "30556                     1                    0                 1   \n",
       "61424                     1                    0                 0   \n",
       "245294                    0                    0                 1   \n",
       "123525                    1                    0                 0   \n",
       "106602                    1                    1                 1   \n",
       "\n",
       "        Family/kid friendly  Host greets you  \n",
       "30556                     0                0  \n",
       "61424                     0                1  \n",
       "245294                    0                0  \n",
       "123525                    1                1  \n",
       "106602                    0                1  "
      ]
     },
     "execution_count": 22,
     "metadata": {},
     "output_type": "execute_result"
    }
   ],
   "source": [
    "df[noStrCol[35:44]].sample(5)"
   ]
  },
  {
   "cell_type": "code",
   "execution_count": 23,
   "metadata": {},
   "outputs": [
    {
     "data": {
      "text/plain": [
       "year  month\n",
       "2018  4        15391\n",
       "      5        15217\n",
       "      6        13870\n",
       "      7        14461\n",
       "      8        14918\n",
       "      9        15072\n",
       "      10       14681\n",
       "      11       14442\n",
       "      12       14600\n",
       "2019  1        13821\n",
       "      2        13466\n",
       "      3        13528\n",
       "      4        13749\n",
       "      5        14004\n",
       "      6        14348\n",
       "      7        14938\n",
       "      8        15466\n",
       "      9        15817\n",
       "      10       15861\n",
       "      11       15910\n",
       "Name: price, dtype: int64"
      ]
     },
     "execution_count": 23,
     "metadata": {},
     "output_type": "execute_result"
    }
   ],
   "source": [
    "df.groupby(['year', 'month'])['price'].count()"
   ]
  },
  {
   "cell_type": "code",
   "execution_count": 57,
   "metadata": {},
   "outputs": [
    {
     "data": {
      "text/plain": [
       "host_emailverified     0.957585\n",
       "host_phoneverified     0.993472\n",
       "host_hasjumio          0.651490\n",
       "host_reviewverified    0.807660\n",
       "host_selfieverified    0.275919\n",
       "Air conditioning       0.565695\n",
       "Family/kid friendly    0.476880\n",
       "Host greets you        0.475165\n",
       "dtype: float64"
      ]
     },
     "execution_count": 57,
     "metadata": {},
     "output_type": "execute_result"
    }
   ],
   "source": [
    "df[noStrCol[36:44]].mean()"
   ]
  },
  {
   "cell_type": "code",
   "execution_count": 25,
   "metadata": {},
   "outputs": [
    {
     "data": {
      "text/html": [
       "<div>\n",
       "<style scoped>\n",
       "    .dataframe tbody tr th:only-of-type {\n",
       "        vertical-align: middle;\n",
       "    }\n",
       "\n",
       "    .dataframe tbody tr th {\n",
       "        vertical-align: top;\n",
       "    }\n",
       "\n",
       "    .dataframe thead th {\n",
       "        text-align: right;\n",
       "    }\n",
       "</style>\n",
       "<table border=\"1\" class=\"dataframe\">\n",
       "  <thead>\n",
       "    <tr style=\"text-align: right;\">\n",
       "      <th></th>\n",
       "      <th>Laptop friendly workspace</th>\n",
       "      <th>Paid parking off premises</th>\n",
       "      <th>Patio or balcony</th>\n",
       "      <th>Luggage dropoff allowed</th>\n",
       "      <th>Long term stays allowed</th>\n",
       "      <th>Smoking allowed</th>\n",
       "      <th>Step-free access</th>\n",
       "      <th>Paid parking on premises</th>\n",
       "    </tr>\n",
       "  </thead>\n",
       "  <tbody>\n",
       "    <tr>\n",
       "      <th>15982</th>\n",
       "      <td>0</td>\n",
       "      <td>0</td>\n",
       "      <td>0</td>\n",
       "      <td>0</td>\n",
       "      <td>0</td>\n",
       "      <td>0</td>\n",
       "      <td>0</td>\n",
       "      <td>0</td>\n",
       "    </tr>\n",
       "    <tr>\n",
       "      <th>270442</th>\n",
       "      <td>1</td>\n",
       "      <td>0</td>\n",
       "      <td>1</td>\n",
       "      <td>0</td>\n",
       "      <td>0</td>\n",
       "      <td>0</td>\n",
       "      <td>0</td>\n",
       "      <td>1</td>\n",
       "    </tr>\n",
       "    <tr>\n",
       "      <th>80612</th>\n",
       "      <td>0</td>\n",
       "      <td>0</td>\n",
       "      <td>0</td>\n",
       "      <td>0</td>\n",
       "      <td>0</td>\n",
       "      <td>0</td>\n",
       "      <td>0</td>\n",
       "      <td>0</td>\n",
       "    </tr>\n",
       "    <tr>\n",
       "      <th>266907</th>\n",
       "      <td>1</td>\n",
       "      <td>0</td>\n",
       "      <td>1</td>\n",
       "      <td>1</td>\n",
       "      <td>1</td>\n",
       "      <td>0</td>\n",
       "      <td>0</td>\n",
       "      <td>0</td>\n",
       "    </tr>\n",
       "    <tr>\n",
       "      <th>254586</th>\n",
       "      <td>0</td>\n",
       "      <td>0</td>\n",
       "      <td>0</td>\n",
       "      <td>0</td>\n",
       "      <td>1</td>\n",
       "      <td>0</td>\n",
       "      <td>0</td>\n",
       "      <td>0</td>\n",
       "    </tr>\n",
       "  </tbody>\n",
       "</table>\n",
       "</div>"
      ],
      "text/plain": [
       "        Laptop friendly workspace  Paid parking off premises  \\\n",
       "15982                           0                          0   \n",
       "270442                          1                          0   \n",
       "80612                           0                          0   \n",
       "266907                          1                          0   \n",
       "254586                          0                          0   \n",
       "\n",
       "        Patio or balcony  Luggage dropoff allowed  Long term stays allowed  \\\n",
       "15982                  0                        0                        0   \n",
       "270442                 1                        0                        0   \n",
       "80612                  0                        0                        0   \n",
       "266907                 1                        1                        1   \n",
       "254586                 0                        0                        1   \n",
       "\n",
       "        Smoking allowed  Step-free access  Paid parking on premises  \n",
       "15982                 0                 0                         0  \n",
       "270442                0                 0                         1  \n",
       "80612                 0                 0                         0  \n",
       "266907                0                 0                         0  \n",
       "254586                0                 0                         0  "
      ]
     },
     "execution_count": 25,
     "metadata": {},
     "output_type": "execute_result"
    }
   ],
   "source": [
    "df[noStrCol[44:]].sample(5)"
   ]
  },
  {
   "cell_type": "code",
   "execution_count": 26,
   "metadata": {},
   "outputs": [
    {
     "data": {
      "text/plain": [
       "Laptop friendly workspace    0.572820\n",
       "Paid parking off premises    0.285253\n",
       "Patio or balcony             0.216746\n",
       "Luggage dropoff allowed      0.238789\n",
       "Long term stays allowed      0.262876\n",
       "Smoking allowed              0.264099\n",
       "Step-free access             0.086725\n",
       "Paid parking on premises     0.206946\n",
       "dtype: float64"
      ]
     },
     "execution_count": 26,
     "metadata": {},
     "output_type": "execute_result"
    }
   ],
   "source": [
    "df[noStrCol[44:]].mean()"
   ]
  },
  {
   "cell_type": "markdown",
   "metadata": {},
   "source": [
    "### Plots "
   ]
  },
  {
   "cell_type": "code",
   "execution_count": 27,
   "metadata": {},
   "outputs": [],
   "source": [
    "import matplotlib.pyplot as plt\n",
    "import seaborn as sns"
   ]
  },
  {
   "cell_type": "code",
   "execution_count": 28,
   "metadata": {},
   "outputs": [],
   "source": [
    "df['month'] = df['month'].apply(lambda x: '0'+str(x) if len(str(x)) < 2 else x)"
   ]
  },
  {
   "cell_type": "code",
   "execution_count": 29,
   "metadata": {},
   "outputs": [],
   "source": [
    "df['date'] = df['year'].astype('str') + '-' + df['month'].astype('str')\n",
    "df['date'] = pd.to_datetime(df['date'])"
   ]
  },
  {
   "cell_type": "code",
   "execution_count": 30,
   "metadata": {},
   "outputs": [
    {
     "data": {
      "text/plain": [
       "0        2018-04-01\n",
       "1        2018-04-01\n",
       "2        2018-04-01\n",
       "3        2018-04-01\n",
       "4        2018-04-01\n",
       "            ...    \n",
       "293555   2019-11-01\n",
       "293556   2019-11-01\n",
       "293557   2019-11-01\n",
       "293558   2019-11-01\n",
       "293559   2019-11-01\n",
       "Name: date, Length: 293560, dtype: datetime64[ns]"
      ]
     },
     "execution_count": 30,
     "metadata": {},
     "output_type": "execute_result"
    }
   ],
   "source": [
    "df['date']"
   ]
  },
  {
   "cell_type": "code",
   "execution_count": null,
   "metadata": {},
   "outputs": [],
   "source": [
    "df[df['price']>=1000][['name', 'description', 'price', 'date', 'minimum_nights']]"
   ]
  },
  {
   "cell_type": "code",
   "execution_count": null,
   "metadata": {},
   "outputs": [],
   "source": [
    "df = df[df['pricePNight']<3000]"
   ]
  },
  {
   "cell_type": "code",
   "execution_count": 31,
   "metadata": {},
   "outputs": [
    {
     "name": "stderr",
     "output_type": "stream",
     "text": [
      "/home/guillem/anaconda3/envs/masterds/lib/python3.7/site-packages/pandas/plotting/_matplotlib/converter.py:103: FutureWarning: Using an implicitly registered datetime converter for a matplotlib plotting method. The converter was registered by pandas on import. Future versions of pandas will require you to explicitly register matplotlib converters.\n",
      "\n",
      "To register the converters:\n",
      "\t>>> from pandas.plotting import register_matplotlib_converters\n",
      "\t>>> register_matplotlib_converters()\n",
      "  warnings.warn(msg, FutureWarning)\n"
     ]
    },
    {
     "data": {
      "image/png": "[encoded data removed]",
      "text/plain": [
       "<Figure size 936x360 with 1 Axes>"
      ]
     },
     "metadata": {},
     "output_type": "display_data"
    }
   ],
   "source": [
    "plt.style.use('ggplot')\n",
    "fig, ax = plt.subplots(1, 1, figsize = (13, 5))\n",
    "ax.plot(df.groupby('date')['price'].mean().index, df.groupby('date')['price'].mean())\n",
    "plt.tight_layout()"
   ]
  },
  {
   "cell_type": "code",
   "execution_count": 32,
   "metadata": {},
   "outputs": [
    {
     "data": {
      "image/png": "[encoded data removed]",
      "text/plain": [
       "<Figure size 936x360 with 1 Axes>"
      ]
     },
     "metadata": {},
     "output_type": "display_data"
    }
   ],
   "source": [
    "fig, ax = plt.subplots(1, 1, figsize = (13, 5))\n",
    "sns.boxplot(df['date'], df['price'])\n",
    "ax.set_xticklabels(df['date'].unique(), rotation = 45)\n",
    "plt.tight_layout()"
   ]
  },
  {
   "cell_type": "code",
   "execution_count": 33,
   "metadata": {},
   "outputs": [
    {
     "data": {
      "text/html": [
       "<div>\n",
       "<style scoped>\n",
       "    .dataframe tbody tr th:only-of-type {\n",
       "        vertical-align: middle;\n",
       "    }\n",
       "\n",
       "    .dataframe tbody tr th {\n",
       "        vertical-align: top;\n",
       "    }\n",
       "\n",
       "    .dataframe thead th {\n",
       "        text-align: right;\n",
       "    }\n",
       "</style>\n",
       "<table border=\"1\" class=\"dataframe\">\n",
       "  <thead>\n",
       "    <tr style=\"text-align: right;\">\n",
       "      <th></th>\n",
       "      <th>count</th>\n",
       "      <th>mean</th>\n",
       "      <th>std</th>\n",
       "      <th>min</th>\n",
       "      <th>25%</th>\n",
       "      <th>50%</th>\n",
       "      <th>75%</th>\n",
       "      <th>max</th>\n",
       "    </tr>\n",
       "    <tr>\n",
       "      <th>date</th>\n",
       "      <th></th>\n",
       "      <th></th>\n",
       "      <th></th>\n",
       "      <th></th>\n",
       "      <th></th>\n",
       "      <th></th>\n",
       "      <th></th>\n",
       "      <th></th>\n",
       "    </tr>\n",
       "  </thead>\n",
       "  <tbody>\n",
       "    <tr>\n",
       "      <th>2018-04-01</th>\n",
       "      <td>15391.0</td>\n",
       "      <td>93.143201</td>\n",
       "      <td>143.646058</td>\n",
       "      <td>8.0</td>\n",
       "      <td>35.0</td>\n",
       "      <td>60.0</td>\n",
       "      <td>105.0</td>\n",
       "      <td>9120.0</td>\n",
       "    </tr>\n",
       "    <tr>\n",
       "      <th>2018-05-01</th>\n",
       "      <td>15217.0</td>\n",
       "      <td>93.948019</td>\n",
       "      <td>141.286224</td>\n",
       "      <td>8.0</td>\n",
       "      <td>35.0</td>\n",
       "      <td>60.0</td>\n",
       "      <td>108.0</td>\n",
       "      <td>9120.0</td>\n",
       "    </tr>\n",
       "    <tr>\n",
       "      <th>2018-06-01</th>\n",
       "      <td>13870.0</td>\n",
       "      <td>93.744052</td>\n",
       "      <td>146.733234</td>\n",
       "      <td>0.0</td>\n",
       "      <td>35.0</td>\n",
       "      <td>58.0</td>\n",
       "      <td>105.0</td>\n",
       "      <td>9120.0</td>\n",
       "    </tr>\n",
       "    <tr>\n",
       "      <th>2018-07-01</th>\n",
       "      <td>14461.0</td>\n",
       "      <td>93.483922</td>\n",
       "      <td>141.546008</td>\n",
       "      <td>0.0</td>\n",
       "      <td>35.0</td>\n",
       "      <td>59.0</td>\n",
       "      <td>107.0</td>\n",
       "      <td>9120.0</td>\n",
       "    </tr>\n",
       "    <tr>\n",
       "      <th>2018-08-01</th>\n",
       "      <td>14918.0</td>\n",
       "      <td>86.738906</td>\n",
       "      <td>130.850497</td>\n",
       "      <td>8.0</td>\n",
       "      <td>35.0</td>\n",
       "      <td>55.0</td>\n",
       "      <td>100.0</td>\n",
       "      <td>9120.0</td>\n",
       "    </tr>\n",
       "    <tr>\n",
       "      <th>2018-09-01</th>\n",
       "      <td>15072.0</td>\n",
       "      <td>90.768777</td>\n",
       "      <td>136.082341</td>\n",
       "      <td>8.0</td>\n",
       "      <td>35.0</td>\n",
       "      <td>57.0</td>\n",
       "      <td>100.0</td>\n",
       "      <td>9120.0</td>\n",
       "    </tr>\n",
       "    <tr>\n",
       "      <th>2018-10-01</th>\n",
       "      <td>14681.0</td>\n",
       "      <td>103.250528</td>\n",
       "      <td>235.386307</td>\n",
       "      <td>8.0</td>\n",
       "      <td>35.0</td>\n",
       "      <td>56.0</td>\n",
       "      <td>100.0</td>\n",
       "      <td>20000.0</td>\n",
       "    </tr>\n",
       "    <tr>\n",
       "      <th>2018-11-01</th>\n",
       "      <td>14442.0</td>\n",
       "      <td>91.006924</td>\n",
       "      <td>152.825829</td>\n",
       "      <td>8.0</td>\n",
       "      <td>35.0</td>\n",
       "      <td>55.0</td>\n",
       "      <td>100.0</td>\n",
       "      <td>9120.0</td>\n",
       "    </tr>\n",
       "    <tr>\n",
       "      <th>2018-12-01</th>\n",
       "      <td>14600.0</td>\n",
       "      <td>90.560753</td>\n",
       "      <td>158.524641</td>\n",
       "      <td>8.0</td>\n",
       "      <td>35.0</td>\n",
       "      <td>55.0</td>\n",
       "      <td>100.0</td>\n",
       "      <td>9120.0</td>\n",
       "    </tr>\n",
       "    <tr>\n",
       "      <th>2019-01-01</th>\n",
       "      <td>13821.0</td>\n",
       "      <td>94.421315</td>\n",
       "      <td>170.940848</td>\n",
       "      <td>8.0</td>\n",
       "      <td>35.0</td>\n",
       "      <td>58.0</td>\n",
       "      <td>100.0</td>\n",
       "      <td>9120.0</td>\n",
       "    </tr>\n",
       "    <tr>\n",
       "      <th>2019-02-01</th>\n",
       "      <td>13466.0</td>\n",
       "      <td>97.221521</td>\n",
       "      <td>187.534104</td>\n",
       "      <td>8.0</td>\n",
       "      <td>35.0</td>\n",
       "      <td>59.0</td>\n",
       "      <td>100.0</td>\n",
       "      <td>9120.0</td>\n",
       "    </tr>\n",
       "    <tr>\n",
       "      <th>2019-03-01</th>\n",
       "      <td>13528.0</td>\n",
       "      <td>101.117460</td>\n",
       "      <td>202.225504</td>\n",
       "      <td>8.0</td>\n",
       "      <td>35.0</td>\n",
       "      <td>60.0</td>\n",
       "      <td>106.0</td>\n",
       "      <td>9120.0</td>\n",
       "    </tr>\n",
       "    <tr>\n",
       "      <th>2019-04-01</th>\n",
       "      <td>13749.0</td>\n",
       "      <td>102.379155</td>\n",
       "      <td>213.265637</td>\n",
       "      <td>8.0</td>\n",
       "      <td>37.0</td>\n",
       "      <td>60.0</td>\n",
       "      <td>110.0</td>\n",
       "      <td>9120.0</td>\n",
       "    </tr>\n",
       "    <tr>\n",
       "      <th>2019-05-01</th>\n",
       "      <td>14004.0</td>\n",
       "      <td>110.070123</td>\n",
       "      <td>291.409811</td>\n",
       "      <td>8.0</td>\n",
       "      <td>38.0</td>\n",
       "      <td>62.0</td>\n",
       "      <td>110.0</td>\n",
       "      <td>9120.0</td>\n",
       "    </tr>\n",
       "    <tr>\n",
       "      <th>2019-06-01</th>\n",
       "      <td>14348.0</td>\n",
       "      <td>112.922010</td>\n",
       "      <td>311.229686</td>\n",
       "      <td>8.0</td>\n",
       "      <td>39.0</td>\n",
       "      <td>65.0</td>\n",
       "      <td>113.0</td>\n",
       "      <td>9120.0</td>\n",
       "    </tr>\n",
       "    <tr>\n",
       "      <th>2019-07-01</th>\n",
       "      <td>14938.0</td>\n",
       "      <td>118.717767</td>\n",
       "      <td>349.868756</td>\n",
       "      <td>8.0</td>\n",
       "      <td>40.0</td>\n",
       "      <td>65.0</td>\n",
       "      <td>115.0</td>\n",
       "      <td>9120.0</td>\n",
       "    </tr>\n",
       "    <tr>\n",
       "      <th>2019-08-01</th>\n",
       "      <td>15466.0</td>\n",
       "      <td>116.978340</td>\n",
       "      <td>348.651526</td>\n",
       "      <td>9.0</td>\n",
       "      <td>40.0</td>\n",
       "      <td>62.0</td>\n",
       "      <td>110.0</td>\n",
       "      <td>9120.0</td>\n",
       "    </tr>\n",
       "    <tr>\n",
       "      <th>2019-09-01</th>\n",
       "      <td>15817.0</td>\n",
       "      <td>122.472530</td>\n",
       "      <td>392.270676</td>\n",
       "      <td>9.0</td>\n",
       "      <td>40.0</td>\n",
       "      <td>61.0</td>\n",
       "      <td>110.0</td>\n",
       "      <td>10000.0</td>\n",
       "    </tr>\n",
       "    <tr>\n",
       "      <th>2019-10-01</th>\n",
       "      <td>15861.0</td>\n",
       "      <td>128.067776</td>\n",
       "      <td>429.727563</td>\n",
       "      <td>9.0</td>\n",
       "      <td>39.0</td>\n",
       "      <td>61.0</td>\n",
       "      <td>110.0</td>\n",
       "      <td>10000.0</td>\n",
       "    </tr>\n",
       "    <tr>\n",
       "      <th>2019-11-01</th>\n",
       "      <td>15910.0</td>\n",
       "      <td>123.740541</td>\n",
       "      <td>405.619429</td>\n",
       "      <td>9.0</td>\n",
       "      <td>39.0</td>\n",
       "      <td>60.0</td>\n",
       "      <td>106.0</td>\n",
       "      <td>10000.0</td>\n",
       "    </tr>\n",
       "  </tbody>\n",
       "</table>\n",
       "</div>"
      ],
      "text/plain": [
       "              count        mean         std  min   25%   50%    75%      max\n",
       "date                                                                        \n",
       "2018-04-01  15391.0   93.143201  143.646058  8.0  35.0  60.0  105.0   9120.0\n",
       "2018-05-01  15217.0   93.948019  141.286224  8.0  35.0  60.0  108.0   9120.0\n",
       "2018-06-01  13870.0   93.744052  146.733234  0.0  35.0  58.0  105.0   9120.0\n",
       "2018-07-01  14461.0   93.483922  141.546008  0.0  35.0  59.0  107.0   9120.0\n",
       "2018-08-01  14918.0   86.738906  130.850497  8.0  35.0  55.0  100.0   9120.0\n",
       "2018-09-01  15072.0   90.768777  136.082341  8.0  35.0  57.0  100.0   9120.0\n",
       "2018-10-01  14681.0  103.250528  235.386307  8.0  35.0  56.0  100.0  20000.0\n",
       "2018-11-01  14442.0   91.006924  152.825829  8.0  35.0  55.0  100.0   9120.0\n",
       "2018-12-01  14600.0   90.560753  158.524641  8.0  35.0  55.0  100.0   9120.0\n",
       "2019-01-01  13821.0   94.421315  170.940848  8.0  35.0  58.0  100.0   9120.0\n",
       "2019-02-01  13466.0   97.221521  187.534104  8.0  35.0  59.0  100.0   9120.0\n",
       "2019-03-01  13528.0  101.117460  202.225504  8.0  35.0  60.0  106.0   9120.0\n",
       "2019-04-01  13749.0  102.379155  213.265637  8.0  37.0  60.0  110.0   9120.0\n",
       "2019-05-01  14004.0  110.070123  291.409811  8.0  38.0  62.0  110.0   9120.0\n",
       "2019-06-01  14348.0  112.922010  311.229686  8.0  39.0  65.0  113.0   9120.0\n",
       "2019-07-01  14938.0  118.717767  349.868756  8.0  40.0  65.0  115.0   9120.0\n",
       "2019-08-01  15466.0  116.978340  348.651526  9.0  40.0  62.0  110.0   9120.0\n",
       "2019-09-01  15817.0  122.472530  392.270676  9.0  40.0  61.0  110.0  10000.0\n",
       "2019-10-01  15861.0  128.067776  429.727563  9.0  39.0  61.0  110.0  10000.0\n",
       "2019-11-01  15910.0  123.740541  405.619429  9.0  39.0  60.0  106.0  10000.0"
      ]
     },
     "execution_count": 33,
     "metadata": {},
     "output_type": "execute_result"
    }
   ],
   "source": [
    "df.groupby('date')['price'].describe()"
   ]
  },
  {
   "cell_type": "code",
   "execution_count": 34,
   "metadata": {},
   "outputs": [
    {
     "data": {
      "image/png": "[encoded data removed]",
      "text/plain": [
       "<Figure size 432x288 with 1 Axes>"
      ]
     },
     "metadata": {},
     "output_type": "display_data"
    }
   ],
   "source": [
    "fig, ax = plt.subplots(1, 1)\n",
    "ax.hist(df['price'])\n",
    "plt.xlabel('Precios de alojamientos en AirBNB')\n",
    "plt.tight_layout()"
   ]
  },
  {
   "cell_type": "code",
   "execution_count": 40,
   "metadata": {},
   "outputs": [
    {
     "data": {
      "text/html": [
       "<div>\n",
       "<style scoped>\n",
       "    .dataframe tbody tr th:only-of-type {\n",
       "        vertical-align: middle;\n",
       "    }\n",
       "\n",
       "    .dataframe tbody tr th {\n",
       "        vertical-align: top;\n",
       "    }\n",
       "\n",
       "    .dataframe thead th {\n",
       "        text-align: right;\n",
       "    }\n",
       "</style>\n",
       "<table border=\"1\" class=\"dataframe\">\n",
       "  <thead>\n",
       "    <tr style=\"text-align: right;\">\n",
       "      <th></th>\n",
       "      <th>name</th>\n",
       "      <th>description</th>\n",
       "      <th>price</th>\n",
       "      <th>date</th>\n",
       "      <th>minimum_nights</th>\n",
       "    </tr>\n",
       "  </thead>\n",
       "  <tbody>\n",
       "    <tr>\n",
       "      <th>2882</th>\n",
       "      <td>Central luxury apartment with chillout terrace...</td>\n",
       "      <td>Luxury and Elegance at it's best. Luxurious an...</td>\n",
       "      <td>1000.0</td>\n",
       "      <td>2018-04-01</td>\n",
       "      <td>3</td>\n",
       "    </tr>\n",
       "    <tr>\n",
       "      <th>3196</th>\n",
       "      <td>Central Luxury Penthouse 6 guests (3 Bedrooms) AG</td>\n",
       "      <td>Free WiFi, 3 bedrooms each with 2 single beds,...</td>\n",
       "      <td>1000.0</td>\n",
       "      <td>2018-04-01</td>\n",
       "      <td>3</td>\n",
       "    </tr>\n",
       "    <tr>\n",
       "      <th>3263</th>\n",
       "      <td>COBI Apartment  Very central  4 bed / 2 bath  ...</td>\n",
       "      <td>bussines traveler</td>\n",
       "      <td>1000.0</td>\n",
       "      <td>2018-04-01</td>\n",
       "      <td>3</td>\n",
       "    </tr>\n",
       "    <tr>\n",
       "      <th>3510</th>\n",
       "      <td>Central luxury apartment with chillout terrace B8</td>\n",
       "      <td>Luxury and Elegance at it's best. Luxurious an...</td>\n",
       "      <td>1000.0</td>\n",
       "      <td>2018-04-01</td>\n",
       "      <td>3</td>\n",
       "    </tr>\n",
       "    <tr>\n",
       "      <th>4184</th>\n",
       "      <td>Double room in the centre of Barcelona</td>\n",
       "      <td>With a charming, central location in the heart...</td>\n",
       "      <td>2500.0</td>\n",
       "      <td>2018-04-01</td>\n",
       "      <td>1</td>\n",
       "    </tr>\n",
       "    <tr>\n",
       "      <th>...</th>\n",
       "      <td>...</td>\n",
       "      <td>...</td>\n",
       "      <td>...</td>\n",
       "      <td>...</td>\n",
       "      <td>...</td>\n",
       "    </tr>\n",
       "    <tr>\n",
       "      <th>290917</th>\n",
       "      <td>Bed in only Girls Room (of 4 pax) - Barcelona!</td>\n",
       "      <td>Bed in female shared room for only 4 persons i...</td>\n",
       "      <td>8000.0</td>\n",
       "      <td>2019-11-01</td>\n",
       "      <td>1</td>\n",
       "    </tr>\n",
       "    <tr>\n",
       "      <th>290944</th>\n",
       "      <td>Great location in BCN - Economic shared room!</td>\n",
       "      <td>Nice shared room (up to 4 persons) in a great ...</td>\n",
       "      <td>8000.0</td>\n",
       "      <td>2019-11-01</td>\n",
       "      <td>1</td>\n",
       "    </tr>\n",
       "    <tr>\n",
       "      <th>291729</th>\n",
       "      <td>Eco Boutique Hostal Grau, Double Standard</td>\n",
       "      <td>Perched right on a boutique- and restaurant-li...</td>\n",
       "      <td>1000.0</td>\n",
       "      <td>2019-11-01</td>\n",
       "      <td>1</td>\n",
       "    </tr>\n",
       "    <tr>\n",
       "      <th>292913</th>\n",
       "      <td>Hotel Barcelona Princess , Doble</td>\n",
       "      <td>Our guest rooms are designed for comfort and f...</td>\n",
       "      <td>1000.0</td>\n",
       "      <td>2019-11-01</td>\n",
       "      <td>1</td>\n",
       "    </tr>\n",
       "    <tr>\n",
       "      <th>293151</th>\n",
       "      <td>Cozy Apartment in Ramblas</td>\n",
       "      <td>Cozy Apartment in Ramblas se encuentra a menos...</td>\n",
       "      <td>1000.0</td>\n",
       "      <td>2019-11-01</td>\n",
       "      <td>1</td>\n",
       "    </tr>\n",
       "  </tbody>\n",
       "</table>\n",
       "<p>1374 rows × 5 columns</p>\n",
       "</div>"
      ],
      "text/plain": [
       "                                                     name  \\\n",
       "2882    Central luxury apartment with chillout terrace...   \n",
       "3196    Central Luxury Penthouse 6 guests (3 Bedrooms) AG   \n",
       "3263    COBI Apartment  Very central  4 bed / 2 bath  ...   \n",
       "3510    Central luxury apartment with chillout terrace B8   \n",
       "4184               Double room in the centre of Barcelona   \n",
       "...                                                   ...   \n",
       "290917     Bed in only Girls Room (of 4 pax) - Barcelona!   \n",
       "290944      Great location in BCN - Economic shared room!   \n",
       "291729          Eco Boutique Hostal Grau, Double Standard   \n",
       "292913                   Hotel Barcelona Princess , Doble   \n",
       "293151                          Cozy Apartment in Ramblas   \n",
       "\n",
       "                                              description   price       date  \\\n",
       "2882    Luxury and Elegance at it's best. Luxurious an...  1000.0 2018-04-01   \n",
       "3196    Free WiFi, 3 bedrooms each with 2 single beds,...  1000.0 2018-04-01   \n",
       "3263                                    bussines traveler  1000.0 2018-04-01   \n",
       "3510    Luxury and Elegance at it's best. Luxurious an...  1000.0 2018-04-01   \n",
       "4184    With a charming, central location in the heart...  2500.0 2018-04-01   \n",
       "...                                                   ...     ...        ...   \n",
       "290917  Bed in female shared room for only 4 persons i...  8000.0 2019-11-01   \n",
       "290944  Nice shared room (up to 4 persons) in a great ...  8000.0 2019-11-01   \n",
       "291729  Perched right on a boutique- and restaurant-li...  1000.0 2019-11-01   \n",
       "292913  Our guest rooms are designed for comfort and f...  1000.0 2019-11-01   \n",
       "293151  Cozy Apartment in Ramblas se encuentra a menos...  1000.0 2019-11-01   \n",
       "\n",
       "        minimum_nights  \n",
       "2882                 3  \n",
       "3196                 3  \n",
       "3263                 3  \n",
       "3510                 3  \n",
       "4184                 1  \n",
       "...                ...  \n",
       "290917               1  \n",
       "290944               1  \n",
       "291729               1  \n",
       "292913               1  \n",
       "293151               1  \n",
       "\n",
       "[1374 rows x 5 columns]"
      ]
     },
     "execution_count": 40,
     "metadata": {},
     "output_type": "execute_result"
    }
   ],
   "source": [
    "df[df['price']>=1000][['name', 'description', 'price', 'date', 'minimum_nights']]"
   ]
  },
  {
   "cell_type": "code",
   "execution_count": 36,
   "metadata": {},
   "outputs": [
    {
     "data": {
      "image/png": "[encoded data removed]",
      "text/plain": [
       "<Figure size 936x504 with 1 Axes>"
      ]
     },
     "metadata": {},
     "output_type": "display_data"
    }
   ],
   "source": [
    "fig, ax = plt.subplots(1, 1, figsize = (13, 7))\n",
    "ax.hist(df[df['price']< 1000]['price'], bins = 80)\n",
    "plt.xlabel('Precios de alojamientos en AirBNB')\n",
    "plt.tight_layout()"
   ]
  },
  {
   "cell_type": "code",
   "execution_count": 41,
   "metadata": {},
   "outputs": [],
   "source": [
    "df['pricePNight'] = df['price']/df['minimum_nights']"
   ]
  },
  {
   "cell_type": "code",
   "execution_count": 42,
   "metadata": {},
   "outputs": [
    {
     "data": {
      "text/plain": [
       "count    293560.000000\n",
       "mean         55.611610\n",
       "std         185.609198\n",
       "min           0.000000\n",
       "25%          15.000000\n",
       "50%          30.000000\n",
       "75%          55.000000\n",
       "max       20000.000000\n",
       "Name: pricePNight, dtype: float64"
      ]
     },
     "execution_count": 42,
     "metadata": {},
     "output_type": "execute_result"
    }
   ],
   "source": [
    "df['pricePNight'].describe()"
   ]
  },
  {
   "cell_type": "code",
   "execution_count": 46,
   "metadata": {},
   "outputs": [
    {
     "data": {
      "image/png": "[encoded data removed]",
      "text/plain": [
       "<Figure size 936x504 with 1 Axes>"
      ]
     },
     "metadata": {},
     "output_type": "display_data"
    }
   ],
   "source": [
    "fig, ax = plt.subplots(1, 1, figsize = (13, 7))\n",
    "ax.hist(df[df['pricePNight']< 1000]['pricePNight'], bins = 80)\n",
    "plt.xlabel('Precios de alojamientos en AirBNB')\n",
    "plt.tight_layout()"
   ]
  },
  {
   "cell_type": "code",
   "execution_count": 49,
   "metadata": {},
   "outputs": [
    {
     "data": {
      "image/png": "[encoded data removed]",
      "text/plain": [
       "<Figure size 936x504 with 1 Axes>"
      ]
     },
     "metadata": {},
     "output_type": "display_data"
    }
   ],
   "source": [
    "fig, ax = plt.subplots(1, 1, figsize = (13, 7))\n",
    "ax.scatter(df.index, df['pricePNight'])\n",
    "plt.tight_layout()"
   ]
  },
  {
   "cell_type": "code",
   "execution_count": 55,
   "metadata": {},
   "outputs": [],
   "source": [
    "df = df[df['pricePNight']<3000]"
   ]
  },
  {
   "cell_type": "code",
   "execution_count": null,
   "metadata": {},
   "outputs": [],
   "source": []
  },
  {
   "cell_type": "code",
   "execution_count": null,
   "metadata": {},
   "outputs": [],
   "source": []
  },
  {
   "cell_type": "code",
   "execution_count": null,
   "metadata": {},
   "outputs": [],
   "source": []
  },
  {
   "cell_type": "code",
   "execution_count": null,
   "metadata": {},
   "outputs": [],
   "source": []
  },
  {
   "cell_type": "code",
   "execution_count": null,
   "metadata": {},
   "outputs": [],
   "source": []
  },
  {
   "cell_type": "code",
   "execution_count": null,
   "metadata": {},
   "outputs": [],
   "source": []
  },
  {
   "cell_type": "code",
   "execution_count": null,
   "metadata": {},
   "outputs": [],
   "source": []
  },
  {
   "cell_type": "code",
   "execution_count": null,
   "metadata": {},
   "outputs": [],
   "source": []
  },
  {
   "cell_type": "code",
   "execution_count": null,
   "metadata": {},
   "outputs": [],
   "source": []
  },
  {
   "cell_type": "code",
   "execution_count": null,
   "metadata": {},
   "outputs": [],
   "source": []
  },
  {
   "cell_type": "code",
   "execution_count": null,
   "metadata": {},
   "outputs": [],
   "source": []
  },
  {
   "cell_type": "code",
   "execution_count": null,
   "metadata": {},
   "outputs": [],
   "source": []
  },
  {
   "cell_type": "code",
   "execution_count": null,
   "metadata": {},
   "outputs": [],
   "source": []
  },
  {
   "cell_type": "code",
   "execution_count": null,
   "metadata": {},
   "outputs": [],
   "source": []
  },
  {
   "cell_type": "code",
   "execution_count": null,
   "metadata": {},
   "outputs": [],
   "source": []
  },
  {
   "cell_type": "code",
   "execution_count": null,
   "metadata": {},
   "outputs": [],
   "source": []
  },
  {
   "cell_type": "code",
   "execution_count": null,
   "metadata": {},
   "outputs": [],
   "source": []
  },
  {
   "cell_type": "code",
   "execution_count": null,
   "metadata": {},
   "outputs": [],
   "source": []
  },
  {
   "cell_type": "code",
   "execution_count": null,
   "metadata": {},
   "outputs": [],
   "source": []
  },
  {
   "cell_type": "code",
   "execution_count": null,
   "metadata": {},
   "outputs": [],
   "source": []
  },
  {
   "cell_type": "code",
   "execution_count": null,
   "metadata": {},
   "outputs": [],
   "source": []
  },
  {
   "cell_type": "code",
   "execution_count": null,
   "metadata": {},
   "outputs": [],
   "source": []
  },
  {
   "cell_type": "code",
   "execution_count": null,
   "metadata": {},
   "outputs": [],
   "source": []
  }
 ],
 "metadata": {
  "kernelspec": {
   "display_name": "Python 3",
   "language": "python",
   "name": "python3"
  },
  "language_info": {
   "codemirror_mode": {
    "name": "ipython",
    "version": 3
   },
   "file_extension": ".py",
   "mimetype": "text/x-python",
   "name": "python",
   "nbconvert_exporter": "python",
   "pygments_lexer": "ipython3",
   "version": "3.7.5"
  }
 },
 "nbformat": 4,
 "nbformat_minor": 4
}
