{
  "nbformat": 4,
  "nbformat_minor": 0,
  "metadata": {
    "colab": {
      "name": "1-Limpieza.ipynb",
      "provenance": [],
      "collapsed_sections": []
    },
    "kernelspec": {
      "name": "python3",
      "display_name": "Python 3"
    }
  },
  "cells": [
    {
      "cell_type": "markdown",
      "metadata": {
        "id": "Cn6uYRNE9gVR",
        "colab_type": "text"
      },
      "source": [
        "#PROYECTO MÁSTER KSCHOOL FASE 1: LIMPIEZA\n",
        "\n",
        "**@ GUILLEM ROCHINA & HELENA SAIGÍ**"
      ]
    },
    {
      "cell_type": "markdown",
      "metadata": {
        "id": "KMoHqtYrZnVe",
        "colab_type": "text"
      },
      "source": [
        "## Los datos\n",
        "\n",
        "El dataset que se limpiará a continuacion procede de la web [insideairbnb.com](http://insideairbnb.com/). Consiste en datos 'scrapeados' de la web oficial de AirBNB, donde podemos encontrar archivos csv con información detalla de los pisos ofertados en la web **(listings)**, así como el registro diario de precios **(calendar)** de la ciudad de Barcelona.\n",
        "\n",
        "El objetivo de este notebook es el de recopilar, analizar y detectar los datos útiles para generar un dataset base para la posterior exploración y elaboración de modelos predictivos. Para ello haremos uso de los datasets de listings y calendar, centrando la mayor parte del proceso de limpieza en el primero. "
      ]
    },
    {
      "cell_type": "markdown",
      "metadata": {
        "id": "jHLkh1r6ZhqN",
        "colab_type": "text"
      },
      "source": [
        "**Importación de librerías y datos**"
      ]
    },
    {
      "cell_type": "code",
      "metadata": {
        "id": "gl9bOGeL86pz",
        "colab_type": "code",
        "colab": {
          "base_uri": "https://localhost:8080/",
          "height": 51
        },
        "outputId": "241a9595-d5a7-4b3e-a1cc-80be4804b588"
      },
      "source": [
        "import pandas as pd\n",
        "import numpy as np\n",
        "import matplotlib.pyplot as plt\n",
        "import seaborn as sns\n",
        "pd.set_option('display.max_rows', 100) # Para evitar que nos corte los prints"
      ],
      "execution_count": null,
      "outputs": [
        {
          "output_type": "stream",
          "text": [
            "/usr/local/lib/python3.6/dist-packages/statsmodels/tools/_testing.py:19: FutureWarning: pandas.util.testing is deprecated. Use the functions in the public API at pandas.testing instead.\n",
            "  import pandas.util.testing as tm\n"
          ],
          "name": "stderr"
        }
      ]
    },
    {
      "cell_type": "code",
      "metadata": {
        "id": "OKEAkYbHXNdW",
        "colab_type": "code",
        "colab": {
          "base_uri": "https://localhost:8080/",
          "height": 85
        },
        "outputId": "68547eb0-8a5c-4db4-8fa0-7ef568ae7475"
      },
      "source": [
        "df = pd.read_csv('https://github.com/guiruha/TFMAirBNB/raw/master/archivos/Listings/April2017.zip')\n",
        "df = df.append(pd.read_csv('https://github.com/guiruha/TFMAirBNB/raw/master/archivos/Listings/April2018.zip'), ignore_index = True)\n",
        "df = df.append(pd.read_csv('https://github.com/guiruha/TFMAirBNB/raw/master/archivos/Listings/April2019.zip'), ignore_index = True)\n",
        "df = df.append(pd.read_csv('https://github.com/guiruha/TFMAirBNB/raw/master/archivos/Listings/April2020.zip'), ignore_index = True)"
      ],
      "execution_count": null,
      "outputs": [
        {
          "output_type": "stream",
          "text": [
            "/usr/local/lib/python3.6/dist-packages/IPython/core/interactiveshell.py:2718: DtypeWarning: Columns (43) have mixed types.Specify dtype option on import or set low_memory=False.\n",
            "  interactivity=interactivity, compiler=compiler, result=result)\n",
            "/usr/local/lib/python3.6/dist-packages/IPython/core/interactiveshell.py:2718: DtypeWarning: Columns (43,61,62) have mixed types.Specify dtype option on import or set low_memory=False.\n",
            "  interactivity=interactivity, compiler=compiler, result=result)\n"
          ],
          "name": "stderr"
        }
      ]
    },
    {
      "cell_type": "markdown",
      "metadata": {
        "id": "fi038ZmULNcC",
        "colab_type": "text"
      },
      "source": [
        "##**Listings**"
      ]
    },
    {
      "cell_type": "markdown",
      "metadata": {
        "id": "-rfcOOMNsqAx",
        "colab_type": "text"
      },
      "source": [
        "## Limpieza Superficial\n",
        "\n",
        "En primer lugar realizaremos una limpieza de los elementos que debido su naturaleza, no nos sirven para el análisis de nuestro proyecto. Por ejemplo, columnas que recopilan urls y que no son de utilidad. Por otro lado, dado que a lo largo de este proyeto se ha decidido no hacer uso de NLP para centrarse en otros puntos del análisis, las columnas de texto serán eliminadas también junto a las anteriormente mencionadas."
      ]
    },
    {
      "cell_type": "code",
      "metadata": {
        "id": "VMa3SvcT9zTT",
        "colab_type": "code",
        "colab": {}
      },
      "source": [
        "df.drop(df.columns[df.columns.str.endswith('url')], axis = 1, inplace = True)"
      ],
      "execution_count": null,
      "outputs": []
    },
    {
      "cell_type": "code",
      "metadata": {
        "id": "ybjzjyHI0tIP",
        "colab_type": "code",
        "colab": {}
      },
      "source": [
        "DropC = ['name', 'summary', 'space', 'description', 'neighborhood_overview', 'notes', 'transit',\n",
        "         'interaction', 'house_rules', 'access', 'jurisdiction_names']\n",
        "df.drop(DropC, axis = 1, inplace = True)"
      ],
      "execution_count": null,
      "outputs": []
    },
    {
      "cell_type": "markdown",
      "metadata": {
        "id": "BTtzJ6c-iFWi",
        "colab_type": "text"
      },
      "source": [
        "Como podemos observar, de los **75558** listings que posee nuestro dataset, **32046** son pisos repetidos, por lo cual eliminaremos los duplicamos a fin de reducir el coste computacional de nuestro posterior código."
      ]
    },
    {
      "cell_type": "code",
      "metadata": {
        "id": "d9VtUd-zg_jW",
        "colab_type": "code",
        "colab": {
          "base_uri": "https://localhost:8080/",
          "height": 51
        },
        "outputId": "842c106b-3cc5-4db3-ac7e-35ded678886f"
      },
      "source": [
        "print(df.shape[0])\n",
        "print(df.shape[0]-len(df['id'].unique()))"
      ],
      "execution_count": null,
      "outputs": [
        {
          "output_type": "stream",
          "text": [
            "75558\n",
            "32046\n"
          ],
          "name": "stdout"
        }
      ]
    },
    {
      "cell_type": "code",
      "metadata": {
        "id": "PatWuFx5it5c",
        "colab_type": "code",
        "colab": {}
      },
      "source": [
        "df.drop_duplicates(subset = ['id'], inplace = True)"
      ],
      "execution_count": null,
      "outputs": []
    },
    {
      "cell_type": "markdown",
      "metadata": {
        "id": "rigv7H1-cns4",
        "colab_type": "text"
      },
      "source": [
        "A continuación, eliminaremos las columnas cuyo porcentaje de **nulls** supere el 60%. Debido a que las columnas con dicho porcentaje no nos resultan de gran utilidad."
      ]
    },
    {
      "cell_type": "code",
      "metadata": {
        "id": "zNSgdtHj9zVF",
        "colab_type": "code",
        "colab": {
          "base_uri": "https://localhost:8080/",
          "height": 289
        },
        "outputId": "417634d6-7dc5-4604-db33-205026607bbc"
      },
      "source": [
        "nulls = df.isnull().sum() / df.shape[0]\n",
        "nulls[nulls>0.5]"
      ],
      "execution_count": null,
      "outputs": [
        {
          "output_type": "execute_result",
          "data": {
            "text/plain": [
              "host_acceptance_rate                            0.825129\n",
              "square_feet                                     0.978810\n",
              "weekly_price                                    0.924527\n",
              "monthly_price                                   0.921677\n",
              "license                                         0.615141\n",
              "minimum_minimum_nights                          0.620771\n",
              "maximum_minimum_nights                          0.620771\n",
              "minimum_maximum_nights                          0.620771\n",
              "maximum_maximum_nights                          0.620771\n",
              "minimum_nights_avg_ntm                          0.620771\n",
              "maximum_nights_avg_ntm                          0.620771\n",
              "number_of_reviews_ltm                           0.620771\n",
              "calculated_host_listings_count_entire_homes     0.620771\n",
              "calculated_host_listings_count_private_rooms    0.620771\n",
              "calculated_host_listings_count_shared_rooms     0.620771\n",
              "dtype: float64"
            ]
          },
          "metadata": {
            "tags": []
          },
          "execution_count": 7
        }
      ]
    },
    {
      "cell_type": "code",
      "metadata": {
        "id": "2FUtkqFm9zW0",
        "colab_type": "code",
        "colab": {}
      },
      "source": [
        "df.drop(nulls[nulls>0.6].index, axis = 1, inplace = True)"
      ],
      "execution_count": null,
      "outputs": []
    },
    {
      "cell_type": "markdown",
      "metadata": {
        "id": "G-9ubuvZk4Xw",
        "colab_type": "text"
      },
      "source": [
        "Por otro lado, columnas respecto al scraping o información del host no resulta de gran interés, por ello, las eliminamos también del dataset."
      ]
    },
    {
      "cell_type": "code",
      "metadata": {
        "id": "wGLGrnER9zZN",
        "colab_type": "code",
        "colab": {}
      },
      "source": [
        "DropC = ['scrape_id', 'last_scraped', 'host_name', 'host_location', 'host_neighbourhood', 'calendar_updated', 'calendar_last_scraped'] # Aunque parezca redundante hacer esto, ayuda a una mejor lectura del código.\n",
        "df.drop(DropC, axis = 1, inplace = True)"
      ],
      "execution_count": null,
      "outputs": []
    },
    {
      "cell_type": "markdown",
      "metadata": {
        "id": "tZaorRoEswJ8",
        "colab_type": "text"
      },
      "source": [
        "##Limpieza Exhaustiva\n",
        "\n",
        "Una vez eliminadas las columnas menos útiles a primera vista, procedemos a analizar más en profundidad el resto de columnas. **Empezaremos con las que contengan strings (de tipo object).**"
      ]
    },
    {
      "cell_type": "code",
      "metadata": {
        "id": "FbxOQ5Ug_iwD",
        "colab_type": "code",
        "colab": {
          "base_uri": "https://localhost:8080/",
          "height": 680
        },
        "outputId": "5b1906be-7472-4542-deee-43880ea5b451"
      },
      "source": [
        "objectcol = df.dtypes[df.dtypes == 'object']\n",
        "numcol = df.dtypes[df.dtypes != 'object']\n",
        "objectcol"
      ],
      "execution_count": null,
      "outputs": [
        {
          "output_type": "execute_result",
          "data": {
            "text/plain": [
              "experiences_offered                 object\n",
              "host_since                          object\n",
              "host_about                          object\n",
              "host_response_time                  object\n",
              "host_response_rate                  object\n",
              "host_is_superhost                   object\n",
              "host_verifications                  object\n",
              "host_has_profile_pic                object\n",
              "host_identity_verified              object\n",
              "street                              object\n",
              "neighbourhood                       object\n",
              "neighbourhood_cleansed              object\n",
              "neighbourhood_group_cleansed        object\n",
              "city                                object\n",
              "state                               object\n",
              "zipcode                             object\n",
              "market                              object\n",
              "smart_location                      object\n",
              "country_code                        object\n",
              "country                             object\n",
              "is_location_exact                   object\n",
              "property_type                       object\n",
              "room_type                           object\n",
              "bed_type                            object\n",
              "amenities                           object\n",
              "price                               object\n",
              "security_deposit                    object\n",
              "cleaning_fee                        object\n",
              "extra_people                        object\n",
              "has_availability                    object\n",
              "first_review                        object\n",
              "last_review                         object\n",
              "requires_license                    object\n",
              "instant_bookable                    object\n",
              "cancellation_policy                 object\n",
              "require_guest_profile_picture       object\n",
              "require_guest_phone_verification    object\n",
              "is_business_travel_ready            object\n",
              "dtype: object"
            ]
          },
          "metadata": {
            "tags": []
          },
          "execution_count": 10
        }
      ]
    },
    {
      "cell_type": "code",
      "metadata": {
        "id": "eFWFTLVx9zfz",
        "colab_type": "code",
        "colab": {
          "base_uri": "https://localhost:8080/",
          "height": 374
        },
        "outputId": "8c3ef4db-897a-46b5-d182-4292487391de"
      },
      "source": [
        "df['experiences_offered'].sample(20)"
      ],
      "execution_count": null,
      "outputs": [
        {
          "output_type": "execute_result",
          "data": {
            "text/plain": [
              "42413    none\n",
              "73578    none\n",
              "13410    none\n",
              "24239    none\n",
              "68786    none\n",
              "74673    none\n",
              "73182    none\n",
              "54098    none\n",
              "59080    none\n",
              "19097    none\n",
              "52647    none\n",
              "6684     none\n",
              "35785    none\n",
              "16416    none\n",
              "10831    none\n",
              "36425    none\n",
              "64339    none\n",
              "31241    none\n",
              "160      none\n",
              "48604    none\n",
              "Name: experiences_offered, dtype: object"
            ]
          },
          "metadata": {
            "tags": []
          },
          "execution_count": 11
        }
      ]
    },
    {
      "cell_type": "markdown",
      "metadata": {
        "id": "xujNWuFTquNh",
        "colab_type": "text"
      },
      "source": [
        "### Experiences offered\n",
        "\n",
        "Dicha columna suponemos que recoge las experiencias que los propietarios ofrecen a sus posibles inquilinos. No obstante no podemos sacar conclusiones fiables debido a la poca información que proporciona."
      ]
    },
    {
      "cell_type": "code",
      "metadata": {
        "id": "jhkqdS_Y9zj8",
        "colab_type": "code",
        "colab": {
          "base_uri": "https://localhost:8080/",
          "height": 51
        },
        "outputId": "94ac3539-11e6-48c8-d9ee-22daacadd7de"
      },
      "source": [
        "display(df['experiences_offered'].value_counts())\n",
        "df.drop(['experiences_offered'], axis = 1, inplace = True)"
      ],
      "execution_count": null,
      "outputs": [
        {
          "output_type": "display_data",
          "data": {
            "text/plain": [
              "none    43512\n",
              "Name: experiences_offered, dtype: int64"
            ]
          },
          "metadata": {
            "tags": []
          }
        }
      ]
    },
    {
      "cell_type": "markdown",
      "metadata": {
        "id": "ZZZ3qZqnpQcy",
        "colab_type": "text"
      },
      "source": [
        "Ni uno de los propietarios ha publicado nada en esta sección de su oferta y sin embargo, no se han reconocido como **NaN** debido a que se ha introducido **none** en vez de dejarlo en blanco, por lo que, una vez detectado, es innecesario mantener esta columna."
      ]
    },
    {
      "cell_type": "markdown",
      "metadata": {
        "id": "sFPxxqX3rbEf",
        "colab_type": "text"
      },
      "source": [
        "### Host_since\n",
        "\n",
        "Fecha en la que el propietario se registró en la plataforma de AirBNB"
      ]
    },
    {
      "cell_type": "markdown",
      "metadata": {
        "id": "emRkegLMrOyc",
        "colab_type": "text"
      },
      "source": [
        "La columna **host_since** nos servirá en un futuro (en la fase de Exploración) para calcular la antigüedad del propietario en AirBNB (Creemos que los usuarios más veteranos podrían poner precios de alquiler más altos)."
      ]
    },
    {
      "cell_type": "code",
      "metadata": {
        "id": "0l8KmpSV9zmK",
        "colab_type": "code",
        "colab": {
          "base_uri": "https://localhost:8080/",
          "height": 221
        },
        "outputId": "b4589094-9bed-43a9-fe2b-9c49fc65e536"
      },
      "source": [
        "df['host_since']"
      ],
      "execution_count": null,
      "outputs": [
        {
          "output_type": "execute_result",
          "data": {
            "text/plain": [
              "0        2013-07-28\n",
              "1        2015-11-11\n",
              "2        2015-08-08\n",
              "3        2015-10-31\n",
              "4        2013-07-18\n",
              "            ...    \n",
              "75553    2012-08-08\n",
              "75554    2013-02-06\n",
              "75555    2019-01-25\n",
              "75556    2013-02-06\n",
              "75557    2017-04-30\n",
              "Name: host_since, Length: 43512, dtype: object"
            ]
          },
          "metadata": {
            "tags": []
          },
          "execution_count": 13
        }
      ]
    },
    {
      "cell_type": "markdown",
      "metadata": {
        "id": "0JFcYJUkqAW_",
        "colab_type": "text"
      },
      "source": [
        "### Host_response_time\n",
        "\n",
        "La columna host response time nos indica el tiempo que tarda de media el propietario en responder a las cuestiones o mensajes que sus inquilinos o posibles inclinos realizan."
      ]
    },
    {
      "cell_type": "markdown",
      "metadata": {
        "id": "07wanoRqqLrG",
        "colab_type": "text"
      },
      "source": [
        "La existencia de 5627 registros con **NaNs** en la columna de **host_response_time** puede deberse a la incapacidad de determinar cuanto tarda el propietario en responder a los mensajes, no obstante, eliminar las filas sería un error ya que el resto de información de los listings parece correcta, por lo que con el objetivo de mantener dichas filas, se sustituyen todos los valores faltantes por una nueva categoría, **undetemined** (para mantener la consistencia del idioma)."
      ]
    },
    {
      "cell_type": "code",
      "metadata": {
        "id": "HURi4tIg9zok",
        "colab_type": "code",
        "colab": {
          "base_uri": "https://localhost:8080/",
          "height": 119
        },
        "outputId": "d052fc17-ddd2-41c1-e1eb-1cb93bf6f55e"
      },
      "source": [
        "df['host_response_time'].value_counts(dropna = False)"
      ],
      "execution_count": null,
      "outputs": [
        {
          "output_type": "execute_result",
          "data": {
            "text/plain": [
              "within an hour        23711\n",
              "within a few hours     7546\n",
              "NaN                    5627\n",
              "within a day           5231\n",
              "a few days or more     1397\n",
              "Name: host_response_time, dtype: int64"
            ]
          },
          "metadata": {
            "tags": []
          },
          "execution_count": 14
        }
      ]
    },
    {
      "cell_type": "code",
      "metadata": {
        "id": "ct3m0KUps46j",
        "colab_type": "code",
        "colab": {
          "base_uri": "https://localhost:8080/",
          "height": 119
        },
        "outputId": "cfbc7825-2013-4b72-d0ef-abca599cefe4"
      },
      "source": [
        "df['host_response_time'].fillna('undetermined', inplace = True)\n",
        "df['host_response_time'].value_counts(dropna = False)"
      ],
      "execution_count": null,
      "outputs": [
        {
          "output_type": "execute_result",
          "data": {
            "text/plain": [
              "within an hour        23711\n",
              "within a few hours     7546\n",
              "undetermined           5627\n",
              "within a day           5231\n",
              "a few days or more     1397\n",
              "Name: host_response_time, dtype: int64"
            ]
          },
          "metadata": {
            "tags": []
          },
          "execution_count": 15
        }
      ]
    },
    {
      "cell_type": "markdown",
      "metadata": {
        "id": "o2CN46I6r1ci",
        "colab_type": "text"
      },
      "source": [
        "### Host_response_rate\n",
        "\n",
        "Host_response_rate indica el porcentaje de preguntas y mensajes que los propietarios responden normalmente."
      ]
    },
    {
      "cell_type": "markdown",
      "metadata": {
        "id": "aMGVIDYDx-Oc",
        "colab_type": "text"
      },
      "source": [
        "Como podemos observar, la mayoría de propietarios suele responder la mayoría de los mensajes de los usuarios (el 80% de propietarios responden a más del 80% de mensajes). Por otro lado, existe un 13% de **Nulls** que sospechamos es debido a su reciente incorporación a la web (No ha dado tiempo a registrar esos valores debido a su corto periodo en la plataforma).\n",
        "\n",
        "Por tanto, a pesar de que se podría recurrir a la discretización de esta variable, hemos optado por eliminarla, ya que sospechamos que nos va a aportar poca información y queremos evitar en la medida de lo posible la **maldición de la dimensionalidad**."
      ]
    },
    {
      "cell_type": "code",
      "metadata": {
        "id": "uxnmbXTf9zq4",
        "colab_type": "code",
        "colab": {
          "base_uri": "https://localhost:8080/",
          "height": 459
        },
        "outputId": "a1ee51fc-3675-4933-a6ff-e4e3479161be"
      },
      "source": [
        "temp = df['host_response_rate'].str.replace('%', '').fillna('9999').astype('int')\n",
        "temp.value_counts(dropna = False, normalize = True).sort_index().cumsum()[-25:]"
      ],
      "execution_count": null,
      "outputs": [
        {
          "output_type": "execute_result",
          "data": {
            "text/plain": [
              "77      0.088160\n",
              "78      0.089883\n",
              "79      0.092021\n",
              "80      0.110820\n",
              "81      0.112567\n",
              "82      0.115233\n",
              "83      0.123115\n",
              "84      0.123759\n",
              "85      0.125896\n",
              "86      0.131044\n",
              "87      0.133825\n",
              "88      0.138743\n",
              "89      0.145178\n",
              "90      0.177078\n",
              "91      0.182938\n",
              "92      0.188477\n",
              "93      0.196566\n",
              "94      0.206817\n",
              "95      0.216055\n",
              "96      0.226145\n",
              "97      0.243910\n",
              "98      0.261468\n",
              "99      0.290977\n",
              "100     0.870679\n",
              "9999    1.000000\n",
              "Name: host_response_rate, dtype: float64"
            ]
          },
          "metadata": {
            "tags": []
          },
          "execution_count": 16
        }
      ]
    },
    {
      "cell_type": "code",
      "metadata": {
        "id": "FzTd5rXhzV4o",
        "colab_type": "code",
        "colab": {}
      },
      "source": [
        "df.drop('host_response_rate', axis = 1, inplace = True)"
      ],
      "execution_count": null,
      "outputs": []
    },
    {
      "cell_type": "markdown",
      "metadata": {
        "id": "QtIE2dG1tNuL",
        "colab_type": "text"
      },
      "source": [
        "### Host_is_superhost\n",
        "\n",
        "Ser superhost implica cierta veteranía en AirBNB, por lo que se podrían registrar precios más altos entre los listings de usuarios que disfrutan de esta situación."
      ]
    },
    {
      "cell_type": "markdown",
      "metadata": {
        "id": "uLK6H_5mz8Wk",
        "colab_type": "text"
      },
      "source": [
        "El atributo **host_is_superhost** se trata de una variable dicotómica (True o False), por lo que a fin de tener consistencia con los algoritmos de **Scikit-Learn** realizamos el llamado *One Hot Encoding* a fin de crear un variable dummy."
      ]
    },
    {
      "cell_type": "code",
      "metadata": {
        "id": "tRzyXjLMycgZ",
        "colab_type": "code",
        "colab": {
          "base_uri": "https://localhost:8080/",
          "height": 68
        },
        "outputId": "8cfc20fc-c0c5-43eb-d021-7cb159829b52"
      },
      "source": [
        "df['host_is_superhost'].value_counts()"
      ],
      "execution_count": null,
      "outputs": [
        {
          "output_type": "execute_result",
          "data": {
            "text/plain": [
              "f    39875\n",
              "t     3621\n",
              "Name: host_is_superhost, dtype: int64"
            ]
          },
          "metadata": {
            "tags": []
          },
          "execution_count": 18
        }
      ]
    },
    {
      "cell_type": "code",
      "metadata": {
        "id": "cOqdWkhW9zs5",
        "colab_type": "code",
        "colab": {}
      },
      "source": [
        "df['host_is_superhost'] = df['host_is_superhost'].apply(lambda x: 1 if x == 't' else 0)"
      ],
      "execution_count": null,
      "outputs": []
    },
    {
      "cell_type": "markdown",
      "metadata": {
        "id": "wp_T2rckt3zG",
        "colab_type": "text"
      },
      "source": [
        "### Host_verifications\n",
        "\n",
        "La columna host_verifications indica que formas de contacto e identificación aportados por el propietario han sido verificadas por AirBNB."
      ]
    },
    {
      "cell_type": "markdown",
      "metadata": {
        "id": "i-MRwBSk5PzZ",
        "colab_type": "text"
      },
      "source": [
        "Las verificaciones de los propietarios las hemos tratado mediante la creación de variables dummy en los que queda registrado el propietario posee (1) o no (0) dicha verificación. Existen muchas más verificaciones de las que hemos añadido, pero a fin de no crear excesivos atributos, hemos optado por las 5 que podéis ver en el siguiente código."
      ]
    },
    {
      "cell_type": "code",
      "metadata": {
        "id": "iVJ0Q64-0-iL",
        "colab_type": "code",
        "colab": {
          "base_uri": "https://localhost:8080/",
          "height": 204
        },
        "outputId": "086bbe84-cbb6-4140-9a97-3143eb172e8f"
      },
      "source": [
        "temp = df['host_verifications'].str.replace('[','').str.replace(']','').str.replace(\"'\", \"\")\n",
        "temp.value_counts(normalize = True).sort_values(ascending = False)[0:10]"
      ],
      "execution_count": null,
      "outputs": [
        {
          "output_type": "execute_result",
          "data": {
            "text/plain": [
              "email, phone, reviews                                                                          0.169241\n",
              "email, phone                                                                                   0.121828\n",
              "email, phone, reviews, jumio                                                                   0.114474\n",
              "email, phone, reviews, jumio, government_id                                                    0.057203\n",
              "email, phone, facebook, reviews                                                                0.041414\n",
              "email, phone, reviews, jumio, offline_government_id, selfie, government_id, identity_manual    0.040862\n",
              "email, phone, jumio, offline_government_id, selfie, government_id, identity_manual             0.039208\n",
              "email, phone, facebook, reviews, jumio                                                         0.030566\n",
              "phone                                                                                          0.029302\n",
              "email, phone, reviews, jumio, offline_government_id, government_id                             0.028337\n",
              "Name: host_verifications, dtype: float64"
            ]
          },
          "metadata": {
            "tags": []
          },
          "execution_count": 20
        }
      ]
    },
    {
      "cell_type": "code",
      "metadata": {
        "id": "kAHZkk4z3bjp",
        "colab_type": "code",
        "colab": {
          "base_uri": "https://localhost:8080/",
          "height": 187
        },
        "outputId": "54af399c-c3c2-489a-aa88-4f753aef0a70"
      },
      "source": [
        "for verif in ['email', 'phone', 'reviews', 'jumio', 'government_id']:\n",
        "  print('\\nEl {}% de los propietarios tienen {} verificado'.format(temp.str.contains(verif).sum()/temp.shape[0], verif))"
      ],
      "execution_count": null,
      "outputs": [
        {
          "output_type": "stream",
          "text": [
            "\n",
            "El 0.9329840044125759% de los propietarios tienen email verificado\n",
            "\n",
            "El 0.992186063614635% de los propietarios tienen phone verificado\n",
            "\n",
            "El 0.7023349880492737% de los propietarios tienen reviews verificado\n",
            "\n",
            "El 0.5191441441441441% de los propietarios tienen jumio verificado\n",
            "\n",
            "El 0.37226512226512226% de los propietarios tienen government_id verificado\n"
          ],
          "name": "stdout"
        }
      ]
    },
    {
      "cell_type": "code",
      "metadata": {
        "id": "kVmjq24G9zxk",
        "colab_type": "code",
        "colab": {}
      },
      "source": [
        "df['host_emailverified'] = df['host_verifications'].apply(lambda x: 1 if 'email' in x else 0)\n",
        "df['host_phoneverified'] = df['host_verifications'].apply(lambda x: 1 if 'phone' in x else 0)\n",
        "df['host_hasjumio'] = df['host_verifications'].apply(lambda x: 1 if 'jumio' in x else 0)\n",
        "df['host_reviewverified'] = df['host_verifications'].apply(lambda x: 1 if 'review' in x else 0)\n",
        "df['host_selfieverified'] = df['host_verifications'].apply(lambda x: 1 if 'selfie' in x else 0)\n",
        "df['host_idverified'] = df['host_verifications'].apply(lambda x: 1 if 'government_id' in x else 0)\n",
        "df.drop(['host_verifications'], axis = 1, inplace = True)"
      ],
      "execution_count": null,
      "outputs": []
    },
    {
      "cell_type": "markdown",
      "metadata": {
        "id": "GdwvVMzLurAk",
        "colab_type": "text"
      },
      "source": [
        "### Host_has_profile_pic y Host_identity_verified\n",
        "\n",
        "Ambas columnas indican con True or False las condiciones estipuladas en sus nombres, si el propietario tiene foto de perfil y si su identidad ha sido verificada por AriBNB. Las otras dos variables son dicotómicas, por lo que aplicamos el mismo procedimiento de antes."
      ]
    },
    {
      "cell_type": "code",
      "metadata": {
        "id": "pbSvxCkf9z0N",
        "colab_type": "code",
        "colab": {}
      },
      "source": [
        "df['host_has_profile_pic'] = df['host_has_profile_pic'].apply(lambda x: 1 if x == 't' else 0)\n",
        "df['host_identity_verified'] = df['host_identity_verified'].apply(lambda x: 1 if x == 't' else 0)"
      ],
      "execution_count": null,
      "outputs": []
    },
    {
      "cell_type": "markdown",
      "metadata": {
        "id": "_Jmeo7hMvIeb",
        "colab_type": "text"
      },
      "source": [
        "### Columnas relacionadas con la localización de los alojamientos"
      ]
    },
    {
      "cell_type": "markdown",
      "metadata": {
        "id": "WuiBKuWS8thY",
        "colab_type": "text"
      },
      "source": [
        "Mientras que street es una columna que nos aporta poca información (todos los pisos son de Barcelona), las tres columnas referidas al barrio indican lo mismo, por lo que nos quedamos con la más resumida de todas, **neighbourhood_group_cleansed**."
      ]
    },
    {
      "cell_type": "code",
      "metadata": {
        "id": "L7F1zzin9z2i",
        "colab_type": "code",
        "colab": {
          "base_uri": "https://localhost:8080/",
          "height": 419
        },
        "outputId": "dbdc2b3c-27d3-4ae8-f45a-1716564cf16e"
      },
      "source": [
        "df[['street', 'neighbourhood', 'neighbourhood_cleansed', 'neighbourhood_group_cleansed']]"
      ],
      "execution_count": null,
      "outputs": [
        {
          "output_type": "execute_result",
          "data": {
            "text/html": [
              "<div>\n",
              "<style scoped>\n",
              "    .dataframe tbody tr th:only-of-type {\n",
              "        vertical-align: middle;\n",
              "    }\n",
              "\n",
              "    .dataframe tbody tr th {\n",
              "        vertical-align: top;\n",
              "    }\n",
              "\n",
              "    .dataframe thead th {\n",
              "        text-align: right;\n",
              "    }\n",
              "</style>\n",
              "<table border=\"1\" class=\"dataframe\">\n",
              "  <thead>\n",
              "    <tr style=\"text-align: right;\">\n",
              "      <th></th>\n",
              "      <th>street</th>\n",
              "      <th>neighbourhood</th>\n",
              "      <th>neighbourhood_cleansed</th>\n",
              "      <th>neighbourhood_group_cleansed</th>\n",
              "    </tr>\n",
              "  </thead>\n",
              "  <tbody>\n",
              "    <tr>\n",
              "      <th>0</th>\n",
              "      <td>El Raval, Barcelona, Catalunya 08001, Spain</td>\n",
              "      <td>El Raval</td>\n",
              "      <td>el Raval</td>\n",
              "      <td>Ciutat Vella</td>\n",
              "    </tr>\n",
              "    <tr>\n",
              "      <th>1</th>\n",
              "      <td>Barcelona, Catalunya 08005, Spain</td>\n",
              "      <td>NaN</td>\n",
              "      <td>el Raval</td>\n",
              "      <td>Ciutat Vella</td>\n",
              "    </tr>\n",
              "    <tr>\n",
              "      <th>2</th>\n",
              "      <td>El Raval, Barcelona, Catalunya 08001, Spain</td>\n",
              "      <td>El Raval</td>\n",
              "      <td>el Raval</td>\n",
              "      <td>Ciutat Vella</td>\n",
              "    </tr>\n",
              "    <tr>\n",
              "      <th>3</th>\n",
              "      <td>El Raval, Barcelona, Catalunya 08001, Spain</td>\n",
              "      <td>El Raval</td>\n",
              "      <td>el Raval</td>\n",
              "      <td>Ciutat Vella</td>\n",
              "    </tr>\n",
              "    <tr>\n",
              "      <th>4</th>\n",
              "      <td>El Raval, Barcelona, Catalonia 08001, Spain</td>\n",
              "      <td>El Raval</td>\n",
              "      <td>el Raval</td>\n",
              "      <td>Ciutat Vella</td>\n",
              "    </tr>\n",
              "    <tr>\n",
              "      <th>...</th>\n",
              "      <td>...</td>\n",
              "      <td>...</td>\n",
              "      <td>...</td>\n",
              "      <td>...</td>\n",
              "    </tr>\n",
              "    <tr>\n",
              "      <th>75553</th>\n",
              "      <td>Barcelona, Catalunya, Spain</td>\n",
              "      <td>Ciutat Vella</td>\n",
              "      <td>Sant Pere, Santa Caterina i la Ribera</td>\n",
              "      <td>Ciutat Vella</td>\n",
              "    </tr>\n",
              "    <tr>\n",
              "      <th>75554</th>\n",
              "      <td>Barcelona, Catalunya, Spain</td>\n",
              "      <td>Dreta de l'Eixample</td>\n",
              "      <td>la Dreta de l'Eixample</td>\n",
              "      <td>Eixample</td>\n",
              "    </tr>\n",
              "    <tr>\n",
              "      <th>75555</th>\n",
              "      <td>Barcelona, Catalunha, Spain</td>\n",
              "      <td>Eixample</td>\n",
              "      <td>Sant Antoni</td>\n",
              "      <td>Eixample</td>\n",
              "    </tr>\n",
              "    <tr>\n",
              "      <th>75556</th>\n",
              "      <td>Barcelona, Catalunya, Spain</td>\n",
              "      <td>Ciutat Vella</td>\n",
              "      <td>el Raval</td>\n",
              "      <td>Ciutat Vella</td>\n",
              "    </tr>\n",
              "    <tr>\n",
              "      <th>75557</th>\n",
              "      <td>Barcelona, Catalunya, Spain</td>\n",
              "      <td>El Gòtic</td>\n",
              "      <td>la Nova Esquerra de l'Eixample</td>\n",
              "      <td>Eixample</td>\n",
              "    </tr>\n",
              "  </tbody>\n",
              "</table>\n",
              "<p>43512 rows × 4 columns</p>\n",
              "</div>"
            ],
            "text/plain": [
              "                                            street  ... neighbourhood_group_cleansed\n",
              "0      El Raval, Barcelona, Catalunya 08001, Spain  ...                 Ciutat Vella\n",
              "1                Barcelona, Catalunya 08005, Spain  ...                 Ciutat Vella\n",
              "2      El Raval, Barcelona, Catalunya 08001, Spain  ...                 Ciutat Vella\n",
              "3      El Raval, Barcelona, Catalunya 08001, Spain  ...                 Ciutat Vella\n",
              "4      El Raval, Barcelona, Catalonia 08001, Spain  ...                 Ciutat Vella\n",
              "...                                            ...  ...                          ...\n",
              "75553                  Barcelona, Catalunya, Spain  ...                 Ciutat Vella\n",
              "75554                  Barcelona, Catalunya, Spain  ...                     Eixample\n",
              "75555                  Barcelona, Catalunha, Spain  ...                     Eixample\n",
              "75556                  Barcelona, Catalunya, Spain  ...                 Ciutat Vella\n",
              "75557                  Barcelona, Catalunya, Spain  ...                     Eixample\n",
              "\n",
              "[43512 rows x 4 columns]"
            ]
          },
          "metadata": {
            "tags": []
          },
          "execution_count": 24
        }
      ]
    },
    {
      "cell_type": "code",
      "metadata": {
        "id": "GzhmeRbZ9z46",
        "colab_type": "code",
        "colab": {}
      },
      "source": [
        "DropC = ['street', 'neighbourhood', 'neighbourhood_cleansed']\n",
        "df.drop(DropC, axis = 1, inplace = True)"
      ],
      "execution_count": null,
      "outputs": []
    },
    {
      "cell_type": "code",
      "metadata": {
        "id": "pLYrPJyQGVB4",
        "colab_type": "code",
        "colab": {
          "base_uri": "https://localhost:8080/",
          "height": 204
        },
        "outputId": "0ac23bfc-6866-4542-e582-ff092dc8ad77"
      },
      "source": [
        "df['neighbourhood_group_cleansed'].value_counts(dropna = False)"
      ],
      "execution_count": null,
      "outputs": [
        {
          "output_type": "execute_result",
          "data": {
            "text/plain": [
              "Eixample               13517\n",
              "Ciutat Vella           10802\n",
              "Sants-Montjuïc          5155\n",
              "Sant Martí              4731\n",
              "Gràcia                  3730\n",
              "Sarrià-Sant Gervasi     1689\n",
              "Horta-Guinardó          1423\n",
              "Les Corts               1081\n",
              "Sant Andreu              798\n",
              "Nou Barris               586\n",
              "Name: neighbourhood_group_cleansed, dtype: int64"
            ]
          },
          "metadata": {
            "tags": []
          },
          "execution_count": 26
        }
      ]
    },
    {
      "cell_type": "markdown",
      "metadata": {
        "id": "PhjB2l8w-C3-",
        "colab_type": "text"
      },
      "source": [
        "El resto de columnas referidas a la localización de listings nos aportan información muy poco útil (es evidente la localización de los listings si todos son de Barcelona) por lo que las eliminamos sin mayor problema."
      ]
    },
    {
      "cell_type": "code",
      "metadata": {
        "id": "eSrDGGLK9z7Z",
        "colab_type": "code",
        "colab": {
          "base_uri": "https://localhost:8080/",
          "height": 419
        },
        "outputId": "2d61de22-90e1-480f-d064-6335e750184d"
      },
      "source": [
        "display(df[['city', 'state', 'zipcode', 'market', 'smart_location', 'country_code', 'country']])\n",
        "DropC = ['city', 'state', 'zipcode', 'market', 'smart_location', 'country_code', 'country']\n",
        "df.drop(DropC, axis = 1, inplace = True)"
      ],
      "execution_count": null,
      "outputs": [
        {
          "output_type": "display_data",
          "data": {
            "text/html": [
              "<div>\n",
              "<style scoped>\n",
              "    .dataframe tbody tr th:only-of-type {\n",
              "        vertical-align: middle;\n",
              "    }\n",
              "\n",
              "    .dataframe tbody tr th {\n",
              "        vertical-align: top;\n",
              "    }\n",
              "\n",
              "    .dataframe thead th {\n",
              "        text-align: right;\n",
              "    }\n",
              "</style>\n",
              "<table border=\"1\" class=\"dataframe\">\n",
              "  <thead>\n",
              "    <tr style=\"text-align: right;\">\n",
              "      <th></th>\n",
              "      <th>city</th>\n",
              "      <th>state</th>\n",
              "      <th>zipcode</th>\n",
              "      <th>market</th>\n",
              "      <th>smart_location</th>\n",
              "      <th>country_code</th>\n",
              "      <th>country</th>\n",
              "    </tr>\n",
              "  </thead>\n",
              "  <tbody>\n",
              "    <tr>\n",
              "      <th>0</th>\n",
              "      <td>Barcelona</td>\n",
              "      <td>Catalunya</td>\n",
              "      <td>08001</td>\n",
              "      <td>Barcelona</td>\n",
              "      <td>Barcelona, Spain</td>\n",
              "      <td>ES</td>\n",
              "      <td>Spain</td>\n",
              "    </tr>\n",
              "    <tr>\n",
              "      <th>1</th>\n",
              "      <td>Barcelona</td>\n",
              "      <td>Catalunya</td>\n",
              "      <td>08005</td>\n",
              "      <td>Barcelona</td>\n",
              "      <td>Barcelona, Spain</td>\n",
              "      <td>ES</td>\n",
              "      <td>Spain</td>\n",
              "    </tr>\n",
              "    <tr>\n",
              "      <th>2</th>\n",
              "      <td>Barcelona</td>\n",
              "      <td>Catalunya</td>\n",
              "      <td>08001</td>\n",
              "      <td>Barcelona</td>\n",
              "      <td>Barcelona, Spain</td>\n",
              "      <td>ES</td>\n",
              "      <td>Spain</td>\n",
              "    </tr>\n",
              "    <tr>\n",
              "      <th>3</th>\n",
              "      <td>Barcelona</td>\n",
              "      <td>Catalunya</td>\n",
              "      <td>08001</td>\n",
              "      <td>Barcelona</td>\n",
              "      <td>Barcelona, Spain</td>\n",
              "      <td>ES</td>\n",
              "      <td>Spain</td>\n",
              "    </tr>\n",
              "    <tr>\n",
              "      <th>4</th>\n",
              "      <td>Barcelona</td>\n",
              "      <td>Catalonia</td>\n",
              "      <td>08001</td>\n",
              "      <td>Barcelona</td>\n",
              "      <td>Barcelona, Spain</td>\n",
              "      <td>ES</td>\n",
              "      <td>Spain</td>\n",
              "    </tr>\n",
              "    <tr>\n",
              "      <th>...</th>\n",
              "      <td>...</td>\n",
              "      <td>...</td>\n",
              "      <td>...</td>\n",
              "      <td>...</td>\n",
              "      <td>...</td>\n",
              "      <td>...</td>\n",
              "      <td>...</td>\n",
              "    </tr>\n",
              "    <tr>\n",
              "      <th>75553</th>\n",
              "      <td>Barcelona</td>\n",
              "      <td>Catalunya</td>\n",
              "      <td>8003</td>\n",
              "      <td>Barcelona</td>\n",
              "      <td>Barcelona, Spain</td>\n",
              "      <td>ES</td>\n",
              "      <td>Spain</td>\n",
              "    </tr>\n",
              "    <tr>\n",
              "      <th>75554</th>\n",
              "      <td>Barcelona</td>\n",
              "      <td>Catalunya</td>\n",
              "      <td>8010</td>\n",
              "      <td>Barcelona</td>\n",
              "      <td>Barcelona, Spain</td>\n",
              "      <td>ES</td>\n",
              "      <td>Spain</td>\n",
              "    </tr>\n",
              "    <tr>\n",
              "      <th>75555</th>\n",
              "      <td>Barcelona</td>\n",
              "      <td>Catalunha</td>\n",
              "      <td>8011</td>\n",
              "      <td>Barcelona</td>\n",
              "      <td>Barcelona, Spain</td>\n",
              "      <td>ES</td>\n",
              "      <td>Spain</td>\n",
              "    </tr>\n",
              "    <tr>\n",
              "      <th>75556</th>\n",
              "      <td>Barcelona</td>\n",
              "      <td>Catalunya</td>\n",
              "      <td>8001</td>\n",
              "      <td>Barcelona</td>\n",
              "      <td>Barcelona, Spain</td>\n",
              "      <td>ES</td>\n",
              "      <td>Spain</td>\n",
              "    </tr>\n",
              "    <tr>\n",
              "      <th>75557</th>\n",
              "      <td>Barcelona</td>\n",
              "      <td>Catalunya</td>\n",
              "      <td>8015</td>\n",
              "      <td>Barcelona</td>\n",
              "      <td>Barcelona, Spain</td>\n",
              "      <td>ES</td>\n",
              "      <td>Spain</td>\n",
              "    </tr>\n",
              "  </tbody>\n",
              "</table>\n",
              "<p>43512 rows × 7 columns</p>\n",
              "</div>"
            ],
            "text/plain": [
              "            city      state zipcode  ...    smart_location country_code country\n",
              "0      Barcelona  Catalunya   08001  ...  Barcelona, Spain           ES   Spain\n",
              "1      Barcelona  Catalunya   08005  ...  Barcelona, Spain           ES   Spain\n",
              "2      Barcelona  Catalunya   08001  ...  Barcelona, Spain           ES   Spain\n",
              "3      Barcelona  Catalunya   08001  ...  Barcelona, Spain           ES   Spain\n",
              "4      Barcelona  Catalonia   08001  ...  Barcelona, Spain           ES   Spain\n",
              "...          ...        ...     ...  ...               ...          ...     ...\n",
              "75553  Barcelona  Catalunya    8003  ...  Barcelona, Spain           ES   Spain\n",
              "75554  Barcelona  Catalunya    8010  ...  Barcelona, Spain           ES   Spain\n",
              "75555  Barcelona  Catalunha    8011  ...  Barcelona, Spain           ES   Spain\n",
              "75556  Barcelona  Catalunya    8001  ...  Barcelona, Spain           ES   Spain\n",
              "75557  Barcelona  Catalunya    8015  ...  Barcelona, Spain           ES   Spain\n",
              "\n",
              "[43512 rows x 7 columns]"
            ]
          },
          "metadata": {
            "tags": []
          }
        }
      ]
    },
    {
      "cell_type": "markdown",
      "metadata": {
        "id": "l8gEgfPkwVVd",
        "colab_type": "text"
      },
      "source": [
        "### Is_location_exact\n",
        "\n",
        "Nos indica si la localización se específica concretamente o si se dan indicaciones vagas respecto a el paradero del alojamiento. Aunque dudamos que este atributo sea útil lo trataremos como una variable dicotómica más y analizaremos más adelante si nos puede ser de valor o no."
      ]
    },
    {
      "cell_type": "code",
      "metadata": {
        "id": "PQZ_VPF2wmei",
        "colab_type": "code",
        "colab": {
          "base_uri": "https://localhost:8080/",
          "height": 68
        },
        "outputId": "368a0981-f29c-4150-adc7-5bbfefcc59e1"
      },
      "source": [
        "df['is_location_exact'].value_counts()"
      ],
      "execution_count": null,
      "outputs": [
        {
          "output_type": "execute_result",
          "data": {
            "text/plain": [
              "t    28547\n",
              "f    14965\n",
              "Name: is_location_exact, dtype: int64"
            ]
          },
          "metadata": {
            "tags": []
          },
          "execution_count": 28
        }
      ]
    },
    {
      "cell_type": "code",
      "metadata": {
        "id": "Q-hNiBvxA3Br",
        "colab_type": "code",
        "colab": {}
      },
      "source": [
        "df['is_location_exact'] = df['is_location_exact'].apply(lambda x: 1 if x == 't' else 0)"
      ],
      "execution_count": null,
      "outputs": []
    },
    {
      "cell_type": "markdown",
      "metadata": {
        "id": "e5cHdTTwxL3h",
        "colab_type": "text"
      },
      "source": [
        "### Property_type"
      ]
    },
    {
      "cell_type": "markdown",
      "metadata": {
        "id": "jEumK_3nymzM",
        "colab_type": "text"
      },
      "source": [
        "Al ser categorías muy similares entre sí, generalizaremos esta columna con cuatro categorías (**Apartment, House, Hotel y Other**), ya que queremos evitar la maldición de la dimensionalidad a la vez que mantenemos todos los registros intactos."
      ]
    },
    {
      "cell_type": "code",
      "metadata": {
        "id": "vStmsKeaBBU2",
        "colab_type": "code",
        "colab": {
          "base_uri": "https://localhost:8080/",
          "height": 748
        },
        "outputId": "b95994d8-f293-439a-8307-f9a92a1bb08a"
      },
      "source": [
        "df['property_type'].value_counts()"
      ],
      "execution_count": null,
      "outputs": [
        {
          "output_type": "execute_result",
          "data": {
            "text/plain": [
              "Apartment                 37267\n",
              "House                      1109\n",
              "Loft                        998\n",
              "Condominium                 831\n",
              "Serviced apartment          678\n",
              "Bed & Breakfast             440\n",
              "Guest suite                 339\n",
              "Other                       327\n",
              "Hostel                      280\n",
              "Bed and breakfast           259\n",
              "Boutique hotel              200\n",
              "Guesthouse                  149\n",
              "Boat                        141\n",
              "Hotel                       108\n",
              "Dorm                         81\n",
              "Casa particular (Cuba)       58\n",
              "Aparthotel                   55\n",
              "Townhouse                    48\n",
              "Villa                        39\n",
              "Camper/RV                    17\n",
              "Vacation home                15\n",
              "In-law                        9\n",
              "Dome house                    8\n",
              "Chalet                        8\n",
              "Tiny house                    6\n",
              "Timeshare                     6\n",
              "Barn                          5\n",
              "Casa particular               5\n",
              "Earth house                   3\n",
              "Cottage                       3\n",
              "Cave                          3\n",
              "Cabin                         3\n",
              "Tent                          2\n",
              "Bungalow                      2\n",
              "Farm stay                     2\n",
              "Train                         2\n",
              "Houseboat                     1\n",
              "Bus                           1\n",
              "Lighthouse                    1\n",
              "Castle                        1\n",
              "Nature lodge                  1\n",
              "Parking Space                 1\n",
              "Name: property_type, dtype: int64"
            ]
          },
          "metadata": {
            "tags": []
          },
          "execution_count": 30
        }
      ]
    },
    {
      "cell_type": "code",
      "metadata": {
        "id": "F9YdXtMEBm5u",
        "colab_type": "code",
        "colab": {
          "base_uri": "https://localhost:8080/",
          "height": 102
        },
        "outputId": "55c2c563-45be-4a93-e9fb-b6ad4d8fcec4"
      },
      "source": [
        "tempdict = {'Loft':'Apartment', 'Condominium':'House', 'Serviced apartment': 'Apartment', 'Bed & Breakfast':'Hotel', 'Guest suite': 'Hotel', 'Hostel': 'Hotel', 'Dorm': 'Hotel', 'Casa particular (Cuba)':'House', 'Aparthotel': 'Hotel',\n",
        "            'Townhouse': 'House', 'Villa': 'House', 'Vaction home': 'House', 'Chalet': 'House', 'Dome house': 'House', 'Tiny house': 'House', 'Casa Particular': 'House', 'Apartment': 'Apartment', 'Hotel':'Hotel', 'House':'House'}\n",
        "df['property_type'] = df['property_type'].map(tempdict).fillna('Other')\n",
        "df['property_type'].value_counts()"
      ],
      "execution_count": null,
      "outputs": [
        {
          "output_type": "execute_result",
          "data": {
            "text/plain": [
              "Apartment    38943\n",
              "House         2107\n",
              "Hotel         1303\n",
              "Other         1159\n",
              "Name: property_type, dtype: int64"
            ]
          },
          "metadata": {
            "tags": []
          },
          "execution_count": 31
        }
      ]
    },
    {
      "cell_type": "markdown",
      "metadata": {
        "id": "XH3jrzykyZVF",
        "colab_type": "text"
      },
      "source": [
        "### Room_type\n",
        "\n",
        "Indica el tipo de Habitación de la que dispone el alojamiento. No se realizará ningún tratamiento sobre este atributo."
      ]
    },
    {
      "cell_type": "code",
      "metadata": {
        "id": "nYMzI9UtF0M3",
        "colab_type": "code",
        "colab": {
          "base_uri": "https://localhost:8080/",
          "height": 102
        },
        "outputId": "81e233f8-b118-4f3c-99c6-a82dd933589e"
      },
      "source": [
        "df['room_type'].value_counts()"
      ],
      "execution_count": null,
      "outputs": [
        {
          "output_type": "execute_result",
          "data": {
            "text/plain": [
              "Private room       22841\n",
              "Entire home/apt    20066\n",
              "Shared room          493\n",
              "Hotel room           112\n",
              "Name: room_type, dtype: int64"
            ]
          },
          "metadata": {
            "tags": []
          },
          "execution_count": 32
        }
      ]
    },
    {
      "cell_type": "markdown",
      "metadata": {
        "id": "RLETVGfaztmf",
        "colab_type": "text"
      },
      "source": [
        "### Bed_type\n",
        "\n",
        "Resgistra el tipo de cama de la que dispone el alojamiento. Debido a que la mayoría de registros incluyen una *Real Bed*, eliminamos está columna ya que no nos aporta demasiada información."
      ]
    },
    {
      "cell_type": "code",
      "metadata": {
        "id": "jDu1KtLtGpIP",
        "colab_type": "code",
        "colab": {
          "base_uri": "https://localhost:8080/",
          "height": 119
        },
        "outputId": "0f7e10e5-4d6c-42fd-853c-d9f77d8df0c4"
      },
      "source": [
        "display(df['bed_type'].value_counts())\n",
        "df.drop(['bed_type'], axis = 1, inplace = True)"
      ],
      "execution_count": null,
      "outputs": [
        {
          "output_type": "display_data",
          "data": {
            "text/plain": [
              "Real Bed         43188\n",
              "Pull-out Sofa      219\n",
              "Futon               81\n",
              "Couch               15\n",
              "Airbed               8\n",
              "Name: bed_type, dtype: int64"
            ]
          },
          "metadata": {
            "tags": []
          }
        }
      ]
    },
    {
      "cell_type": "markdown",
      "metadata": {
        "id": "w4a6k9Ms0Kg4",
        "colab_type": "text"
      },
      "source": [
        "### Amenities\n",
        "\n",
        "La columna **Amenities**, como su nombre indica, incluye por listing una lista de servicios adicionales al alojamiento que el propietario pone al servicio de huésped."
      ]
    },
    {
      "cell_type": "code",
      "metadata": {
        "id": "cZmW1ANAW0Dt",
        "colab_type": "code",
        "colab": {
          "base_uri": "https://localhost:8080/",
          "height": 782
        },
        "outputId": "0a6d5bce-4d30-4d7d-aa18-fa7d29d7a363"
      },
      "source": [
        "amenities = df['amenities'].str.replace('{', '').str.replace('}', '').str\\\n",
        "                          .replace('\"', '').str.split(\",\")\n",
        "dict_amen= {}\n",
        "for lista in amenities:\n",
        "    for elemento in lista:\n",
        "        if elemento in dict_amen:\n",
        "            dict_amen[elemento] += 1\n",
        "        else:\n",
        "            dict_amen[elemento] = 1\n",
        "\n",
        "ser_amen = pd.Series(dict_amen, index = dict_amen.keys())\n",
        "(ser_amen[ser_amen>df.shape[0]*.10]/df.shape[0]).sort_values(ascending = False)"
      ],
      "execution_count": null,
      "outputs": [
        {
          "output_type": "execute_result",
          "data": {
            "text/plain": [
              "Essentials                                    0.900648\n",
              "Kitchen                                       0.888927\n",
              "Washer                                        0.760480\n",
              "Heating                                       0.734717\n",
              "Hangers                                       0.731361\n",
              "Hair dryer                                    0.670757\n",
              "TV                                            0.668046\n",
              "Iron                                          0.628401\n",
              "Shampoo                                       0.587838\n",
              "Wifi                                          0.574370\n",
              "Air conditioning                              0.523396\n",
              "Laptop friendly workspace                     0.491657\n",
              "Family/kid friendly                           0.393317\n",
              "Wireless Internet                             0.386192\n",
              "Elevator                                      0.320279\n",
              "Hot water                                     0.319061\n",
              "Internet                                      0.300446\n",
              "Smoking allowed                               0.264938\n",
              "Elevator in building                          0.248024\n",
              "First aid kit                                 0.240187\n",
              "Dryer                                         0.237613\n",
              "Buzzer/wireless intercom                      0.237291\n",
              "Refrigerator                                  0.221962\n",
              "Dishes and silverware                         0.218629\n",
              "Microwave                                     0.199026\n",
              "Bed linens                                    0.193878\n",
              "Cooking basics                                0.187351\n",
              "Coffee maker                                  0.182501\n",
              "Lock on bedroom door                          0.170620\n",
              "Fire extinguisher                             0.168919\n",
              "translation missing: en.hosting_amenity_50    0.165035\n",
              "Oven                                          0.164782\n",
              "Host greets you                               0.160668\n",
              "Stove                                         0.154900\n",
              "Smoke detector                                0.146810\n",
              "Pets allowed                                  0.127827\n",
              "translation missing: en.hosting_amenity_49    0.124494\n",
              "Long term stays allowed                       0.121438\n",
              "24-hour check-in                              0.118657\n",
              "Extra pillows and blankets                    0.116589\n",
              "Patio or balcony                              0.111211\n",
              "Paid parking off premises                     0.107901\n",
              "Luggage dropoff allowed                       0.102248\n",
              "Step-free access                              0.101857\n",
              "dtype: float64"
            ]
          },
          "metadata": {
            "tags": []
          },
          "execution_count": 34
        }
      ]
    },
    {
      "cell_type": "markdown",
      "metadata": {
        "id": "C7SIO-FK046_",
        "colab_type": "text"
      },
      "source": [
        "Como podemos observar, hay ciertas comodidades que son muy comunes entre los registros, como la Cocina **(Kitchen)** o Perchas **(Hangers)**, así como otras muy poco comunes que caen por debajo del 10% de apariciones y han sido ignoradas. Tras cierto análisis, se ha decidido utilizar tan solo las comodidades que se han considerado medianamente comunes o poco comunes, y que debido al valor añadido que aportan, consideramos relevantes en nuestro análisis, como la existencia de Aire Acondicionado o Ascensor en el alojamiento."
      ]
    },
    {
      "cell_type": "code",
      "metadata": {
        "id": "RArk-pjQctOZ",
        "colab_type": "code",
        "colab": {}
      },
      "source": [
        "columnselection = ['Air conditioning', 'Family/kid friendly', 'Host greets you', 'Laptop friendly workspace', 'Paid parking off premises', \n",
        "                  'Patio or balcony', 'Luggage dropoff allowed', 'Long term stays allowed', 'Smoking allowed', 'Step-free access',\n",
        "                  'Pets allowed', '24-hour check-in']\n",
        "for column in columnselection:\n",
        "    df[column] = df['amenities'].apply(lambda x: 1 if column in x else 0)\n",
        "df['Elevator'] = df['amenities'].apply(lambda x: 1 if ('Elevator' in x or 'Elevator in building' in x) else 0)\n",
        "df.drop('amenities', axis = 1, inplace = True)"
      ],
      "execution_count": null,
      "outputs": []
    },
    {
      "cell_type": "markdown",
      "metadata": {
        "id": "tPNoxBGP22q3",
        "colab_type": "text"
      },
      "source": [
        "### Columnas relacionadas con precios"
      ]
    },
    {
      "cell_type": "markdown",
      "metadata": {
        "id": "mNNW6FIX3IyN",
        "colab_type": "text"
      },
      "source": [
        "Las columnas relacionadas con precios se tratarán todas de la misma forma a través de 'method chaining' que eliminará las comas y los símbolos de dolar para posteriormente transformar los datos a **float**."
      ]
    },
    {
      "cell_type": "markdown",
      "metadata": {
        "id": "3iBJVOO033Tj",
        "colab_type": "text"
      },
      "source": [
        "**price**: Indica el precio al que se oferta el alojamiento. Esta columna será eliminada más adelante cuando se incluyan los precios registrados en el calendar.\n",
        "\n",
        "**security_deposit**: Indica la cantidad de deposito que se debe abonar para reservar el alojamiento, los **Nulls** han sido tratados como 0 debido a que suponemos que el no indicar cantidad precisamente indica que no se debe abonar ninguna cantidad.\n",
        "\n",
        "**cleaning_fee**: Tasa que se debe pagar para cubrir los costes de limpieza. El tratamiento de los **Nulls** se aborda igual que el security_deposit.\n",
        "\n",
        "**extra_people**: Registra el pago que se debe realizar en caso de añadir una persona más de la especificada en el listing. El tratamiento de los **Nulls** se aborda igual que el security_deposit."
      ]
    },
    {
      "cell_type": "code",
      "metadata": {
        "id": "B-Q1ycba-BRg",
        "colab_type": "code",
        "colab": {
          "base_uri": "https://localhost:8080/",
          "height": 204
        },
        "outputId": "f9db7c36-85f7-4f0a-9baf-e2c7b3c41513"
      },
      "source": [
        "df[['price', 'security_deposit', 'cleaning_fee', 'extra_people']].sample(5)"
      ],
      "execution_count": null,
      "outputs": [
        {
          "output_type": "execute_result",
          "data": {
            "text/html": [
              "<div>\n",
              "<style scoped>\n",
              "    .dataframe tbody tr th:only-of-type {\n",
              "        vertical-align: middle;\n",
              "    }\n",
              "\n",
              "    .dataframe tbody tr th {\n",
              "        vertical-align: top;\n",
              "    }\n",
              "\n",
              "    .dataframe thead th {\n",
              "        text-align: right;\n",
              "    }\n",
              "</style>\n",
              "<table border=\"1\" class=\"dataframe\">\n",
              "  <thead>\n",
              "    <tr style=\"text-align: right;\">\n",
              "      <th></th>\n",
              "      <th>price</th>\n",
              "      <th>security_deposit</th>\n",
              "      <th>cleaning_fee</th>\n",
              "      <th>extra_people</th>\n",
              "    </tr>\n",
              "  </thead>\n",
              "  <tbody>\n",
              "    <tr>\n",
              "      <th>71176</th>\n",
              "      <td>$40.00</td>\n",
              "      <td>$0.00</td>\n",
              "      <td>$35.00</td>\n",
              "      <td>$0.00</td>\n",
              "    </tr>\n",
              "    <tr>\n",
              "      <th>71142</th>\n",
              "      <td>$65.00</td>\n",
              "      <td>NaN</td>\n",
              "      <td>NaN</td>\n",
              "      <td>$0.00</td>\n",
              "    </tr>\n",
              "    <tr>\n",
              "      <th>35822</th>\n",
              "      <td>$20.00</td>\n",
              "      <td>$0.00</td>\n",
              "      <td>$0.00</td>\n",
              "      <td>$15.00</td>\n",
              "    </tr>\n",
              "    <tr>\n",
              "      <th>35909</th>\n",
              "      <td>$250.00</td>\n",
              "      <td>$200.00</td>\n",
              "      <td>$50.00</td>\n",
              "      <td>$0.00</td>\n",
              "    </tr>\n",
              "    <tr>\n",
              "      <th>16064</th>\n",
              "      <td>$380.00</td>\n",
              "      <td>NaN</td>\n",
              "      <td>NaN</td>\n",
              "      <td>$20.00</td>\n",
              "    </tr>\n",
              "  </tbody>\n",
              "</table>\n",
              "</div>"
            ],
            "text/plain": [
              "         price security_deposit cleaning_fee extra_people\n",
              "71176   $40.00            $0.00       $35.00        $0.00\n",
              "71142   $65.00              NaN          NaN        $0.00\n",
              "35822   $20.00            $0.00        $0.00       $15.00\n",
              "35909  $250.00          $200.00       $50.00        $0.00\n",
              "16064  $380.00              NaN          NaN       $20.00"
            ]
          },
          "metadata": {
            "tags": []
          },
          "execution_count": 36
        }
      ]
    },
    {
      "cell_type": "code",
      "metadata": {
        "id": "EpQ-3oM0-BOj",
        "colab_type": "code",
        "colab": {}
      },
      "source": [
        "df['price'] = df['price'].str.replace('$', '').str.replace(',', '').astype('float')"
      ],
      "execution_count": null,
      "outputs": []
    },
    {
      "cell_type": "code",
      "metadata": {
        "id": "RFXptilp-BME",
        "colab_type": "code",
        "colab": {}
      },
      "source": [
        "df['security_deposit'] = df['security_deposit'].str.replace('$', '').str.replace(',','').fillna(0).astype('float')"
      ],
      "execution_count": null,
      "outputs": []
    },
    {
      "cell_type": "code",
      "metadata": {
        "id": "GESZzYkM-BJV",
        "colab_type": "code",
        "colab": {}
      },
      "source": [
        "df['cleaning_fee'] = df['cleaning_fee'].str.replace('$', '').str.replace(',','').fillna(0).astype('float')"
      ],
      "execution_count": null,
      "outputs": []
    },
    {
      "cell_type": "code",
      "metadata": {
        "id": "F_SzeoWd-BHB",
        "colab_type": "code",
        "colab": {}
      },
      "source": [
        "df['extra_people'] = df['extra_people'].str.replace('$', '').str.replace(',','').fillna(0).astype('float')"
      ],
      "execution_count": null,
      "outputs": []
    },
    {
      "cell_type": "code",
      "metadata": {
        "id": "IVmjrWEx-BEn",
        "colab_type": "code",
        "colab": {
          "base_uri": "https://localhost:8080/",
          "height": 204
        },
        "outputId": "ee9ec861-56c9-48df-e903-7d72ff6aceb1"
      },
      "source": [
        "df[['price', 'security_deposit', 'cleaning_fee', 'extra_people']].sample(5)"
      ],
      "execution_count": null,
      "outputs": [
        {
          "output_type": "execute_result",
          "data": {
            "text/html": [
              "<div>\n",
              "<style scoped>\n",
              "    .dataframe tbody tr th:only-of-type {\n",
              "        vertical-align: middle;\n",
              "    }\n",
              "\n",
              "    .dataframe tbody tr th {\n",
              "        vertical-align: top;\n",
              "    }\n",
              "\n",
              "    .dataframe thead th {\n",
              "        text-align: right;\n",
              "    }\n",
              "</style>\n",
              "<table border=\"1\" class=\"dataframe\">\n",
              "  <thead>\n",
              "    <tr style=\"text-align: right;\">\n",
              "      <th></th>\n",
              "      <th>price</th>\n",
              "      <th>security_deposit</th>\n",
              "      <th>cleaning_fee</th>\n",
              "      <th>extra_people</th>\n",
              "    </tr>\n",
              "  </thead>\n",
              "  <tbody>\n",
              "    <tr>\n",
              "      <th>28337</th>\n",
              "      <td>25.0</td>\n",
              "      <td>0.0</td>\n",
              "      <td>5.0</td>\n",
              "      <td>0.0</td>\n",
              "    </tr>\n",
              "    <tr>\n",
              "      <th>14836</th>\n",
              "      <td>75.0</td>\n",
              "      <td>0.0</td>\n",
              "      <td>40.0</td>\n",
              "      <td>6.0</td>\n",
              "    </tr>\n",
              "    <tr>\n",
              "      <th>53593</th>\n",
              "      <td>39.0</td>\n",
              "      <td>0.0</td>\n",
              "      <td>0.0</td>\n",
              "      <td>0.0</td>\n",
              "    </tr>\n",
              "    <tr>\n",
              "      <th>31741</th>\n",
              "      <td>50.0</td>\n",
              "      <td>0.0</td>\n",
              "      <td>30.0</td>\n",
              "      <td>0.0</td>\n",
              "    </tr>\n",
              "    <tr>\n",
              "      <th>20752</th>\n",
              "      <td>60.0</td>\n",
              "      <td>0.0</td>\n",
              "      <td>0.0</td>\n",
              "      <td>0.0</td>\n",
              "    </tr>\n",
              "  </tbody>\n",
              "</table>\n",
              "</div>"
            ],
            "text/plain": [
              "       price  security_deposit  cleaning_fee  extra_people\n",
              "28337   25.0               0.0           5.0           0.0\n",
              "14836   75.0               0.0          40.0           6.0\n",
              "53593   39.0               0.0           0.0           0.0\n",
              "31741   50.0               0.0          30.0           0.0\n",
              "20752   60.0               0.0           0.0           0.0"
            ]
          },
          "metadata": {
            "tags": []
          },
          "execution_count": 41
        }
      ]
    },
    {
      "cell_type": "markdown",
      "metadata": {
        "id": "6-WcdDnh5qvs",
        "colab_type": "text"
      },
      "source": [
        "### Has_availability\n",
        "\n",
        "Columna que aporta poca información, ya que todas los listings indican que tienen disponibilidad y los que no indican son Nulls, por lo que la eliminamos."
      ]
    },
    {
      "cell_type": "code",
      "metadata": {
        "id": "gm0QmGOF-A9p",
        "colab_type": "code",
        "colab": {
          "base_uri": "https://localhost:8080/",
          "height": 68
        },
        "outputId": "c644203b-7025-49bd-aee7-c1db73d6c61c"
      },
      "source": [
        "display(df['has_availability'].value_counts(dropna = False))\n",
        "df.drop(['has_availability'], axis = 1, inplace = True)"
      ],
      "execution_count": null,
      "outputs": [
        {
          "output_type": "display_data",
          "data": {
            "text/plain": [
              "t      25859\n",
              "NaN    17653\n",
              "Name: has_availability, dtype: int64"
            ]
          },
          "metadata": {
            "tags": []
          }
        }
      ]
    },
    {
      "cell_type": "markdown",
      "metadata": {
        "id": "JUSyImyS6lXa",
        "colab_type": "text"
      },
      "source": [
        "### First_review y Last_review\n",
        "\n",
        "Indica las fechas en las que se hizo la primera y la última review"
      ]
    },
    {
      "cell_type": "markdown",
      "metadata": {
        "id": "DOjzhfxR7CO7",
        "colab_type": "text"
      },
      "source": [
        "Aunque las fechas en las que se realizaron la primera y la última review podría aportar información útil para nuestro análisis, encontramos un 29% de nulls en los registros. El hecho de imputar valores implicaría introducir un sesgo muy grande al ser casi 1/3 de los elementos, por lo que hemos optado por ignorar estas columnas y arriesgarnos a perder un poco de información."
      ]
    },
    {
      "cell_type": "code",
      "metadata": {
        "id": "Qo0hHeR97P4B",
        "colab_type": "code",
        "colab": {
          "base_uri": "https://localhost:8080/",
          "height": 204
        },
        "outputId": "69634c1a-16bf-4616-f4f7-9751ff6877e3"
      },
      "source": [
        "df[['first_review', 'last_review']].head(5)"
      ],
      "execution_count": null,
      "outputs": [
        {
          "output_type": "execute_result",
          "data": {
            "text/html": [
              "<div>\n",
              "<style scoped>\n",
              "    .dataframe tbody tr th:only-of-type {\n",
              "        vertical-align: middle;\n",
              "    }\n",
              "\n",
              "    .dataframe tbody tr th {\n",
              "        vertical-align: top;\n",
              "    }\n",
              "\n",
              "    .dataframe thead th {\n",
              "        text-align: right;\n",
              "    }\n",
              "</style>\n",
              "<table border=\"1\" class=\"dataframe\">\n",
              "  <thead>\n",
              "    <tr style=\"text-align: right;\">\n",
              "      <th></th>\n",
              "      <th>first_review</th>\n",
              "      <th>last_review</th>\n",
              "    </tr>\n",
              "  </thead>\n",
              "  <tbody>\n",
              "    <tr>\n",
              "      <th>0</th>\n",
              "      <td>2015-09-25</td>\n",
              "      <td>2015-09-27</td>\n",
              "    </tr>\n",
              "    <tr>\n",
              "      <th>1</th>\n",
              "      <td>2016-09-22</td>\n",
              "      <td>2017-02-09</td>\n",
              "    </tr>\n",
              "    <tr>\n",
              "      <th>2</th>\n",
              "      <td>2015-08-19</td>\n",
              "      <td>2015-11-16</td>\n",
              "    </tr>\n",
              "    <tr>\n",
              "      <th>3</th>\n",
              "      <td>2015-11-06</td>\n",
              "      <td>2017-03-19</td>\n",
              "    </tr>\n",
              "    <tr>\n",
              "      <th>4</th>\n",
              "      <td>2013-08-08</td>\n",
              "      <td>2017-03-28</td>\n",
              "    </tr>\n",
              "  </tbody>\n",
              "</table>\n",
              "</div>"
            ],
            "text/plain": [
              "  first_review last_review\n",
              "0   2015-09-25  2015-09-27\n",
              "1   2016-09-22  2017-02-09\n",
              "2   2015-08-19  2015-11-16\n",
              "3   2015-11-06  2017-03-19\n",
              "4   2013-08-08  2017-03-28"
            ]
          },
          "metadata": {
            "tags": []
          },
          "execution_count": 43
        }
      ]
    },
    {
      "cell_type": "code",
      "metadata": {
        "id": "-kpMFaso-A7k",
        "colab_type": "code",
        "colab": {
          "base_uri": "https://localhost:8080/",
          "height": 51
        },
        "outputId": "255206e0-762c-45cf-8043-b1646c45ba3d"
      },
      "source": [
        "display(df['last_review'].isnull().sum()/df.shape[0])\n",
        "display(df['last_review'].isnull().sum()/df.shape[0])\n",
        "df.drop(['first_review', 'last_review'], axis = 1, inplace = True)"
      ],
      "execution_count": null,
      "outputs": [
        {
          "output_type": "display_data",
          "data": {
            "text/plain": [
              "0.28978212906784334"
            ]
          },
          "metadata": {
            "tags": []
          }
        },
        {
          "output_type": "display_data",
          "data": {
            "text/plain": [
              "0.28978212906784334"
            ]
          },
          "metadata": {
            "tags": []
          }
        }
      ]
    },
    {
      "cell_type": "markdown",
      "metadata": {
        "id": "O6tJRLNl8N5g",
        "colab_type": "text"
      },
      "source": [
        "### Cancellation_policy\n",
        "\n",
        "Columna categórica que registra el tipo de política de cancelaciones que cada propietario lleva a cabo. Como observamos, hay muchas categorías con pocos registros, por lo que, a fin de reducir el número de atributos, vamos a realizar una generalización en 4 categorías basandonos en la similaridad de estas.\n"
      ]
    },
    {
      "cell_type": "code",
      "metadata": {
        "id": "vUlVZii8-A2m",
        "colab_type": "code",
        "colab": {
          "base_uri": "https://localhost:8080/",
          "height": 153
        },
        "outputId": "4ad87293-4c65-47f5-c11d-35bd53271b78"
      },
      "source": [
        "df['cancellation_policy'].value_counts()"
      ],
      "execution_count": null,
      "outputs": [
        {
          "output_type": "execute_result",
          "data": {
            "text/plain": [
              "flexible                       12927\n",
              "strict                         11880\n",
              "moderate                       10529\n",
              "strict_14_with_grace_period     7632\n",
              "super_strict_30                  493\n",
              "super_strict_60                   49\n",
              "luxury_moderate                    2\n",
              "Name: cancellation_policy, dtype: int64"
            ]
          },
          "metadata": {
            "tags": []
          },
          "execution_count": 45
        }
      ]
    },
    {
      "cell_type": "code",
      "metadata": {
        "id": "RTnuVPqJ-A0e",
        "colab_type": "code",
        "colab": {}
      },
      "source": [
        "tempdict = {'strict_14_with_grace_period': 'strict_less30', 'flexible':'flexible', \n",
        "            'moderate':'moderate', 'luxury_moderate': 'moderate', \n",
        "            'super_strict_30':'strict_30orMore', 'super_strict_60':'strict_30orMore', \n",
        "            'strict':'strict_less30'}\n",
        "df['cancellation_policy'] = df['cancellation_policy'].map(tempdict)"
      ],
      "execution_count": null,
      "outputs": []
    },
    {
      "cell_type": "code",
      "metadata": {
        "id": "T39Ts1aY-AyY",
        "colab_type": "code",
        "colab": {
          "base_uri": "https://localhost:8080/",
          "height": 102
        },
        "outputId": "88f3ffa8-70a5-43bd-e7ea-d7af999b686c"
      },
      "source": [
        "df['cancellation_policy'].value_counts()"
      ],
      "execution_count": null,
      "outputs": [
        {
          "output_type": "execute_result",
          "data": {
            "text/plain": [
              "strict_less30      19512\n",
              "flexible           12927\n",
              "moderate           10531\n",
              "strict_30orMore      542\n",
              "Name: cancellation_policy, dtype: int64"
            ]
          },
          "metadata": {
            "tags": []
          },
          "execution_count": 47
        }
      ]
    },
    {
      "cell_type": "markdown",
      "metadata": {
        "id": "0PbX0wpp9U_w",
        "colab_type": "text"
      },
      "source": [
        "### Require_guest_profile_picture, Require_guest_phone_verification y Is_business_travel_ready\n",
        "\n",
        "Columnas poco relevantes debido a que la mayoría de registros se concentran en una categoría. Por lo que las eliminamos."
      ]
    },
    {
      "cell_type": "code",
      "metadata": {
        "id": "lhG4qqaQ-Aw_",
        "colab_type": "code",
        "colab": {
          "base_uri": "https://localhost:8080/",
          "height": 68
        },
        "outputId": "0ae01905-aa25-443d-dc7e-a7e82194ee1b"
      },
      "source": [
        "display(df['require_guest_profile_picture'].value_counts(dropna = False))\n",
        "df.drop(['require_guest_profile_picture'], axis = 1, inplace = True)"
      ],
      "execution_count": null,
      "outputs": [
        {
          "output_type": "display_data",
          "data": {
            "text/plain": [
              "f    42885\n",
              "t      627\n",
              "Name: require_guest_profile_picture, dtype: int64"
            ]
          },
          "metadata": {
            "tags": []
          }
        }
      ]
    },
    {
      "cell_type": "code",
      "metadata": {
        "id": "ZG5WH5hC-AuY",
        "colab_type": "code",
        "colab": {
          "base_uri": "https://localhost:8080/",
          "height": 68
        },
        "outputId": "beb480d2-c039-440e-fa99-0c52787feb68"
      },
      "source": [
        "display(df['require_guest_phone_verification'].value_counts(dropna = False))\n",
        "df.drop(['require_guest_phone_verification'], axis = 1, inplace = True)"
      ],
      "execution_count": null,
      "outputs": [
        {
          "output_type": "display_data",
          "data": {
            "text/plain": [
              "f    42233\n",
              "t     1279\n",
              "Name: require_guest_phone_verification, dtype: int64"
            ]
          },
          "metadata": {
            "tags": []
          }
        }
      ]
    },
    {
      "cell_type": "code",
      "metadata": {
        "id": "1WQyW47U-AsA",
        "colab_type": "code",
        "colab": {
          "base_uri": "https://localhost:8080/",
          "height": 85
        },
        "outputId": "1208fa49-1543-4fc1-f090-237bfdcf2216"
      },
      "source": [
        "display(df['is_business_travel_ready'].value_counts(dropna = False))\n",
        "df.drop(['is_business_travel_ready'], axis = 1, inplace = True)"
      ],
      "execution_count": null,
      "outputs": [
        {
          "output_type": "display_data",
          "data": {
            "text/plain": [
              "f      25796\n",
              "NaN    17653\n",
              "t         63\n",
              "Name: is_business_travel_ready, dtype: int64"
            ]
          },
          "metadata": {
            "tags": []
          }
        }
      ]
    },
    {
      "cell_type": "markdown",
      "metadata": {
        "id": "HyGTMhopkhLZ",
        "colab_type": "text"
      },
      "source": [
        "**Ahora pasamos a las columnas numéricas**"
      ]
    },
    {
      "cell_type": "code",
      "metadata": {
        "id": "iO4bV0vF-Anh",
        "colab_type": "code",
        "colab": {
          "base_uri": "https://localhost:8080/",
          "height": 493
        },
        "outputId": "3e43db0f-0b83-47eb-e119-5ea56a3bcf07"
      },
      "source": [
        "numcol"
      ],
      "execution_count": null,
      "outputs": [
        {
          "output_type": "execute_result",
          "data": {
            "text/plain": [
              "id                                  int64\n",
              "host_id                             int64\n",
              "host_listings_count               float64\n",
              "host_total_listings_count         float64\n",
              "latitude                          float64\n",
              "longitude                         float64\n",
              "accommodates                        int64\n",
              "bathrooms                         float64\n",
              "bedrooms                          float64\n",
              "beds                              float64\n",
              "guests_included                     int64\n",
              "minimum_nights                      int64\n",
              "maximum_nights                      int64\n",
              "availability_30                     int64\n",
              "availability_60                     int64\n",
              "availability_90                     int64\n",
              "availability_365                    int64\n",
              "number_of_reviews                   int64\n",
              "review_scores_rating              float64\n",
              "review_scores_accuracy            float64\n",
              "review_scores_cleanliness         float64\n",
              "review_scores_checkin             float64\n",
              "review_scores_communication       float64\n",
              "review_scores_location            float64\n",
              "review_scores_value               float64\n",
              "calculated_host_listings_count      int64\n",
              "reviews_per_month                 float64\n",
              "dtype: object"
            ]
          },
          "metadata": {
            "tags": []
          },
          "execution_count": 51
        }
      ]
    },
    {
      "cell_type": "code",
      "metadata": {
        "id": "iSzbrr8vmXmp",
        "colab_type": "code",
        "colab": {
          "base_uri": "https://localhost:8080/",
          "height": 493
        },
        "outputId": "6c5e63eb-fde4-4e8a-b5ad-97ee49c07c22"
      },
      "source": [
        "df[numcol.index].isnull().sum()"
      ],
      "execution_count": null,
      "outputs": [
        {
          "output_type": "execute_result",
          "data": {
            "text/plain": [
              "id                                    0\n",
              "host_id                               0\n",
              "host_listings_count                  16\n",
              "host_total_listings_count            16\n",
              "latitude                              0\n",
              "longitude                             0\n",
              "accommodates                          0\n",
              "bathrooms                            56\n",
              "bedrooms                             47\n",
              "beds                                398\n",
              "guests_included                       0\n",
              "minimum_nights                        0\n",
              "maximum_nights                        0\n",
              "availability_30                       0\n",
              "availability_60                       0\n",
              "availability_90                       0\n",
              "availability_365                      0\n",
              "number_of_reviews                     0\n",
              "review_scores_rating              13245\n",
              "review_scores_accuracy            13283\n",
              "review_scores_cleanliness         13268\n",
              "review_scores_checkin             13296\n",
              "review_scores_communication       13275\n",
              "review_scores_location            13295\n",
              "review_scores_value               13304\n",
              "calculated_host_listings_count        0\n",
              "reviews_per_month                 12608\n",
              "dtype: int64"
            ]
          },
          "metadata": {
            "tags": []
          },
          "execution_count": 52
        }
      ]
    },
    {
      "cell_type": "markdown",
      "metadata": {
        "id": "Em-vp_-P-Zxr",
        "colab_type": "text"
      },
      "source": [
        "### Columnas de Ids\n",
        "\n",
        "Conservamos las columna de **id** para futuros joins, pero eliminamos la columna de **host_id**."
      ]
    },
    {
      "cell_type": "code",
      "metadata": {
        "id": "_wH_lLll-Ak-",
        "colab_type": "code",
        "colab": {
          "base_uri": "https://localhost:8080/",
          "height": 204
        },
        "outputId": "f2936287-c01f-479e-b473-40c3732792d8"
      },
      "source": [
        "df[['id', 'host_id']].head(5)"
      ],
      "execution_count": null,
      "outputs": [
        {
          "output_type": "execute_result",
          "data": {
            "text/html": [
              "<div>\n",
              "<style scoped>\n",
              "    .dataframe tbody tr th:only-of-type {\n",
              "        vertical-align: middle;\n",
              "    }\n",
              "\n",
              "    .dataframe tbody tr th {\n",
              "        vertical-align: top;\n",
              "    }\n",
              "\n",
              "    .dataframe thead th {\n",
              "        text-align: right;\n",
              "    }\n",
              "</style>\n",
              "<table border=\"1\" class=\"dataframe\">\n",
              "  <thead>\n",
              "    <tr style=\"text-align: right;\">\n",
              "      <th></th>\n",
              "      <th>id</th>\n",
              "      <th>host_id</th>\n",
              "    </tr>\n",
              "  </thead>\n",
              "  <tbody>\n",
              "    <tr>\n",
              "      <th>0</th>\n",
              "      <td>8207551</td>\n",
              "      <td>7783989</td>\n",
              "    </tr>\n",
              "    <tr>\n",
              "      <th>1</th>\n",
              "      <td>14958299</td>\n",
              "      <td>48792562</td>\n",
              "    </tr>\n",
              "    <tr>\n",
              "      <th>2</th>\n",
              "      <td>7766152</td>\n",
              "      <td>40843803</td>\n",
              "    </tr>\n",
              "    <tr>\n",
              "      <th>3</th>\n",
              "      <td>9237132</td>\n",
              "      <td>47842001</td>\n",
              "    </tr>\n",
              "    <tr>\n",
              "      <th>4</th>\n",
              "      <td>1406827</td>\n",
              "      <td>7573380</td>\n",
              "    </tr>\n",
              "  </tbody>\n",
              "</table>\n",
              "</div>"
            ],
            "text/plain": [
              "         id   host_id\n",
              "0   8207551   7783989\n",
              "1  14958299  48792562\n",
              "2   7766152  40843803\n",
              "3   9237132  47842001\n",
              "4   1406827   7573380"
            ]
          },
          "metadata": {
            "tags": []
          },
          "execution_count": 53
        }
      ]
    },
    {
      "cell_type": "code",
      "metadata": {
        "id": "Wkoz5BwblrGy",
        "colab_type": "code",
        "colab": {}
      },
      "source": [
        "df.drop(['host_id'], axis = 1, inplace = True)"
      ],
      "execution_count": null,
      "outputs": []
    },
    {
      "cell_type": "markdown",
      "metadata": {
        "id": "wCwtFw9M-xAg",
        "colab_type": "text"
      },
      "source": [
        "### Host_listings_count\n",
        "\n",
        "Indica el número de alojamientos que ofrece un propietario en AirBNB"
      ]
    },
    {
      "cell_type": "code",
      "metadata": {
        "id": "JX-tNI-_-r6v",
        "colab_type": "code",
        "colab": {
          "base_uri": "https://localhost:8080/",
          "height": 419
        },
        "outputId": "1ec2f6ae-5f92-479f-ea47-1c05258964f3"
      },
      "source": [
        "df[['host_listings_count', 'host_total_listings_count', 'calculated_host_listings_count']].sort_values(by = 'host_total_listings_count', ascending = False)"
      ],
      "execution_count": null,
      "outputs": [
        {
          "output_type": "execute_result",
          "data": {
            "text/html": [
              "<div>\n",
              "<style scoped>\n",
              "    .dataframe tbody tr th:only-of-type {\n",
              "        vertical-align: middle;\n",
              "    }\n",
              "\n",
              "    .dataframe tbody tr th {\n",
              "        vertical-align: top;\n",
              "    }\n",
              "\n",
              "    .dataframe thead th {\n",
              "        text-align: right;\n",
              "    }\n",
              "</style>\n",
              "<table border=\"1\" class=\"dataframe\">\n",
              "  <thead>\n",
              "    <tr style=\"text-align: right;\">\n",
              "      <th></th>\n",
              "      <th>host_listings_count</th>\n",
              "      <th>host_total_listings_count</th>\n",
              "      <th>calculated_host_listings_count</th>\n",
              "    </tr>\n",
              "  </thead>\n",
              "  <tbody>\n",
              "    <tr>\n",
              "      <th>52002</th>\n",
              "      <td>1020.0</td>\n",
              "      <td>1020.0</td>\n",
              "      <td>1</td>\n",
              "    </tr>\n",
              "    <tr>\n",
              "      <th>70014</th>\n",
              "      <td>599.0</td>\n",
              "      <td>599.0</td>\n",
              "      <td>3</td>\n",
              "    </tr>\n",
              "    <tr>\n",
              "      <th>70015</th>\n",
              "      <td>599.0</td>\n",
              "      <td>599.0</td>\n",
              "      <td>3</td>\n",
              "    </tr>\n",
              "    <tr>\n",
              "      <th>70016</th>\n",
              "      <td>599.0</td>\n",
              "      <td>599.0</td>\n",
              "      <td>3</td>\n",
              "    </tr>\n",
              "    <tr>\n",
              "      <th>18951</th>\n",
              "      <td>512.0</td>\n",
              "      <td>512.0</td>\n",
              "      <td>127</td>\n",
              "    </tr>\n",
              "    <tr>\n",
              "      <th>...</th>\n",
              "      <td>...</td>\n",
              "      <td>...</td>\n",
              "      <td>...</td>\n",
              "    </tr>\n",
              "    <tr>\n",
              "      <th>33071</th>\n",
              "      <td>NaN</td>\n",
              "      <td>NaN</td>\n",
              "      <td>1</td>\n",
              "    </tr>\n",
              "    <tr>\n",
              "      <th>34923</th>\n",
              "      <td>NaN</td>\n",
              "      <td>NaN</td>\n",
              "      <td>1</td>\n",
              "    </tr>\n",
              "    <tr>\n",
              "      <th>36632</th>\n",
              "      <td>NaN</td>\n",
              "      <td>NaN</td>\n",
              "      <td>1</td>\n",
              "    </tr>\n",
              "    <tr>\n",
              "      <th>37890</th>\n",
              "      <td>NaN</td>\n",
              "      <td>NaN</td>\n",
              "      <td>1</td>\n",
              "    </tr>\n",
              "    <tr>\n",
              "      <th>72308</th>\n",
              "      <td>NaN</td>\n",
              "      <td>NaN</td>\n",
              "      <td>1</td>\n",
              "    </tr>\n",
              "  </tbody>\n",
              "</table>\n",
              "<p>43512 rows × 3 columns</p>\n",
              "</div>"
            ],
            "text/plain": [
              "       host_listings_count  ...  calculated_host_listings_count\n",
              "52002               1020.0  ...                               1\n",
              "70014                599.0  ...                               3\n",
              "70015                599.0  ...                               3\n",
              "70016                599.0  ...                               3\n",
              "18951                512.0  ...                             127\n",
              "...                    ...  ...                             ...\n",
              "33071                  NaN  ...                               1\n",
              "34923                  NaN  ...                               1\n",
              "36632                  NaN  ...                               1\n",
              "37890                  NaN  ...                               1\n",
              "72308                  NaN  ...                               1\n",
              "\n",
              "[43512 rows x 3 columns]"
            ]
          },
          "metadata": {
            "tags": []
          },
          "execution_count": 55
        }
      ]
    },
    {
      "cell_type": "markdown",
      "metadata": {
        "id": "RFBsRh4-_iLZ",
        "colab_type": "text"
      },
      "source": [
        "Las columnas de los **listings_count** son en su mayoría coincidentes, por lo que nos quedaremos tan solo con **listings_count**"
      ]
    },
    {
      "cell_type": "code",
      "metadata": {
        "id": "Q9IlEZJrlx1f",
        "colab_type": "code",
        "colab": {
          "base_uri": "https://localhost:8080/",
          "height": 68
        },
        "outputId": "963cab35-6b6e-459d-80bf-aa4341d86c84"
      },
      "source": [
        "(df['host_listings_count'] == df['host_total_listings_count']).value_counts(normalize = True)"
      ],
      "execution_count": null,
      "outputs": [
        {
          "output_type": "execute_result",
          "data": {
            "text/plain": [
              "True     0.999632\n",
              "False    0.000368\n",
              "dtype: float64"
            ]
          },
          "metadata": {
            "tags": []
          },
          "execution_count": 56
        }
      ]
    },
    {
      "cell_type": "code",
      "metadata": {
        "id": "nRitAzH0m4s8",
        "colab_type": "code",
        "colab": {
          "base_uri": "https://localhost:8080/",
          "height": 68
        },
        "outputId": "2d1a28d6-4538-4162-de8c-c004bf745573"
      },
      "source": [
        "(df['host_listings_count'] == df['calculated_host_listings_count']).value_counts(normalize = True)"
      ],
      "execution_count": null,
      "outputs": [
        {
          "output_type": "execute_result",
          "data": {
            "text/plain": [
              "True     0.6996\n",
              "False    0.3004\n",
              "dtype: float64"
            ]
          },
          "metadata": {
            "tags": []
          },
          "execution_count": 57
        }
      ]
    },
    {
      "cell_type": "code",
      "metadata": {
        "id": "Thab_uJhlxyj",
        "colab_type": "code",
        "colab": {}
      },
      "source": [
        "df.drop(['host_total_listings_count'], axis = 1, inplace = True)\n",
        "df.drop(['calculated_host_listings_count'], axis = 1, inplace = True)\n",
        "df.dropna(subset = ['host_listings_count'], inplace = True)"
      ],
      "execution_count": null,
      "outputs": []
    },
    {
      "cell_type": "markdown",
      "metadata": {
        "id": "7oY2fxAL_0LZ",
        "colab_type": "text"
      },
      "source": [
        "### Accommodates\n",
        "\n",
        "Indica el número de huéspedes que pueden instalarse en el alojamiento. No se realizará ningún tratamiento de esta variable."
      ]
    },
    {
      "cell_type": "code",
      "metadata": {
        "id": "KaVyMM4Olxpk",
        "colab_type": "code",
        "colab": {
          "base_uri": "https://localhost:8080/",
          "height": 306
        },
        "outputId": "bb526555-176f-43f7-f173-e856f0d5933f"
      },
      "source": [
        "df['accommodates'].value_counts(dropna = False)"
      ],
      "execution_count": null,
      "outputs": [
        {
          "output_type": "execute_result",
          "data": {
            "text/plain": [
              "2     17495\n",
              "4      7535\n",
              "1      6055\n",
              "6      3737\n",
              "3      3521\n",
              "5      2431\n",
              "8      1147\n",
              "7       652\n",
              "10      347\n",
              "9       200\n",
              "16      134\n",
              "12      123\n",
              "14       50\n",
              "11       39\n",
              "13       17\n",
              "15       13\n",
              "Name: accommodates, dtype: int64"
            ]
          },
          "metadata": {
            "tags": []
          },
          "execution_count": 59
        }
      ]
    },
    {
      "cell_type": "markdown",
      "metadata": {
        "id": "YEO4M7c-ALzt",
        "colab_type": "text"
      },
      "source": [
        "### Bathrooms, Bedrooms y Beds\n",
        "\n",
        "Registra el número de Baños, Dormitorios y Camas disponibles en el alojamiento."
      ]
    },
    {
      "cell_type": "code",
      "metadata": {
        "id": "f-e46YjzASp0",
        "colab_type": "code",
        "colab": {
          "base_uri": "https://localhost:8080/",
          "height": 204
        },
        "outputId": "d01ba2ef-ba3d-42cc-f28c-2bea848c59f0"
      },
      "source": [
        "df[['bathrooms', 'bedrooms', 'beds']].head(5)"
      ],
      "execution_count": null,
      "outputs": [
        {
          "output_type": "execute_result",
          "data": {
            "text/html": [
              "<div>\n",
              "<style scoped>\n",
              "    .dataframe tbody tr th:only-of-type {\n",
              "        vertical-align: middle;\n",
              "    }\n",
              "\n",
              "    .dataframe tbody tr th {\n",
              "        vertical-align: top;\n",
              "    }\n",
              "\n",
              "    .dataframe thead th {\n",
              "        text-align: right;\n",
              "    }\n",
              "</style>\n",
              "<table border=\"1\" class=\"dataframe\">\n",
              "  <thead>\n",
              "    <tr style=\"text-align: right;\">\n",
              "      <th></th>\n",
              "      <th>bathrooms</th>\n",
              "      <th>bedrooms</th>\n",
              "      <th>beds</th>\n",
              "    </tr>\n",
              "  </thead>\n",
              "  <tbody>\n",
              "    <tr>\n",
              "      <th>0</th>\n",
              "      <td>1.0</td>\n",
              "      <td>1.0</td>\n",
              "      <td>1.0</td>\n",
              "    </tr>\n",
              "    <tr>\n",
              "      <th>1</th>\n",
              "      <td>1.0</td>\n",
              "      <td>1.0</td>\n",
              "      <td>1.0</td>\n",
              "    </tr>\n",
              "    <tr>\n",
              "      <th>2</th>\n",
              "      <td>1.0</td>\n",
              "      <td>0.0</td>\n",
              "      <td>1.0</td>\n",
              "    </tr>\n",
              "    <tr>\n",
              "      <th>3</th>\n",
              "      <td>1.0</td>\n",
              "      <td>2.0</td>\n",
              "      <td>2.0</td>\n",
              "    </tr>\n",
              "    <tr>\n",
              "      <th>4</th>\n",
              "      <td>1.0</td>\n",
              "      <td>1.0</td>\n",
              "      <td>4.0</td>\n",
              "    </tr>\n",
              "  </tbody>\n",
              "</table>\n",
              "</div>"
            ],
            "text/plain": [
              "   bathrooms  bedrooms  beds\n",
              "0        1.0       1.0   1.0\n",
              "1        1.0       1.0   1.0\n",
              "2        1.0       0.0   1.0\n",
              "3        1.0       2.0   2.0\n",
              "4        1.0       1.0   4.0"
            ]
          },
          "metadata": {
            "tags": []
          },
          "execution_count": 60
        }
      ]
    },
    {
      "cell_type": "markdown",
      "metadata": {
        "id": "zB4tZ1dNA7SB",
        "colab_type": "text"
      },
      "source": [
        "Como encontramos ciertos **NaNs** en los registros, hemos decidido realizar una imputación de medianas en los valores no registrados. Además, con el objetivo de que quede constacia (como medida preventiva) de la imputación, creamos una columna donde quede grabado en que registros se han imputado los valores."
      ]
    },
    {
      "cell_type": "code",
      "metadata": {
        "id": "vWzQIPm6A0La",
        "colab_type": "code",
        "colab": {
          "base_uri": "https://localhost:8080/",
          "height": 85
        },
        "outputId": "1fe03d43-d7f9-4858-8e10-2c9f6adb3776"
      },
      "source": [
        "df[['bathrooms', 'bedrooms', 'beds']].isnull().sum()"
      ],
      "execution_count": null,
      "outputs": [
        {
          "output_type": "execute_result",
          "data": {
            "text/plain": [
              "bathrooms     56\n",
              "bedrooms      47\n",
              "beds         398\n",
              "dtype: int64"
            ]
          },
          "metadata": {
            "tags": []
          },
          "execution_count": 61
        }
      ]
    },
    {
      "cell_type": "code",
      "metadata": {
        "id": "M01qrtUFlxlL",
        "colab_type": "code",
        "colab": {}
      },
      "source": [
        "df['bathrooms_imput'] = df['bathrooms'].isnull().astype('int')\n",
        "df['bathrooms'].fillna(df['bathrooms'].median(), inplace = True)"
      ],
      "execution_count": null,
      "outputs": []
    },
    {
      "cell_type": "code",
      "metadata": {
        "id": "6ki3A0NRlxaF",
        "colab_type": "code",
        "colab": {}
      },
      "source": [
        "df['bedrooms_imput'] = df['bedrooms'].isnull().astype('int')\n",
        "df['bedrooms'].fillna(df['bedrooms'].median(), inplace = True)"
      ],
      "execution_count": null,
      "outputs": []
    },
    {
      "cell_type": "code",
      "metadata": {
        "id": "Riv_nef2lxKP",
        "colab_type": "code",
        "colab": {}
      },
      "source": [
        "df['beds_imput'] = df['beds'].isnull().astype('int')\n",
        "df['beds'].fillna(df['beds'].median(), inplace = True)"
      ],
      "execution_count": null,
      "outputs": []
    },
    {
      "cell_type": "markdown",
      "metadata": {
        "id": "6HODNlQHB0UC",
        "colab_type": "text"
      },
      "source": [
        "### Guest_included\n",
        "\n",
        "Número de huéspedes que se incluyen en la reserva (sin incluir los adicionales, si los hubiera). No se realizará tratamiento de esta variable."
      ]
    },
    {
      "cell_type": "code",
      "metadata": {
        "id": "2TcW2M-bpg9P",
        "colab_type": "code",
        "colab": {
          "base_uri": "https://localhost:8080/",
          "height": 204
        },
        "outputId": "c8bd09b4-0932-44a6-f2ed-7c596ce1394c"
      },
      "source": [
        "df[['guests_included']].head(5)"
      ],
      "execution_count": null,
      "outputs": [
        {
          "output_type": "execute_result",
          "data": {
            "text/html": [
              "<div>\n",
              "<style scoped>\n",
              "    .dataframe tbody tr th:only-of-type {\n",
              "        vertical-align: middle;\n",
              "    }\n",
              "\n",
              "    .dataframe tbody tr th {\n",
              "        vertical-align: top;\n",
              "    }\n",
              "\n",
              "    .dataframe thead th {\n",
              "        text-align: right;\n",
              "    }\n",
              "</style>\n",
              "<table border=\"1\" class=\"dataframe\">\n",
              "  <thead>\n",
              "    <tr style=\"text-align: right;\">\n",
              "      <th></th>\n",
              "      <th>guests_included</th>\n",
              "    </tr>\n",
              "  </thead>\n",
              "  <tbody>\n",
              "    <tr>\n",
              "      <th>0</th>\n",
              "      <td>1</td>\n",
              "    </tr>\n",
              "    <tr>\n",
              "      <th>1</th>\n",
              "      <td>1</td>\n",
              "    </tr>\n",
              "    <tr>\n",
              "      <th>2</th>\n",
              "      <td>1</td>\n",
              "    </tr>\n",
              "    <tr>\n",
              "      <th>3</th>\n",
              "      <td>2</td>\n",
              "    </tr>\n",
              "    <tr>\n",
              "      <th>4</th>\n",
              "      <td>2</td>\n",
              "    </tr>\n",
              "  </tbody>\n",
              "</table>\n",
              "</div>"
            ],
            "text/plain": [
              "   guests_included\n",
              "0                1\n",
              "1                1\n",
              "2                1\n",
              "3                2\n",
              "4                2"
            ]
          },
          "metadata": {
            "tags": []
          },
          "execution_count": 65
        }
      ]
    },
    {
      "cell_type": "markdown",
      "metadata": {
        "id": "P48Qz0zlDIlI",
        "colab_type": "text"
      },
      "source": [
        "### Minimum_nights y Maximum_nights\n",
        "\n",
        "Número mínimo y máximo de noches relacionados con la reserva del alojamiento. No se realizará tratamiento de esta variable."
      ]
    },
    {
      "cell_type": "code",
      "metadata": {
        "id": "Bnwtcpb0DSuM",
        "colab_type": "code",
        "colab": {
          "base_uri": "https://localhost:8080/",
          "height": 204
        },
        "outputId": "dd2a32a6-5bbf-4344-ced1-1cd064f407e0"
      },
      "source": [
        "df[['minimum_nights', 'maximum_nights']].head(5)"
      ],
      "execution_count": null,
      "outputs": [
        {
          "output_type": "execute_result",
          "data": {
            "text/html": [
              "<div>\n",
              "<style scoped>\n",
              "    .dataframe tbody tr th:only-of-type {\n",
              "        vertical-align: middle;\n",
              "    }\n",
              "\n",
              "    .dataframe tbody tr th {\n",
              "        vertical-align: top;\n",
              "    }\n",
              "\n",
              "    .dataframe thead th {\n",
              "        text-align: right;\n",
              "    }\n",
              "</style>\n",
              "<table border=\"1\" class=\"dataframe\">\n",
              "  <thead>\n",
              "    <tr style=\"text-align: right;\">\n",
              "      <th></th>\n",
              "      <th>minimum_nights</th>\n",
              "      <th>maximum_nights</th>\n",
              "    </tr>\n",
              "  </thead>\n",
              "  <tbody>\n",
              "    <tr>\n",
              "      <th>0</th>\n",
              "      <td>1</td>\n",
              "      <td>1125</td>\n",
              "    </tr>\n",
              "    <tr>\n",
              "      <th>1</th>\n",
              "      <td>1</td>\n",
              "      <td>1125</td>\n",
              "    </tr>\n",
              "    <tr>\n",
              "      <th>2</th>\n",
              "      <td>2</td>\n",
              "      <td>30</td>\n",
              "    </tr>\n",
              "    <tr>\n",
              "      <th>3</th>\n",
              "      <td>2</td>\n",
              "      <td>1125</td>\n",
              "    </tr>\n",
              "    <tr>\n",
              "      <th>4</th>\n",
              "      <td>2</td>\n",
              "      <td>30</td>\n",
              "    </tr>\n",
              "  </tbody>\n",
              "</table>\n",
              "</div>"
            ],
            "text/plain": [
              "   minimum_nights  maximum_nights\n",
              "0               1            1125\n",
              "1               1            1125\n",
              "2               2              30\n",
              "3               2            1125\n",
              "4               2              30"
            ]
          },
          "metadata": {
            "tags": []
          },
          "execution_count": 66
        }
      ]
    },
    {
      "cell_type": "markdown",
      "metadata": {
        "id": "luRmuK6sDpXB",
        "colab_type": "text"
      },
      "source": [
        "### Availability_{}\n",
        "\n",
        "Las columnas de availability incluyen el número de días que el alojamiento está disponible en los próximos 30, 60, 90 y 365"
      ]
    },
    {
      "cell_type": "code",
      "metadata": {
        "id": "nX_uwbOlpg3e",
        "colab_type": "code",
        "colab": {
          "base_uri": "https://localhost:8080/",
          "height": 204
        },
        "outputId": "fd09c112-3797-482e-e4ef-60b419445100"
      },
      "source": [
        "df[['availability_30', 'availability_60', 'availability_90', 'availability_365']].head(5) "
      ],
      "execution_count": null,
      "outputs": [
        {
          "output_type": "execute_result",
          "data": {
            "text/html": [
              "<div>\n",
              "<style scoped>\n",
              "    .dataframe tbody tr th:only-of-type {\n",
              "        vertical-align: middle;\n",
              "    }\n",
              "\n",
              "    .dataframe tbody tr th {\n",
              "        vertical-align: top;\n",
              "    }\n",
              "\n",
              "    .dataframe thead th {\n",
              "        text-align: right;\n",
              "    }\n",
              "</style>\n",
              "<table border=\"1\" class=\"dataframe\">\n",
              "  <thead>\n",
              "    <tr style=\"text-align: right;\">\n",
              "      <th></th>\n",
              "      <th>availability_30</th>\n",
              "      <th>availability_60</th>\n",
              "      <th>availability_90</th>\n",
              "      <th>availability_365</th>\n",
              "    </tr>\n",
              "  </thead>\n",
              "  <tbody>\n",
              "    <tr>\n",
              "      <th>0</th>\n",
              "      <td>0</td>\n",
              "      <td>0</td>\n",
              "      <td>0</td>\n",
              "      <td>0</td>\n",
              "    </tr>\n",
              "    <tr>\n",
              "      <th>1</th>\n",
              "      <td>0</td>\n",
              "      <td>0</td>\n",
              "      <td>0</td>\n",
              "      <td>99</td>\n",
              "    </tr>\n",
              "    <tr>\n",
              "      <th>2</th>\n",
              "      <td>0</td>\n",
              "      <td>0</td>\n",
              "      <td>0</td>\n",
              "      <td>151</td>\n",
              "    </tr>\n",
              "    <tr>\n",
              "      <th>3</th>\n",
              "      <td>2</td>\n",
              "      <td>14</td>\n",
              "      <td>39</td>\n",
              "      <td>303</td>\n",
              "    </tr>\n",
              "    <tr>\n",
              "      <th>4</th>\n",
              "      <td>1</td>\n",
              "      <td>5</td>\n",
              "      <td>8</td>\n",
              "      <td>26</td>\n",
              "    </tr>\n",
              "  </tbody>\n",
              "</table>\n",
              "</div>"
            ],
            "text/plain": [
              "   availability_30  availability_60  availability_90  availability_365\n",
              "0                0                0                0                 0\n",
              "1                0                0                0                99\n",
              "2                0                0                0               151\n",
              "3                2               14               39               303\n",
              "4                1                5                8                26"
            ]
          },
          "metadata": {
            "tags": []
          },
          "execution_count": 67
        }
      ]
    },
    {
      "cell_type": "markdown",
      "metadata": {
        "id": "FPOEule-EThv",
        "colab_type": "text"
      },
      "source": [
        "Como hemos eliminado los id repetidos y se ha quedao el último registro disponible por id, no tiene sentido utilizar las availabilities más allá de la de 365 (si más adelante utilizamos la availability diaria de calendar esta tampoco será demasiado relevante), por lo que solo conservaremos la columna que incluye los 365 días."
      ]
    },
    {
      "cell_type": "code",
      "metadata": {
        "id": "Y0BK677-pgzV",
        "colab_type": "code",
        "colab": {}
      },
      "source": [
        "df.drop(['availability_30', 'availability_60', 'availability_90'], axis = 1, inplace = True)"
      ],
      "execution_count": null,
      "outputs": []
    },
    {
      "cell_type": "markdown",
      "metadata": {
        "id": "uCt_s0vkEqmI",
        "colab_type": "text"
      },
      "source": [
        "### Reviews per month y Number_of_reviews"
      ]
    },
    {
      "cell_type": "code",
      "metadata": {
        "id": "ByoiMS36pgvn",
        "colab_type": "code",
        "colab": {
          "base_uri": "https://localhost:8080/",
          "height": 204
        },
        "outputId": "5ce187cd-d917-48bf-f47f-5b35b26f76c5"
      },
      "source": [
        "df[['number_of_reviews', 'reviews_per_month']].head(5)"
      ],
      "execution_count": null,
      "outputs": [
        {
          "output_type": "execute_result",
          "data": {
            "text/html": [
              "<div>\n",
              "<style scoped>\n",
              "    .dataframe tbody tr th:only-of-type {\n",
              "        vertical-align: middle;\n",
              "    }\n",
              "\n",
              "    .dataframe tbody tr th {\n",
              "        vertical-align: top;\n",
              "    }\n",
              "\n",
              "    .dataframe thead th {\n",
              "        text-align: right;\n",
              "    }\n",
              "</style>\n",
              "<table border=\"1\" class=\"dataframe\">\n",
              "  <thead>\n",
              "    <tr style=\"text-align: right;\">\n",
              "      <th></th>\n",
              "      <th>number_of_reviews</th>\n",
              "      <th>reviews_per_month</th>\n",
              "    </tr>\n",
              "  </thead>\n",
              "  <tbody>\n",
              "    <tr>\n",
              "      <th>0</th>\n",
              "      <td>2</td>\n",
              "      <td>0.11</td>\n",
              "    </tr>\n",
              "    <tr>\n",
              "      <th>1</th>\n",
              "      <td>15</td>\n",
              "      <td>2.26</td>\n",
              "    </tr>\n",
              "    <tr>\n",
              "      <th>2</th>\n",
              "      <td>8</td>\n",
              "      <td>0.40</td>\n",
              "    </tr>\n",
              "    <tr>\n",
              "      <th>3</th>\n",
              "      <td>55</td>\n",
              "      <td>3.17</td>\n",
              "    </tr>\n",
              "    <tr>\n",
              "      <th>4</th>\n",
              "      <td>226</td>\n",
              "      <td>5.06</td>\n",
              "    </tr>\n",
              "  </tbody>\n",
              "</table>\n",
              "</div>"
            ],
            "text/plain": [
              "   number_of_reviews  reviews_per_month\n",
              "0                  2               0.11\n",
              "1                 15               2.26\n",
              "2                  8               0.40\n",
              "3                 55               3.17\n",
              "4                226               5.06"
            ]
          },
          "metadata": {
            "tags": []
          },
          "execution_count": 69
        }
      ]
    },
    {
      "cell_type": "code",
      "metadata": {
        "id": "OmUQT49rpgme",
        "colab_type": "code",
        "colab": {
          "base_uri": "https://localhost:8080/",
          "height": 68
        },
        "outputId": "35d6d718-7e2f-4802-9b5e-66e7737e2a10"
      },
      "source": [
        "df[['number_of_reviews', 'reviews_per_month']].isnull().sum() / df.shape[0]"
      ],
      "execution_count": null,
      "outputs": [
        {
          "output_type": "execute_result",
          "data": {
            "text/plain": [
              "number_of_reviews    0.000000\n",
              "reviews_per_month    0.289751\n",
              "dtype: float64"
            ]
          },
          "metadata": {
            "tags": []
          },
          "execution_count": 70
        }
      ]
    },
    {
      "cell_type": "markdown",
      "metadata": {
        "id": "9aQHsLvEFNqs",
        "colab_type": "text"
      },
      "source": [
        "El número de reviews y las reviews per month a priori parece que podrían presentar cierta colinealidad. Además, como reviews_per_month presenta un 29% de Nulls, hemos optado por eliminar la susodicha columna."
      ]
    },
    {
      "cell_type": "code",
      "metadata": {
        "id": "QeXOjkOqpgXE",
        "colab_type": "code",
        "colab": {}
      },
      "source": [
        "df.drop(['reviews_per_month'], axis = 1, inplace = True)"
      ],
      "execution_count": null,
      "outputs": []
    },
    {
      "cell_type": "markdown",
      "metadata": {
        "id": "RJBk_thuFwSk",
        "colab_type": "text"
      },
      "source": [
        "### Reviews Score"
      ]
    },
    {
      "cell_type": "code",
      "metadata": {
        "id": "QqOjSH6-F38i",
        "colab_type": "code",
        "colab": {
          "base_uri": "https://localhost:8080/",
          "height": 419
        },
        "outputId": "32b9ac4d-b0cf-43ea-86af-9a89f025d5e6"
      },
      "source": [
        "df[['review_scores_rating', 'review_scores_accuracy', 'review_scores_cleanliness', 'review_scores_checkin', \n",
        "    'review_scores_communication', 'review_scores_location', 'review_scores_value']]"
      ],
      "execution_count": null,
      "outputs": [
        {
          "output_type": "execute_result",
          "data": {
            "text/html": [
              "<div>\n",
              "<style scoped>\n",
              "    .dataframe tbody tr th:only-of-type {\n",
              "        vertical-align: middle;\n",
              "    }\n",
              "\n",
              "    .dataframe tbody tr th {\n",
              "        vertical-align: top;\n",
              "    }\n",
              "\n",
              "    .dataframe thead th {\n",
              "        text-align: right;\n",
              "    }\n",
              "</style>\n",
              "<table border=\"1\" class=\"dataframe\">\n",
              "  <thead>\n",
              "    <tr style=\"text-align: right;\">\n",
              "      <th></th>\n",
              "      <th>review_scores_rating</th>\n",
              "      <th>review_scores_accuracy</th>\n",
              "      <th>review_scores_cleanliness</th>\n",
              "      <th>review_scores_checkin</th>\n",
              "      <th>review_scores_communication</th>\n",
              "      <th>review_scores_location</th>\n",
              "      <th>review_scores_value</th>\n",
              "    </tr>\n",
              "  </thead>\n",
              "  <tbody>\n",
              "    <tr>\n",
              "      <th>0</th>\n",
              "      <td>100.0</td>\n",
              "      <td>9.0</td>\n",
              "      <td>10.0</td>\n",
              "      <td>10.0</td>\n",
              "      <td>10.0</td>\n",
              "      <td>10.0</td>\n",
              "      <td>10.0</td>\n",
              "    </tr>\n",
              "    <tr>\n",
              "      <th>1</th>\n",
              "      <td>77.0</td>\n",
              "      <td>8.0</td>\n",
              "      <td>9.0</td>\n",
              "      <td>9.0</td>\n",
              "      <td>9.0</td>\n",
              "      <td>9.0</td>\n",
              "      <td>8.0</td>\n",
              "    </tr>\n",
              "    <tr>\n",
              "      <th>2</th>\n",
              "      <td>83.0</td>\n",
              "      <td>9.0</td>\n",
              "      <td>9.0</td>\n",
              "      <td>10.0</td>\n",
              "      <td>10.0</td>\n",
              "      <td>9.0</td>\n",
              "      <td>9.0</td>\n",
              "    </tr>\n",
              "    <tr>\n",
              "      <th>3</th>\n",
              "      <td>84.0</td>\n",
              "      <td>9.0</td>\n",
              "      <td>9.0</td>\n",
              "      <td>9.0</td>\n",
              "      <td>9.0</td>\n",
              "      <td>8.0</td>\n",
              "      <td>9.0</td>\n",
              "    </tr>\n",
              "    <tr>\n",
              "      <th>4</th>\n",
              "      <td>80.0</td>\n",
              "      <td>8.0</td>\n",
              "      <td>8.0</td>\n",
              "      <td>9.0</td>\n",
              "      <td>9.0</td>\n",
              "      <td>9.0</td>\n",
              "      <td>8.0</td>\n",
              "    </tr>\n",
              "    <tr>\n",
              "      <th>...</th>\n",
              "      <td>...</td>\n",
              "      <td>...</td>\n",
              "      <td>...</td>\n",
              "      <td>...</td>\n",
              "      <td>...</td>\n",
              "      <td>...</td>\n",
              "      <td>...</td>\n",
              "    </tr>\n",
              "    <tr>\n",
              "      <th>75553</th>\n",
              "      <td>NaN</td>\n",
              "      <td>NaN</td>\n",
              "      <td>NaN</td>\n",
              "      <td>NaN</td>\n",
              "      <td>NaN</td>\n",
              "      <td>NaN</td>\n",
              "      <td>NaN</td>\n",
              "    </tr>\n",
              "    <tr>\n",
              "      <th>75554</th>\n",
              "      <td>NaN</td>\n",
              "      <td>NaN</td>\n",
              "      <td>NaN</td>\n",
              "      <td>NaN</td>\n",
              "      <td>NaN</td>\n",
              "      <td>NaN</td>\n",
              "      <td>NaN</td>\n",
              "    </tr>\n",
              "    <tr>\n",
              "      <th>75555</th>\n",
              "      <td>NaN</td>\n",
              "      <td>NaN</td>\n",
              "      <td>NaN</td>\n",
              "      <td>NaN</td>\n",
              "      <td>NaN</td>\n",
              "      <td>NaN</td>\n",
              "      <td>NaN</td>\n",
              "    </tr>\n",
              "    <tr>\n",
              "      <th>75556</th>\n",
              "      <td>NaN</td>\n",
              "      <td>NaN</td>\n",
              "      <td>NaN</td>\n",
              "      <td>NaN</td>\n",
              "      <td>NaN</td>\n",
              "      <td>NaN</td>\n",
              "      <td>NaN</td>\n",
              "    </tr>\n",
              "    <tr>\n",
              "      <th>75557</th>\n",
              "      <td>NaN</td>\n",
              "      <td>NaN</td>\n",
              "      <td>NaN</td>\n",
              "      <td>NaN</td>\n",
              "      <td>NaN</td>\n",
              "      <td>NaN</td>\n",
              "      <td>NaN</td>\n",
              "    </tr>\n",
              "  </tbody>\n",
              "</table>\n",
              "<p>43496 rows × 7 columns</p>\n",
              "</div>"
            ],
            "text/plain": [
              "       review_scores_rating  ...  review_scores_value\n",
              "0                     100.0  ...                 10.0\n",
              "1                      77.0  ...                  8.0\n",
              "2                      83.0  ...                  9.0\n",
              "3                      84.0  ...                  9.0\n",
              "4                      80.0  ...                  8.0\n",
              "...                     ...  ...                  ...\n",
              "75553                   NaN  ...                  NaN\n",
              "75554                   NaN  ...                  NaN\n",
              "75555                   NaN  ...                  NaN\n",
              "75556                   NaN  ...                  NaN\n",
              "75557                   NaN  ...                  NaN\n",
              "\n",
              "[43496 rows x 7 columns]"
            ]
          },
          "metadata": {
            "tags": []
          },
          "execution_count": 72
        }
      ]
    },
    {
      "cell_type": "code",
      "metadata": {
        "id": "gTzGorFlGaV7",
        "colab_type": "code",
        "colab": {
          "base_uri": "https://localhost:8080/",
          "height": 153
        },
        "outputId": "4c780f30-9c96-4993-f22c-9133939954de"
      },
      "source": [
        "df[['review_scores_rating', 'review_scores_accuracy', 'review_scores_cleanliness', 'review_scores_checkin', \n",
        "    'review_scores_communication', 'review_scores_location', 'review_scores_value']].isnull().sum()/df.shape[0]"
      ],
      "execution_count": null,
      "outputs": [
        {
          "output_type": "execute_result",
          "data": {
            "text/plain": [
              "review_scores_rating           0.304373\n",
              "review_scores_accuracy         0.305246\n",
              "review_scores_cleanliness      0.304902\n",
              "review_scores_checkin          0.305545\n",
              "review_scores_communication    0.305063\n",
              "review_scores_location         0.305522\n",
              "review_scores_value            0.305729\n",
              "dtype: float64"
            ]
          },
          "metadata": {
            "tags": []
          },
          "execution_count": 73
        }
      ]
    },
    {
      "cell_type": "markdown",
      "metadata": {
        "id": "0XypZK42GlG0",
        "colab_type": "text"
      },
      "source": [
        "Al presentar casi 1/3 de valores nulos, y concentrarse la mayoría de los scores entre 9 y 10, eliminamos todas las columnas excepto la que recoge las nota más general del alojamiento, **review_scores_rating**, que procedermos a discretrizar para añadir la categoría **unavaliable**."
      ]
    },
    {
      "cell_type": "code",
      "metadata": {
        "id": "nYo72MyWpgPO",
        "colab_type": "code",
        "colab": {
          "base_uri": "https://localhost:8080/",
          "height": 204
        },
        "outputId": "2a0df8a1-8930-49e8-9cec-2c35aa5f93d4"
      },
      "source": [
        "temp = df['review_scores_accuracy'].fillna(9999)\n",
        "temp.value_counts(dropna = False, normalize = True).sort_index(ascending = False).cumsum()"
      ],
      "execution_count": null,
      "outputs": [
        {
          "output_type": "execute_result",
          "data": {
            "text/plain": [
              "9999.0    0.305246\n",
              "10.0      0.679304\n",
              "9.0       0.900933\n",
              "8.0       0.967031\n",
              "7.0       0.981056\n",
              "6.0       0.992091\n",
              "5.0       0.993655\n",
              "4.0       0.996482\n",
              "3.0       0.996574\n",
              "2.0       1.000000\n",
              "Name: review_scores_accuracy, dtype: float64"
            ]
          },
          "metadata": {
            "tags": []
          },
          "execution_count": 74
        }
      ]
    },
    {
      "cell_type": "code",
      "metadata": {
        "id": "5qFiZO5MpgLJ",
        "colab_type": "code",
        "colab": {
          "base_uri": "https://localhost:8080/",
          "height": 204
        },
        "outputId": "92b7b79b-cc73-4a70-f54a-c38a6b3f9f9c"
      },
      "source": [
        "temp = df['review_scores_cleanliness'].fillna(9999)\n",
        "temp.value_counts(dropna = False, normalize = True).sort_index(ascending = False).cumsum()"
      ],
      "execution_count": null,
      "outputs": [
        {
          "output_type": "execute_result",
          "data": {
            "text/plain": [
              "9999.0    0.304902\n",
              "10.0      0.645646\n",
              "9.0       0.865482\n",
              "8.0       0.953513\n",
              "7.0       0.974779\n",
              "6.0       0.989976\n",
              "5.0       0.992528\n",
              "4.0       0.996069\n",
              "3.0       0.996367\n",
              "2.0       1.000000\n",
              "Name: review_scores_cleanliness, dtype: float64"
            ]
          },
          "metadata": {
            "tags": []
          },
          "execution_count": 75
        }
      ]
    },
    {
      "cell_type": "code",
      "metadata": {
        "id": "4hkH3QdapgGf",
        "colab_type": "code",
        "colab": {}
      },
      "source": [
        "df.drop(['review_scores_accuracy', 'review_scores_cleanliness', 'review_scores_checkin', 'review_scores_communication', 'review_scores_location', 'review_scores_value'], axis = 1, inplace = True)"
      ],
      "execution_count": null,
      "outputs": []
    },
    {
      "cell_type": "code",
      "metadata": {
        "id": "JNKy3jzJpgTZ",
        "colab_type": "code",
        "colab": {
          "base_uri": "https://localhost:8080/",
          "height": 1000
        },
        "outputId": "5f8e3bd5-4a14-474d-a0d6-4aba11f2b870"
      },
      "source": [
        "temp = df['review_scores_rating'].fillna(-9999)\n",
        "temp.value_counts(dropna = False, normalize = True).sort_index(ascending = False).cumsum()"
      ],
      "execution_count": null,
      "outputs": [
        {
          "output_type": "execute_result",
          "data": {
            "text/plain": [
              " 100.0     0.161210\n",
              " 99.0      0.170889\n",
              " 98.0      0.193351\n",
              " 97.0      0.221561\n",
              " 96.0      0.253816\n",
              " 95.0      0.288670\n",
              " 94.0      0.314558\n",
              " 93.0      0.358953\n",
              " 92.0      0.385507\n",
              " 91.0      0.410452\n",
              " 90.0      0.458088\n",
              " 89.0      0.477561\n",
              " 88.0      0.499540\n",
              " 87.0      0.524094\n",
              " 86.0      0.536003\n",
              " 85.0      0.551016\n",
              " 84.0      0.564029\n",
              " 83.0      0.575593\n",
              " 82.0      0.581732\n",
              " 81.0      0.585640\n",
              " 80.0      0.636817\n",
              " 79.0      0.639300\n",
              " 78.0      0.643438\n",
              " 77.0      0.647186\n",
              " 76.0      0.650841\n",
              " 75.0      0.654681\n",
              " 74.0      0.656083\n",
              " 73.0      0.660704\n",
              " 72.0      0.662015\n",
              " 71.0      0.663118\n",
              " 70.0      0.669280\n",
              " 69.0      0.669878\n",
              " 68.0      0.670751\n",
              " 67.0      0.673165\n",
              " 66.0      0.673395\n",
              " 65.0      0.674269\n",
              " 64.0      0.674821\n",
              " 63.0      0.675189\n",
              " 62.0      0.675257\n",
              " 61.0      0.675280\n",
              " 60.0      0.686408\n",
              " 58.0      0.686431\n",
              " 57.0      0.686477\n",
              " 56.0      0.686615\n",
              " 55.0      0.686891\n",
              " 54.0      0.687006\n",
              " 53.0      0.687351\n",
              " 50.0      0.688661\n",
              " 47.0      0.688868\n",
              " 46.0      0.688891\n",
              " 45.0      0.688914\n",
              " 43.0      0.688937\n",
              " 40.0      0.692110\n",
              " 35.0      0.692133\n",
              " 33.0      0.692202\n",
              " 30.0      0.692248\n",
              " 27.0      0.692271\n",
              " 20.0      0.695627\n",
              "-9999.0    1.000000\n",
              "Name: review_scores_rating, dtype: float64"
            ]
          },
          "metadata": {
            "tags": []
          },
          "execution_count": 77
        }
      ]
    },
    {
      "cell_type": "markdown",
      "metadata": {
        "id": "zV6nhimKJ1WL",
        "colab_type": "text"
      },
      "source": [
        "La columna **review_scores_rating** ha sido discretizada como se ha dicho antes, en cuatro categorias, **Excellent** en el caso de que la score sea mayor a 90, **Good** en el caso de que esté entre 90 y 70, **NotGood** para las restantes, así como **Unavailable** en caso de no estar disponible."
      ]
    },
    {
      "cell_type": "code",
      "metadata": {
        "id": "vYi6IKyTHYOb",
        "colab_type": "code",
        "colab": {}
      },
      "source": [
        "df['review_scores_rating'] = df['review_scores_rating'].apply(lambda x: 'Excellent' if x >= 90 else \\\n",
        "                                                              ('Good' if x < 90 and x > 70 else ('NotGood' if x > 0 else 'Unavailable')))"
      ],
      "execution_count": null,
      "outputs": []
    },
    {
      "cell_type": "code",
      "metadata": {
        "id": "Gw931uNLJu1I",
        "colab_type": "code",
        "colab": {
          "base_uri": "https://localhost:8080/",
          "height": 102
        },
        "outputId": "9880b925-b153-4d35-99e4-0f62b246e844"
      },
      "source": [
        "df['review_scores_rating'].value_counts()"
      ],
      "execution_count": null,
      "outputs": [
        {
          "output_type": "execute_result",
          "data": {
            "text/plain": [
              "Excellent      19925\n",
              "Unavailable    13239\n",
              "Good            8918\n",
              "NotGood         1414\n",
              "Name: review_scores_rating, dtype: int64"
            ]
          },
          "metadata": {
            "tags": []
          },
          "execution_count": 79
        }
      ]
    },
    {
      "cell_type": "code",
      "metadata": {
        "id": "ctRgJywjKacT",
        "colab_type": "code",
        "colab": {
          "base_uri": "https://localhost:8080/",
          "height": 51
        },
        "outputId": "ca9aba2c-0457-4d78-f2df-73b24aa7037f"
      },
      "source": [
        "df.isnull().sum()[df.isnull().sum()>0]"
      ],
      "execution_count": null,
      "outputs": [
        {
          "output_type": "execute_result",
          "data": {
            "text/plain": [
              "host_about    17774\n",
              "dtype: int64"
            ]
          },
          "metadata": {
            "tags": []
          },
          "execution_count": 80
        }
      ]
    },
    {
      "cell_type": "markdown",
      "metadata": {
        "id": "10DYcfjXLEBS",
        "colab_type": "text"
      },
      "source": [
        "##**Calendar**"
      ]
    },
    {
      "cell_type": "markdown",
      "metadata": {
        "id": "jE93_FEgL_q8",
        "colab_type": "text"
      },
      "source": [
        "**Importamos los datos**"
      ]
    },
    {
      "cell_type": "code",
      "metadata": {
        "id": "2AkoGWcRLCnF",
        "colab_type": "code",
        "colab": {}
      },
      "source": [
        "cal = pd.read_csv(\"https://github.com/guiruha/TFMAirBNB/raw/master/archivos/Calendar/Calendar_April2016.zip\")\n",
        "cal = cal.append(pd.read_csv(\"https://github.com/guiruha/TFMAirBNB/raw/master/archivos/Calendar/Calendar_April2017.zip\"), ignore_index = True)\n",
        "cal = cal.append(pd.read_csv(\"https://github.com/guiruha/TFMAirBNB/raw/master/archivos/Calendar/Calendar_October2018.zip\"), ignore_index = True)\n",
        "cal = cal.append(pd.read_csv(\"https://github.com/guiruha/TFMAirBNB/raw/master/archivos/Calendar/Calendar_April2018.zip\"), ignore_index = True)\n",
        "cal = cal.append(pd.read_csv(\"https://github.com/guiruha/TFMAirBNB/raw/master/archivos/Calendar/Calendar_October2018.zip\"), ignore_index = True)\n",
        "cal = cal.append(pd.read_csv(\"https://github.com/guiruha/TFMAirBNB/raw/master/archivos/Calendar/Calendar_April2019.zip\"), ignore_index = True)\n",
        "cal = cal.append(pd.read_csv(\"https://github.com/guiruha/TFMAirBNB/raw/master/archivos/Calendar/Calendar_October2019.zip\"), ignore_index = True)\n",
        "cal = cal.append(pd.read_csv(\"https://github.com/guiruha/TFMAirBNB/raw/master/archivos/Calendar/Calendar_April2020.zip\"), ignore_index = True)"
      ],
      "execution_count": null,
      "outputs": []
    },
    {
      "cell_type": "markdown",
      "metadata": {
        "id": "J7EX-4TUjBdp",
        "colab_type": "text"
      },
      "source": [
        "Respecto a los datos de calendar nos interesa tanto la media de su precio como se disponibilidad mensual (debido a razones de capacidad de nuestras máquinas y Google Colab nos vemos obligados a tratar datos a nivel mensual y no diario). Por tanto, transformamos la columna date a el tipo **datetime** a fin de sacar el año y el mes como atributos, los cuales también nos serviran de ayuda para captura la muy posible existencia de estacionalidad y tendencia."
      ]
    },
    {
      "cell_type": "code",
      "metadata": {
        "id": "ccVAMNpmLCgw",
        "colab_type": "code",
        "colab": {}
      },
      "source": [
        "cal = cal[['listing_id', 'date', 'price', 'available']]"
      ],
      "execution_count": null,
      "outputs": []
    },
    {
      "cell_type": "code",
      "metadata": {
        "id": "tKFhJPiRMCWJ",
        "colab_type": "code",
        "colab": {
          "base_uri": "https://localhost:8080/",
          "height": 221
        },
        "outputId": "8000bd6e-11f4-44c0-f2e8-8ab26ffc48cf"
      },
      "source": [
        "cal[cal['price'].isnull()]['available']"
      ],
      "execution_count": null,
      "outputs": [
        {
          "output_type": "execute_result",
          "data": {
            "text/plain": [
              "75          f\n",
              "76          f\n",
              "77          f\n",
              "131         f\n",
              "132         f\n",
              "           ..\n",
              "42574259    t\n",
              "42574260    t\n",
              "42574261    t\n",
              "42574262    t\n",
              "42574263    t\n",
              "Name: available, Length: 11867462, dtype: object"
            ]
          },
          "metadata": {
            "tags": []
          },
          "execution_count": 83
        }
      ]
    },
    {
      "cell_type": "markdown",
      "metadata": {
        "id": "vPiCWSqzOE1N",
        "colab_type": "text"
      },
      "source": [
        "Antes debemos eliminar posibles duplicados a fin de que cada registro sea único. Como era de esperar existen muchos listings que no entraron en la plataforma años más tarde del inicio de los registros que poseemos, curiosamente esto se ve reflejado en los datasets de **calendar.csv** en forma de nulls (un análisis más en profundidad demuestra que muchos registros no empiezan mostrar valores númericos hasta finales del año 2019), es por ello que filtramos por los precios que no son nulos para evitar problemas en el cálculo de precios medios mensuales más adelante."
      ]
    },
    {
      "cell_type": "code",
      "metadata": {
        "id": "OL68k7fnFhxE",
        "colab_type": "code",
        "colab": {}
      },
      "source": [
        "cal = cal[cal['price'].notnull()]"
      ],
      "execution_count": null,
      "outputs": []
    },
    {
      "cell_type": "code",
      "metadata": {
        "id": "1RGA4Ko8M082",
        "colab_type": "code",
        "colab": {}
      },
      "source": [
        "cal.drop_duplicates(subset = ['date', 'listing_id'], inplace = True)"
      ],
      "execution_count": null,
      "outputs": []
    },
    {
      "cell_type": "code",
      "metadata": {
        "id": "cBe3nTqnLCjs",
        "colab_type": "code",
        "colab": {}
      },
      "source": [
        "cal['date'] = pd.to_datetime(cal['date'])"
      ],
      "execution_count": null,
      "outputs": []
    },
    {
      "cell_type": "code",
      "metadata": {
        "id": "h0mzl5MeKaHF",
        "colab_type": "code",
        "colab": {}
      },
      "source": [
        "cal['month_year'] = cal['date'].dt.to_period('M')\n",
        "cal['year'] = cal['date'].dt.year\n",
        "cal['month'] = cal['date'].dt.month"
      ],
      "execution_count": null,
      "outputs": []
    },
    {
      "cell_type": "markdown",
      "metadata": {
        "id": "7ZgHk7GY7zcx",
        "colab_type": "text"
      },
      "source": [
        "Tras obtener el año y mes de la columna **date**, procedemos a hacer la correspondiente transformación de la columna **availability** para pasarla a variable dicotómica y realizamos los cálculos pertinentes."
      ]
    },
    {
      "cell_type": "code",
      "metadata": {
        "id": "I0hp3tB8H5yY",
        "colab_type": "code",
        "colab": {}
      },
      "source": [
        "cal['availability'] = cal['available'].map({'t': 1, 'f': 0})"
      ],
      "execution_count": null,
      "outputs": []
    },
    {
      "cell_type": "code",
      "metadata": {
        "id": "cpWVs1WmHbu3",
        "colab_type": "code",
        "colab": {}
      },
      "source": [
        "availability = cal.groupby(['year', 'listing_id'])['availability'].sum()"
      ],
      "execution_count": null,
      "outputs": []
    },
    {
      "cell_type": "code",
      "metadata": {
        "id": "FDbCNbKJJfM4",
        "colab_type": "code",
        "colab": {
          "base_uri": "https://localhost:8080/",
          "height": 238
        },
        "outputId": "622beeed-134c-4eaf-862a-9822fbdd98ae"
      },
      "source": [
        "availability"
      ],
      "execution_count": null,
      "outputs": [
        {
          "output_type": "execute_result",
          "data": {
            "text/plain": [
              "year  listing_id\n",
              "2016  11194          54\n",
              "      15090          36\n",
              "      18653          39\n",
              "      18666          43\n",
              "      18674          36\n",
              "                   ... \n",
              "2021  43203215        0\n",
              "      43203651      106\n",
              "      43203899      106\n",
              "      43203952      110\n",
              "      43204355      106\n",
              "Name: availability, Length: 134728, dtype: int64"
            ]
          },
          "metadata": {
            "tags": []
          },
          "execution_count": 90
        }
      ]
    },
    {
      "cell_type": "markdown",
      "metadata": {
        "id": "RHeV-5UVjstr",
        "colab_type": "text"
      },
      "source": [
        "A continuación, llevamos a cabo el mismo proceso con la variable **price** (la abordamos igual que las variables de precio del dataset anterior), modificamos de nuevo el dataframe para quedarnos con los precios medios por mes y año de cada listing. No obstante, como queremos evitar que el cálculo resulte en Nulls, deberemos eliminar las columnas con Nulls en la columna **price** una vez calculado el **year_availability**."
      ]
    },
    {
      "cell_type": "code",
      "metadata": {
        "id": "vD1oCqKuKaMf",
        "colab_type": "code",
        "colab": {}
      },
      "source": [
        "cal['price'] = cal['price'].str.replace('$', '').str.replace(',', '').astype('float')"
      ],
      "execution_count": null,
      "outputs": []
    },
    {
      "cell_type": "markdown",
      "metadata": {
        "id": "ELxtDpZ7JdLw",
        "colab_type": "text"
      },
      "source": [
        "Un rápido vistazo a como se comporta la variable **available** cuando los precios superan los 9500€ nos muestra que la mayoría de alojamientos se encuentran no disponibles. De este comportamiento hemos deducido que se debe a una asignación a próposito de precios muy elevados por parte del host debido a que no el alojamiento no va a estar disponible durante ese periodo, o bien uno de los comportamientos típicos de los usuarios de AirBNB que explicamos más adelante en Exploración General.\n",
        "\n",
        "A fin de que estas prácticas no nos suponga ninguna anomalía en el cálculo de precios medios mensuales procederemos a filtrar estos registros dado que no los podemos aprovechar dado nuestro enfoque."
      ]
    },
    {
      "cell_type": "code",
      "metadata": {
        "id": "MpcZolzfIzZZ",
        "colab_type": "code",
        "colab": {
          "base_uri": "https://localhost:8080/",
          "height": 119
        },
        "outputId": "91e8cf0e-1e30-442d-edfe-543c30046335"
      },
      "source": [
        "cal[cal['price']>9500]['year'].value_counts()"
      ],
      "execution_count": null,
      "outputs": [
        {
          "output_type": "execute_result",
          "data": {
            "text/plain": [
              "2020    63408\n",
              "2021    58168\n",
              "2019     3869\n",
              "2017      436\n",
              "2018      181\n",
              "Name: year, dtype: int64"
            ]
          },
          "metadata": {
            "tags": []
          },
          "execution_count": 92
        }
      ]
    },
    {
      "cell_type": "code",
      "metadata": {
        "id": "ph--dBMPKNdD",
        "colab_type": "code",
        "colab": {}
      },
      "source": [
        "cal = cal[cal['price']<9500]"
      ],
      "execution_count": null,
      "outputs": []
    },
    {
      "cell_type": "code",
      "metadata": {
        "id": "kDHx1nQIKaCJ",
        "colab_type": "code",
        "colab": {}
      },
      "source": [
        "cal = cal.groupby(['month_year','year', 'month', 'listing_id'])['price'].mean().reset_index()"
      ],
      "execution_count": null,
      "outputs": []
    },
    {
      "cell_type": "code",
      "metadata": {
        "id": "NwMmyWMoKvxr",
        "colab_type": "code",
        "colab": {}
      },
      "source": [
        "cal = cal.join(availability, on = ['year', 'listing_id'])"
      ],
      "execution_count": null,
      "outputs": []
    },
    {
      "cell_type": "code",
      "metadata": {
        "id": "oIjlPHHsKZ8v",
        "colab_type": "code",
        "colab": {}
      },
      "source": [
        "cal.columns = ['month_year','year', 'month', 'id', 'price_calendar', 'year_availability']"
      ],
      "execution_count": null,
      "outputs": []
    },
    {
      "cell_type": "code",
      "metadata": {
        "id": "TpIqYHFZT9f4",
        "colab_type": "code",
        "colab": {
          "base_uri": "https://localhost:8080/",
          "height": 359
        },
        "outputId": "30be7629-ea99-433a-a3a4-e3164fa7667e"
      },
      "source": [
        "cal.sample(10)"
      ],
      "execution_count": null,
      "outputs": [
        {
          "output_type": "execute_result",
          "data": {
            "text/html": [
              "<div>\n",
              "<style scoped>\n",
              "    .dataframe tbody tr th:only-of-type {\n",
              "        vertical-align: middle;\n",
              "    }\n",
              "\n",
              "    .dataframe tbody tr th {\n",
              "        vertical-align: top;\n",
              "    }\n",
              "\n",
              "    .dataframe thead th {\n",
              "        text-align: right;\n",
              "    }\n",
              "</style>\n",
              "<table border=\"1\" class=\"dataframe\">\n",
              "  <thead>\n",
              "    <tr style=\"text-align: right;\">\n",
              "      <th></th>\n",
              "      <th>month_year</th>\n",
              "      <th>year</th>\n",
              "      <th>month</th>\n",
              "      <th>id</th>\n",
              "      <th>price_calendar</th>\n",
              "      <th>year_availability</th>\n",
              "    </tr>\n",
              "  </thead>\n",
              "  <tbody>\n",
              "    <tr>\n",
              "      <th>641436</th>\n",
              "      <td>2020-05</td>\n",
              "      <td>2020</td>\n",
              "      <td>5</td>\n",
              "      <td>34586395</td>\n",
              "      <td>178.000000</td>\n",
              "      <td>0</td>\n",
              "    </tr>\n",
              "    <tr>\n",
              "      <th>655100</th>\n",
              "      <td>2020-06</td>\n",
              "      <td>2020</td>\n",
              "      <td>6</td>\n",
              "      <td>9937338</td>\n",
              "      <td>50.000000</td>\n",
              "      <td>224</td>\n",
              "    </tr>\n",
              "    <tr>\n",
              "      <th>333382</th>\n",
              "      <td>2019-04</td>\n",
              "      <td>2019</td>\n",
              "      <td>4</td>\n",
              "      <td>24819159</td>\n",
              "      <td>149.523810</td>\n",
              "      <td>290</td>\n",
              "    </tr>\n",
              "    <tr>\n",
              "      <th>190504</th>\n",
              "      <td>2017-11</td>\n",
              "      <td>2017</td>\n",
              "      <td>11</td>\n",
              "      <td>14486701</td>\n",
              "      <td>23.000000</td>\n",
              "      <td>365</td>\n",
              "    </tr>\n",
              "    <tr>\n",
              "      <th>235907</th>\n",
              "      <td>2018-04</td>\n",
              "      <td>2018</td>\n",
              "      <td>4</td>\n",
              "      <td>1238107</td>\n",
              "      <td>36.428571</td>\n",
              "      <td>154</td>\n",
              "    </tr>\n",
              "    <tr>\n",
              "      <th>729378</th>\n",
              "      <td>2020-09</td>\n",
              "      <td>2020</td>\n",
              "      <td>9</td>\n",
              "      <td>1238141</td>\n",
              "      <td>178.000000</td>\n",
              "      <td>167</td>\n",
              "    </tr>\n",
              "    <tr>\n",
              "      <th>577717</th>\n",
              "      <td>2020-03</td>\n",
              "      <td>2020</td>\n",
              "      <td>3</td>\n",
              "      <td>22993193</td>\n",
              "      <td>130.000000</td>\n",
              "      <td>192</td>\n",
              "    </tr>\n",
              "    <tr>\n",
              "      <th>888630</th>\n",
              "      <td>2021-04</td>\n",
              "      <td>2021</td>\n",
              "      <td>4</td>\n",
              "      <td>1039162</td>\n",
              "      <td>196.333333</td>\n",
              "      <td>0</td>\n",
              "    </tr>\n",
              "    <tr>\n",
              "      <th>512758</th>\n",
              "      <td>2019-12</td>\n",
              "      <td>2019</td>\n",
              "      <td>12</td>\n",
              "      <td>32959971</td>\n",
              "      <td>35.000000</td>\n",
              "      <td>37</td>\n",
              "    </tr>\n",
              "    <tr>\n",
              "      <th>628286</th>\n",
              "      <td>2020-05</td>\n",
              "      <td>2020</td>\n",
              "      <td>5</td>\n",
              "      <td>7067195</td>\n",
              "      <td>34.774194</td>\n",
              "      <td>346</td>\n",
              "    </tr>\n",
              "  </tbody>\n",
              "</table>\n",
              "</div>"
            ],
            "text/plain": [
              "       month_year  year  month        id  price_calendar  year_availability\n",
              "641436    2020-05  2020      5  34586395      178.000000                  0\n",
              "655100    2020-06  2020      6   9937338       50.000000                224\n",
              "333382    2019-04  2019      4  24819159      149.523810                290\n",
              "190504    2017-11  2017     11  14486701       23.000000                365\n",
              "235907    2018-04  2018      4   1238107       36.428571                154\n",
              "729378    2020-09  2020      9   1238141      178.000000                167\n",
              "577717    2020-03  2020      3  22993193      130.000000                192\n",
              "888630    2021-04  2021      4   1039162      196.333333                  0\n",
              "512758    2019-12  2019     12  32959971       35.000000                 37\n",
              "628286    2020-05  2020      5   7067195       34.774194                346"
            ]
          },
          "metadata": {
            "tags": []
          },
          "execution_count": 97
        }
      ]
    },
    {
      "cell_type": "markdown",
      "metadata": {
        "id": "LQ7t5BX3kk6C",
        "colab_type": "text"
      },
      "source": [
        "##**Dataset Limpio**"
      ]
    },
    {
      "cell_type": "markdown",
      "metadata": {
        "id": "FRv93ohpktdb",
        "colab_type": "text"
      },
      "source": [
        "Finalmente, considerando que la limpieza del dataset está completada, realizamos un merge entre los dataframes de calendar y listings.\n"
      ]
    },
    {
      "cell_type": "code",
      "metadata": {
        "id": "LBxkI-O6KZw2",
        "colab_type": "code",
        "colab": {}
      },
      "source": [
        "dfclean = pd.merge(df, cal, how = 'inner', on = 'id')"
      ],
      "execution_count": null,
      "outputs": []
    },
    {
      "cell_type": "markdown",
      "metadata": {
        "id": "kl5nhGQblA39",
        "colab_type": "text"
      },
      "source": [
        "Al hacer el merge nos percatamos que existen un número relevante de registros con valores bastante superiores a los precios establecidos en los listings. No obstante, un análisis más en profundidad revela que en su gran mayoría los precios coinciden y las diferencias notables se encuentran en los meses donde el alquiler vacacional se encuentra en el pico de demanda (sobretodo los meses de verano)."
      ]
    },
    {
      "cell_type": "code",
      "metadata": {
        "id": "l6Vx87zXff28",
        "colab_type": "code",
        "colab": {
          "base_uri": "https://localhost:8080/",
          "height": 51
        },
        "outputId": "8f17d065-9a62-48b4-8f3c-69e03775c148"
      },
      "source": [
        "print('{} de nulls'.format(dfclean['price_calendar'].isnull().sum()))\n",
        "print('{} del total'.format(dfclean['price_calendar'].isnull().sum()/dfclean['price_calendar'].shape[0]))"
      ],
      "execution_count": null,
      "outputs": [
        {
          "output_type": "stream",
          "text": [
            "0 de nulls\n",
            "0.0 del total\n"
          ],
          "name": "stdout"
        }
      ]
    },
    {
      "cell_type": "code",
      "metadata": {
        "id": "55BnaW5LcQ56",
        "colab_type": "code",
        "colab": {
          "base_uri": "https://localhost:8080/",
          "height": 669
        },
        "outputId": "b8b71ff0-125d-4b4c-a55d-3a3c988e9c02"
      },
      "source": [
        "dfclean[['price', 'price_calendar', 'month_year']].sample(20)"
      ],
      "execution_count": null,
      "outputs": [
        {
          "output_type": "execute_result",
          "data": {
            "text/html": [
              "<div>\n",
              "<style scoped>\n",
              "    .dataframe tbody tr th:only-of-type {\n",
              "        vertical-align: middle;\n",
              "    }\n",
              "\n",
              "    .dataframe tbody tr th {\n",
              "        vertical-align: top;\n",
              "    }\n",
              "\n",
              "    .dataframe thead th {\n",
              "        text-align: right;\n",
              "    }\n",
              "</style>\n",
              "<table border=\"1\" class=\"dataframe\">\n",
              "  <thead>\n",
              "    <tr style=\"text-align: right;\">\n",
              "      <th></th>\n",
              "      <th>price</th>\n",
              "      <th>price_calendar</th>\n",
              "      <th>month_year</th>\n",
              "    </tr>\n",
              "  </thead>\n",
              "  <tbody>\n",
              "    <tr>\n",
              "      <th>253196</th>\n",
              "      <td>22.0</td>\n",
              "      <td>28.000000</td>\n",
              "      <td>2019-11</td>\n",
              "    </tr>\n",
              "    <tr>\n",
              "      <th>740737</th>\n",
              "      <td>65.0</td>\n",
              "      <td>65.000000</td>\n",
              "      <td>2019-12</td>\n",
              "    </tr>\n",
              "    <tr>\n",
              "      <th>491508</th>\n",
              "      <td>12.0</td>\n",
              "      <td>25.000000</td>\n",
              "      <td>2019-04</td>\n",
              "    </tr>\n",
              "    <tr>\n",
              "      <th>555289</th>\n",
              "      <td>33.0</td>\n",
              "      <td>35.000000</td>\n",
              "      <td>2021-01</td>\n",
              "    </tr>\n",
              "    <tr>\n",
              "      <th>604470</th>\n",
              "      <td>89.0</td>\n",
              "      <td>516.700000</td>\n",
              "      <td>2019-06</td>\n",
              "    </tr>\n",
              "    <tr>\n",
              "      <th>97639</th>\n",
              "      <td>100.0</td>\n",
              "      <td>100.000000</td>\n",
              "      <td>2020-02</td>\n",
              "    </tr>\n",
              "    <tr>\n",
              "      <th>396157</th>\n",
              "      <td>125.0</td>\n",
              "      <td>125.000000</td>\n",
              "      <td>2019-02</td>\n",
              "    </tr>\n",
              "    <tr>\n",
              "      <th>162012</th>\n",
              "      <td>150.0</td>\n",
              "      <td>150.000000</td>\n",
              "      <td>2017-08</td>\n",
              "    </tr>\n",
              "    <tr>\n",
              "      <th>5803</th>\n",
              "      <td>50.0</td>\n",
              "      <td>50.000000</td>\n",
              "      <td>2019-09</td>\n",
              "    </tr>\n",
              "    <tr>\n",
              "      <th>122715</th>\n",
              "      <td>35.0</td>\n",
              "      <td>71.000000</td>\n",
              "      <td>2020-08</td>\n",
              "    </tr>\n",
              "    <tr>\n",
              "      <th>463509</th>\n",
              "      <td>50.0</td>\n",
              "      <td>32.000000</td>\n",
              "      <td>2020-08</td>\n",
              "    </tr>\n",
              "    <tr>\n",
              "      <th>184269</th>\n",
              "      <td>65.0</td>\n",
              "      <td>81.533333</td>\n",
              "      <td>2017-11</td>\n",
              "    </tr>\n",
              "    <tr>\n",
              "      <th>161239</th>\n",
              "      <td>33.0</td>\n",
              "      <td>81.733333</td>\n",
              "      <td>2020-04</td>\n",
              "    </tr>\n",
              "    <tr>\n",
              "      <th>529722</th>\n",
              "      <td>51.0</td>\n",
              "      <td>51.000000</td>\n",
              "      <td>2019-08</td>\n",
              "    </tr>\n",
              "    <tr>\n",
              "      <th>250435</th>\n",
              "      <td>30.0</td>\n",
              "      <td>27.000000</td>\n",
              "      <td>2019-07</td>\n",
              "    </tr>\n",
              "    <tr>\n",
              "      <th>443952</th>\n",
              "      <td>100.0</td>\n",
              "      <td>110.000000</td>\n",
              "      <td>2017-07</td>\n",
              "    </tr>\n",
              "    <tr>\n",
              "      <th>115870</th>\n",
              "      <td>27.0</td>\n",
              "      <td>27.000000</td>\n",
              "      <td>2017-09</td>\n",
              "    </tr>\n",
              "    <tr>\n",
              "      <th>518210</th>\n",
              "      <td>75.0</td>\n",
              "      <td>75.000000</td>\n",
              "      <td>2019-12</td>\n",
              "    </tr>\n",
              "    <tr>\n",
              "      <th>20848</th>\n",
              "      <td>55.0</td>\n",
              "      <td>56.333333</td>\n",
              "      <td>2017-11</td>\n",
              "    </tr>\n",
              "    <tr>\n",
              "      <th>639978</th>\n",
              "      <td>155.0</td>\n",
              "      <td>318.866667</td>\n",
              "      <td>2019-09</td>\n",
              "    </tr>\n",
              "  </tbody>\n",
              "</table>\n",
              "</div>"
            ],
            "text/plain": [
              "        price  price_calendar month_year\n",
              "253196   22.0       28.000000    2019-11\n",
              "740737   65.0       65.000000    2019-12\n",
              "491508   12.0       25.000000    2019-04\n",
              "555289   33.0       35.000000    2021-01\n",
              "604470   89.0      516.700000    2019-06\n",
              "97639   100.0      100.000000    2020-02\n",
              "396157  125.0      125.000000    2019-02\n",
              "162012  150.0      150.000000    2017-08\n",
              "5803     50.0       50.000000    2019-09\n",
              "122715   35.0       71.000000    2020-08\n",
              "463509   50.0       32.000000    2020-08\n",
              "184269   65.0       81.533333    2017-11\n",
              "161239   33.0       81.733333    2020-04\n",
              "529722   51.0       51.000000    2019-08\n",
              "250435   30.0       27.000000    2019-07\n",
              "443952  100.0      110.000000    2017-07\n",
              "115870   27.0       27.000000    2017-09\n",
              "518210   75.0       75.000000    2019-12\n",
              "20848    55.0       56.333333    2017-11\n",
              "639978  155.0      318.866667    2019-09"
            ]
          },
          "metadata": {
            "tags": []
          },
          "execution_count": 100
        }
      ]
    },
    {
      "cell_type": "markdown",
      "metadata": {
        "id": "d0Z8RhJkZADx",
        "colab_type": "text"
      },
      "source": [
        "Finalmente llamaremos **goodprice** a la variable precio definitiva y eliminaremos las dos columnas de precio producidas por la fusión."
      ]
    },
    {
      "cell_type": "code",
      "metadata": {
        "id": "1mGb2ia6djPD",
        "colab_type": "code",
        "colab": {}
      },
      "source": [
        "dfclean['goodprice'] = dfclean['price_calendar']\n",
        "dfclean.drop(['price', 'price_calendar'], axis = 1, inplace = True)"
      ],
      "execution_count": null,
      "outputs": []
    },
    {
      "cell_type": "code",
      "metadata": {
        "id": "CJfs5554f1Eu",
        "colab_type": "code",
        "colab": {
          "base_uri": "https://localhost:8080/",
          "height": 359
        },
        "outputId": "1df35864-b800-48a5-e9fe-24bdececae42"
      },
      "source": [
        "dfclean[['month_year', 'year', 'month', 'goodprice', 'year_availability', 'availability_365']].sample(10)"
      ],
      "execution_count": null,
      "outputs": [
        {
          "output_type": "execute_result",
          "data": {
            "text/html": [
              "<div>\n",
              "<style scoped>\n",
              "    .dataframe tbody tr th:only-of-type {\n",
              "        vertical-align: middle;\n",
              "    }\n",
              "\n",
              "    .dataframe tbody tr th {\n",
              "        vertical-align: top;\n",
              "    }\n",
              "\n",
              "    .dataframe thead th {\n",
              "        text-align: right;\n",
              "    }\n",
              "</style>\n",
              "<table border=\"1\" class=\"dataframe\">\n",
              "  <thead>\n",
              "    <tr style=\"text-align: right;\">\n",
              "      <th></th>\n",
              "      <th>month_year</th>\n",
              "      <th>year</th>\n",
              "      <th>month</th>\n",
              "      <th>goodprice</th>\n",
              "      <th>year_availability</th>\n",
              "      <th>availability_365</th>\n",
              "    </tr>\n",
              "  </thead>\n",
              "  <tbody>\n",
              "    <tr>\n",
              "      <th>796340</th>\n",
              "      <td>2020-07</td>\n",
              "      <td>2020</td>\n",
              "      <td>7</td>\n",
              "      <td>110.000000</td>\n",
              "      <td>37</td>\n",
              "      <td>71</td>\n",
              "    </tr>\n",
              "    <tr>\n",
              "      <th>336611</th>\n",
              "      <td>2017-10</td>\n",
              "      <td>2017</td>\n",
              "      <td>10</td>\n",
              "      <td>30.000000</td>\n",
              "      <td>309</td>\n",
              "      <td>103</td>\n",
              "    </tr>\n",
              "    <tr>\n",
              "      <th>35444</th>\n",
              "      <td>2018-02</td>\n",
              "      <td>2018</td>\n",
              "      <td>2</td>\n",
              "      <td>85.000000</td>\n",
              "      <td>97</td>\n",
              "      <td>281</td>\n",
              "    </tr>\n",
              "    <tr>\n",
              "      <th>394317</th>\n",
              "      <td>2020-07</td>\n",
              "      <td>2020</td>\n",
              "      <td>7</td>\n",
              "      <td>89.903226</td>\n",
              "      <td>0</td>\n",
              "      <td>359</td>\n",
              "    </tr>\n",
              "    <tr>\n",
              "      <th>464160</th>\n",
              "      <td>2019-08</td>\n",
              "      <td>2019</td>\n",
              "      <td>8</td>\n",
              "      <td>195.967742</td>\n",
              "      <td>355</td>\n",
              "      <td>267</td>\n",
              "    </tr>\n",
              "    <tr>\n",
              "      <th>142069</th>\n",
              "      <td>2017-10</td>\n",
              "      <td>2017</td>\n",
              "      <td>10</td>\n",
              "      <td>42.000000</td>\n",
              "      <td>133</td>\n",
              "      <td>172</td>\n",
              "    </tr>\n",
              "    <tr>\n",
              "      <th>600748</th>\n",
              "      <td>2018-12</td>\n",
              "      <td>2018</td>\n",
              "      <td>12</td>\n",
              "      <td>16.000000</td>\n",
              "      <td>59</td>\n",
              "      <td>180</td>\n",
              "    </tr>\n",
              "    <tr>\n",
              "      <th>692889</th>\n",
              "      <td>2019-05</td>\n",
              "      <td>2019</td>\n",
              "      <td>5</td>\n",
              "      <td>25.000000</td>\n",
              "      <td>294</td>\n",
              "      <td>294</td>\n",
              "    </tr>\n",
              "    <tr>\n",
              "      <th>348414</th>\n",
              "      <td>2018-04</td>\n",
              "      <td>2018</td>\n",
              "      <td>4</td>\n",
              "      <td>30.000000</td>\n",
              "      <td>97</td>\n",
              "      <td>365</td>\n",
              "    </tr>\n",
              "    <tr>\n",
              "      <th>298108</th>\n",
              "      <td>2016-11</td>\n",
              "      <td>2016</td>\n",
              "      <td>11</td>\n",
              "      <td>30.000000</td>\n",
              "      <td>48</td>\n",
              "      <td>70</td>\n",
              "    </tr>\n",
              "  </tbody>\n",
              "</table>\n",
              "</div>"
            ],
            "text/plain": [
              "       month_year  year  month   goodprice  year_availability  availability_365\n",
              "796340    2020-07  2020      7  110.000000                 37                71\n",
              "336611    2017-10  2017     10   30.000000                309               103\n",
              "35444     2018-02  2018      2   85.000000                 97               281\n",
              "394317    2020-07  2020      7   89.903226                  0               359\n",
              "464160    2019-08  2019      8  195.967742                355               267\n",
              "142069    2017-10  2017     10   42.000000                133               172\n",
              "600748    2018-12  2018     12   16.000000                 59               180\n",
              "692889    2019-05  2019      5   25.000000                294               294\n",
              "348414    2018-04  2018      4   30.000000                 97               365\n",
              "298108    2016-11  2016     11   30.000000                 48                70"
            ]
          },
          "metadata": {
            "tags": []
          },
          "execution_count": 102
        }
      ]
    },
    {
      "cell_type": "code",
      "metadata": {
        "id": "F5eB38nonK_E",
        "colab_type": "code",
        "colab": {
          "base_uri": "https://localhost:8080/",
          "height": 479
        },
        "outputId": "261c2794-4f9d-4317-903f-563bb28249a2"
      },
      "source": [
        "print('Nos hemos quedado con un dataframe de {} filas y {} columnas\\n'.format(dfclean.shape[0], dfclean.shape[1]))\n",
        "dfclean.sample(5)"
      ],
      "execution_count": null,
      "outputs": [
        {
          "output_type": "stream",
          "text": [
            "Nos hemos quedado con un dataframe de 815440 filas y 57 columnas\n",
            "\n"
          ],
          "name": "stdout"
        },
        {
          "output_type": "execute_result",
          "data": {
            "text/html": [
              "<div>\n",
              "<style scoped>\n",
              "    .dataframe tbody tr th:only-of-type {\n",
              "        vertical-align: middle;\n",
              "    }\n",
              "\n",
              "    .dataframe tbody tr th {\n",
              "        vertical-align: top;\n",
              "    }\n",
              "\n",
              "    .dataframe thead th {\n",
              "        text-align: right;\n",
              "    }\n",
              "</style>\n",
              "<table border=\"1\" class=\"dataframe\">\n",
              "  <thead>\n",
              "    <tr style=\"text-align: right;\">\n",
              "      <th></th>\n",
              "      <th>id</th>\n",
              "      <th>host_since</th>\n",
              "      <th>host_about</th>\n",
              "      <th>host_response_time</th>\n",
              "      <th>host_is_superhost</th>\n",
              "      <th>host_listings_count</th>\n",
              "      <th>host_has_profile_pic</th>\n",
              "      <th>host_identity_verified</th>\n",
              "      <th>neighbourhood_group_cleansed</th>\n",
              "      <th>latitude</th>\n",
              "      <th>longitude</th>\n",
              "      <th>is_location_exact</th>\n",
              "      <th>property_type</th>\n",
              "      <th>room_type</th>\n",
              "      <th>accommodates</th>\n",
              "      <th>bathrooms</th>\n",
              "      <th>bedrooms</th>\n",
              "      <th>beds</th>\n",
              "      <th>security_deposit</th>\n",
              "      <th>cleaning_fee</th>\n",
              "      <th>guests_included</th>\n",
              "      <th>extra_people</th>\n",
              "      <th>minimum_nights</th>\n",
              "      <th>maximum_nights</th>\n",
              "      <th>availability_365</th>\n",
              "      <th>number_of_reviews</th>\n",
              "      <th>review_scores_rating</th>\n",
              "      <th>requires_license</th>\n",
              "      <th>instant_bookable</th>\n",
              "      <th>cancellation_policy</th>\n",
              "      <th>host_emailverified</th>\n",
              "      <th>host_phoneverified</th>\n",
              "      <th>host_hasjumio</th>\n",
              "      <th>host_reviewverified</th>\n",
              "      <th>host_selfieverified</th>\n",
              "      <th>host_idverified</th>\n",
              "      <th>Air conditioning</th>\n",
              "      <th>Family/kid friendly</th>\n",
              "      <th>Host greets you</th>\n",
              "      <th>Laptop friendly workspace</th>\n",
              "      <th>Paid parking off premises</th>\n",
              "      <th>Patio or balcony</th>\n",
              "      <th>Luggage dropoff allowed</th>\n",
              "      <th>Long term stays allowed</th>\n",
              "      <th>Smoking allowed</th>\n",
              "      <th>Step-free access</th>\n",
              "      <th>Pets allowed</th>\n",
              "      <th>24-hour check-in</th>\n",
              "      <th>Elevator</th>\n",
              "      <th>bathrooms_imput</th>\n",
              "      <th>bedrooms_imput</th>\n",
              "      <th>beds_imput</th>\n",
              "      <th>month_year</th>\n",
              "      <th>year</th>\n",
              "      <th>month</th>\n",
              "      <th>year_availability</th>\n",
              "      <th>goodprice</th>\n",
              "    </tr>\n",
              "  </thead>\n",
              "  <tbody>\n",
              "    <tr>\n",
              "      <th>322076</th>\n",
              "      <td>1015758</td>\n",
              "      <td>2011-07-11</td>\n",
              "      <td>.</td>\n",
              "      <td>within an hour</td>\n",
              "      <td>0</td>\n",
              "      <td>3.0</td>\n",
              "      <td>1</td>\n",
              "      <td>1</td>\n",
              "      <td>Gràcia</td>\n",
              "      <td>41.399941</td>\n",
              "      <td>2.162491</td>\n",
              "      <td>1</td>\n",
              "      <td>House</td>\n",
              "      <td>Private room</td>\n",
              "      <td>4</td>\n",
              "      <td>1.0</td>\n",
              "      <td>1.0</td>\n",
              "      <td>1.0</td>\n",
              "      <td>100.0</td>\n",
              "      <td>25.0</td>\n",
              "      <td>2</td>\n",
              "      <td>20.0</td>\n",
              "      <td>1</td>\n",
              "      <td>1125</td>\n",
              "      <td>293</td>\n",
              "      <td>100</td>\n",
              "      <td>Good</td>\n",
              "      <td>t</td>\n",
              "      <td>f</td>\n",
              "      <td>strict_less30</td>\n",
              "      <td>1</td>\n",
              "      <td>1</td>\n",
              "      <td>1</td>\n",
              "      <td>1</td>\n",
              "      <td>0</td>\n",
              "      <td>1</td>\n",
              "      <td>0</td>\n",
              "      <td>1</td>\n",
              "      <td>0</td>\n",
              "      <td>1</td>\n",
              "      <td>0</td>\n",
              "      <td>0</td>\n",
              "      <td>0</td>\n",
              "      <td>0</td>\n",
              "      <td>1</td>\n",
              "      <td>0</td>\n",
              "      <td>0</td>\n",
              "      <td>1</td>\n",
              "      <td>0</td>\n",
              "      <td>0</td>\n",
              "      <td>0</td>\n",
              "      <td>0</td>\n",
              "      <td>2019-09</td>\n",
              "      <td>2019</td>\n",
              "      <td>9</td>\n",
              "      <td>162</td>\n",
              "      <td>40.000000</td>\n",
              "    </tr>\n",
              "    <tr>\n",
              "      <th>668165</th>\n",
              "      <td>33107819</td>\n",
              "      <td>2019-03-14</td>\n",
              "      <td>NaN</td>\n",
              "      <td>within an hour</td>\n",
              "      <td>0</td>\n",
              "      <td>12.0</td>\n",
              "      <td>1</td>\n",
              "      <td>0</td>\n",
              "      <td>Ciutat Vella</td>\n",
              "      <td>41.381550</td>\n",
              "      <td>2.165320</td>\n",
              "      <td>0</td>\n",
              "      <td>Apartment</td>\n",
              "      <td>Private room</td>\n",
              "      <td>3</td>\n",
              "      <td>1.0</td>\n",
              "      <td>1.0</td>\n",
              "      <td>2.0</td>\n",
              "      <td>0.0</td>\n",
              "      <td>0.0</td>\n",
              "      <td>1</td>\n",
              "      <td>0.0</td>\n",
              "      <td>1</td>\n",
              "      <td>1125</td>\n",
              "      <td>1</td>\n",
              "      <td>0</td>\n",
              "      <td>Unavailable</td>\n",
              "      <td>t</td>\n",
              "      <td>t</td>\n",
              "      <td>strict_less30</td>\n",
              "      <td>0</td>\n",
              "      <td>1</td>\n",
              "      <td>0</td>\n",
              "      <td>0</td>\n",
              "      <td>0</td>\n",
              "      <td>0</td>\n",
              "      <td>0</td>\n",
              "      <td>0</td>\n",
              "      <td>0</td>\n",
              "      <td>1</td>\n",
              "      <td>0</td>\n",
              "      <td>0</td>\n",
              "      <td>0</td>\n",
              "      <td>0</td>\n",
              "      <td>0</td>\n",
              "      <td>0</td>\n",
              "      <td>0</td>\n",
              "      <td>0</td>\n",
              "      <td>0</td>\n",
              "      <td>0</td>\n",
              "      <td>0</td>\n",
              "      <td>0</td>\n",
              "      <td>2019-04</td>\n",
              "      <td>2019</td>\n",
              "      <td>4</td>\n",
              "      <td>1</td>\n",
              "      <td>66.809524</td>\n",
              "    </tr>\n",
              "    <tr>\n",
              "      <th>353312</th>\n",
              "      <td>17429193</td>\n",
              "      <td>2012-12-21</td>\n",
              "      <td>Hi everyone!\\r\\n\\r\\nI'm Jacques and I work in ...</td>\n",
              "      <td>within an hour</td>\n",
              "      <td>0</td>\n",
              "      <td>91.0</td>\n",
              "      <td>1</td>\n",
              "      <td>1</td>\n",
              "      <td>Sant Martí</td>\n",
              "      <td>41.395613</td>\n",
              "      <td>2.201631</td>\n",
              "      <td>1</td>\n",
              "      <td>Apartment</td>\n",
              "      <td>Entire home/apt</td>\n",
              "      <td>4</td>\n",
              "      <td>2.0</td>\n",
              "      <td>2.0</td>\n",
              "      <td>3.0</td>\n",
              "      <td>150.0</td>\n",
              "      <td>100.0</td>\n",
              "      <td>1</td>\n",
              "      <td>0.0</td>\n",
              "      <td>3</td>\n",
              "      <td>1125</td>\n",
              "      <td>252</td>\n",
              "      <td>0</td>\n",
              "      <td>Unavailable</td>\n",
              "      <td>t</td>\n",
              "      <td>t</td>\n",
              "      <td>strict_less30</td>\n",
              "      <td>1</td>\n",
              "      <td>1</td>\n",
              "      <td>1</td>\n",
              "      <td>1</td>\n",
              "      <td>0</td>\n",
              "      <td>0</td>\n",
              "      <td>1</td>\n",
              "      <td>1</td>\n",
              "      <td>0</td>\n",
              "      <td>1</td>\n",
              "      <td>0</td>\n",
              "      <td>0</td>\n",
              "      <td>0</td>\n",
              "      <td>0</td>\n",
              "      <td>0</td>\n",
              "      <td>0</td>\n",
              "      <td>0</td>\n",
              "      <td>0</td>\n",
              "      <td>1</td>\n",
              "      <td>0</td>\n",
              "      <td>0</td>\n",
              "      <td>0</td>\n",
              "      <td>2018-04</td>\n",
              "      <td>2018</td>\n",
              "      <td>4</td>\n",
              "      <td>97</td>\n",
              "      <td>300.000000</td>\n",
              "    </tr>\n",
              "    <tr>\n",
              "      <th>28276</th>\n",
              "      <td>8122193</td>\n",
              "      <td>2015-08-30</td>\n",
              "      <td>HOLA! We are a welcoming, respectful and frien...</td>\n",
              "      <td>within an hour</td>\n",
              "      <td>0</td>\n",
              "      <td>1.0</td>\n",
              "      <td>1</td>\n",
              "      <td>1</td>\n",
              "      <td>Ciutat Vella</td>\n",
              "      <td>41.380533</td>\n",
              "      <td>2.175454</td>\n",
              "      <td>1</td>\n",
              "      <td>Apartment</td>\n",
              "      <td>Private room</td>\n",
              "      <td>3</td>\n",
              "      <td>1.0</td>\n",
              "      <td>1.0</td>\n",
              "      <td>1.0</td>\n",
              "      <td>0.0</td>\n",
              "      <td>0.0</td>\n",
              "      <td>2</td>\n",
              "      <td>8.0</td>\n",
              "      <td>3</td>\n",
              "      <td>15</td>\n",
              "      <td>158</td>\n",
              "      <td>54</td>\n",
              "      <td>Excellent</td>\n",
              "      <td>t</td>\n",
              "      <td>f</td>\n",
              "      <td>strict_less30</td>\n",
              "      <td>1</td>\n",
              "      <td>1</td>\n",
              "      <td>1</td>\n",
              "      <td>1</td>\n",
              "      <td>0</td>\n",
              "      <td>0</td>\n",
              "      <td>1</td>\n",
              "      <td>1</td>\n",
              "      <td>0</td>\n",
              "      <td>1</td>\n",
              "      <td>0</td>\n",
              "      <td>0</td>\n",
              "      <td>0</td>\n",
              "      <td>0</td>\n",
              "      <td>0</td>\n",
              "      <td>0</td>\n",
              "      <td>0</td>\n",
              "      <td>1</td>\n",
              "      <td>1</td>\n",
              "      <td>0</td>\n",
              "      <td>0</td>\n",
              "      <td>0</td>\n",
              "      <td>2020-11</td>\n",
              "      <td>2020</td>\n",
              "      <td>11</td>\n",
              "      <td>174</td>\n",
              "      <td>52.000000</td>\n",
              "    </tr>\n",
              "    <tr>\n",
              "      <th>424162</th>\n",
              "      <td>22351667</td>\n",
              "      <td>2015-06-04</td>\n",
              "      <td>Passionate traveler, in love with life and goo...</td>\n",
              "      <td>within a few hours</td>\n",
              "      <td>0</td>\n",
              "      <td>5.0</td>\n",
              "      <td>1</td>\n",
              "      <td>0</td>\n",
              "      <td>Ciutat Vella</td>\n",
              "      <td>41.380492</td>\n",
              "      <td>2.185713</td>\n",
              "      <td>1</td>\n",
              "      <td>Other</td>\n",
              "      <td>Entire home/apt</td>\n",
              "      <td>7</td>\n",
              "      <td>1.0</td>\n",
              "      <td>4.0</td>\n",
              "      <td>4.0</td>\n",
              "      <td>0.0</td>\n",
              "      <td>100.0</td>\n",
              "      <td>1</td>\n",
              "      <td>0.0</td>\n",
              "      <td>2</td>\n",
              "      <td>40</td>\n",
              "      <td>363</td>\n",
              "      <td>0</td>\n",
              "      <td>Unavailable</td>\n",
              "      <td>t</td>\n",
              "      <td>t</td>\n",
              "      <td>strict_less30</td>\n",
              "      <td>1</td>\n",
              "      <td>1</td>\n",
              "      <td>1</td>\n",
              "      <td>1</td>\n",
              "      <td>1</td>\n",
              "      <td>1</td>\n",
              "      <td>0</td>\n",
              "      <td>1</td>\n",
              "      <td>0</td>\n",
              "      <td>0</td>\n",
              "      <td>0</td>\n",
              "      <td>0</td>\n",
              "      <td>0</td>\n",
              "      <td>0</td>\n",
              "      <td>1</td>\n",
              "      <td>0</td>\n",
              "      <td>0</td>\n",
              "      <td>0</td>\n",
              "      <td>0</td>\n",
              "      <td>0</td>\n",
              "      <td>0</td>\n",
              "      <td>0</td>\n",
              "      <td>2020-10</td>\n",
              "      <td>2020</td>\n",
              "      <td>10</td>\n",
              "      <td>288</td>\n",
              "      <td>671.428571</td>\n",
              "    </tr>\n",
              "  </tbody>\n",
              "</table>\n",
              "</div>"
            ],
            "text/plain": [
              "              id  host_since  ... year_availability   goodprice\n",
              "322076   1015758  2011-07-11  ...               162   40.000000\n",
              "668165  33107819  2019-03-14  ...                 1   66.809524\n",
              "353312  17429193  2012-12-21  ...                97  300.000000\n",
              "28276    8122193  2015-08-30  ...               174   52.000000\n",
              "424162  22351667  2015-06-04  ...               288  671.428571\n",
              "\n",
              "[5 rows x 57 columns]"
            ]
          },
          "metadata": {
            "tags": []
          },
          "execution_count": 103
        }
      ]
    },
    {
      "cell_type": "markdown",
      "metadata": {
        "id": "4Qz6qRY5msqI",
        "colab_type": "text"
      },
      "source": [
        "**HASTA AQUÍ LLEGA EL NOTEBOOK/SCRIPT DE LIMPIEZA** El dataframe limpio es transformado en un csv, pickle, o el archivo conveniente a través de la libería pandas para su posterior tratamiento en la **FASE 2: EXPLORACIÓN**"
      ]
    }
  ]
}